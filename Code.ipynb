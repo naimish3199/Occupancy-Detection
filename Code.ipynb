{
  "cells": [
    {
      "cell_type": "markdown",
      "metadata": {
        "id": "M_nWwDFD1-I_"
      },
      "source": [
        "##Importing Libraries"
      ]
    },
    {
      "cell_type": "code",
      "execution_count": 74,
      "metadata": {
        "id": "UdlHncvHqbMw"
      },
      "outputs": [],
      "source": [
        "import numpy as np  \n",
        "import pandas as pd\n",
        "import matplotlib.pyplot as plt\n",
        "import seaborn as sns\n",
        "from sklearn.preprocessing import StandardScaler"
      ]
    },
    {
      "cell_type": "markdown",
      "metadata": {
        "id": "apHGd4Yt2Eu6"
      },
      "source": [
        "##Importing Datasets"
      ]
    },
    {
      "cell_type": "code",
      "execution_count": null,
      "metadata": {
        "id": "ZyDjLuYeUFyi"
      },
      "outputs": [],
      "source": [
        "from google.colab import files\n",
        "uploaded = files.upload()"
      ]
    },
    {
      "cell_type": "markdown",
      "metadata": {
        "id": "6-GyZtI_fohX"
      },
      "source": [
        "Removed 'date' column from all 3 datasets"
      ]
    },
    {
      "cell_type": "code",
      "execution_count": 75,
      "metadata": {
        "id": "7jM0oFTUqhvz"
      },
      "outputs": [],
      "source": [
        "df1 = pd.read_csv(\"datatraining.txt\")\n",
        "df1 = df1.drop(['date'], axis = 1)                           # df1 is for training\n",
        "df1.to_csv('datatraining.csv', index = None )                # storing this dataframe in a csv file\n",
        "                   \n",
        "df2 = pd.read_csv(\"datatest.txt\")\n",
        "df2 = df2.drop(['date'], axis = 1)                           # df2 is for testing\n",
        "df2.to_csv('datatest.csv',  index = None)                    # storing this dataframe in a csv file\n",
        "\n",
        "df3 = pd.read_csv(\"datatest2.txt\")\n",
        "df3 = df3.drop(['date'], axis = 1)                           # df3 is for testing\n",
        "df3.to_csv('datatest2.csv',  index = None)                  # storing this dataframe in a csv file"
      ]
    },
    {
      "cell_type": "code",
      "execution_count": 76,
      "metadata": {
        "colab": {
          "base_uri": "https://localhost:8080/"
        },
        "id": "LwLwvqMzp2Ye",
        "outputId": "d1421363-d2a4-46dd-fe78-89a31c786ac2"
      },
      "outputs": [
        {
          "output_type": "stream",
          "name": "stdout",
          "text": [
            "(8143, 6)\n",
            "(2665, 6)\n",
            "(9752, 6)\n"
          ]
        }
      ],
      "source": [
        "print(df1.shape)\n",
        "print(df2.shape)\n",
        "print(df3.shape)"
      ]
    },
    {
      "cell_type": "code",
      "execution_count": 77,
      "metadata": {
        "colab": {
          "base_uri": "https://localhost:8080/",
          "height": 206
        },
        "id": "2zroPMmagDcv",
        "outputId": "2e405525-7b0a-41a4-f023-67064a7a68ac"
      },
      "outputs": [
        {
          "output_type": "execute_result",
          "data": {
            "text/html": [
              "\n",
              "  <div id=\"df-898bc611-4ffc-423c-8585-47f14f5a69e7\">\n",
              "    <div class=\"colab-df-container\">\n",
              "      <div>\n",
              "<style scoped>\n",
              "    .dataframe tbody tr th:only-of-type {\n",
              "        vertical-align: middle;\n",
              "    }\n",
              "\n",
              "    .dataframe tbody tr th {\n",
              "        vertical-align: top;\n",
              "    }\n",
              "\n",
              "    .dataframe thead th {\n",
              "        text-align: right;\n",
              "    }\n",
              "</style>\n",
              "<table border=\"1\" class=\"dataframe\">\n",
              "  <thead>\n",
              "    <tr style=\"text-align: right;\">\n",
              "      <th></th>\n",
              "      <th>Temperature</th>\n",
              "      <th>Humidity</th>\n",
              "      <th>Light</th>\n",
              "      <th>CO2</th>\n",
              "      <th>HumidityRatio</th>\n",
              "      <th>Occupancy</th>\n",
              "    </tr>\n",
              "  </thead>\n",
              "  <tbody>\n",
              "    <tr>\n",
              "      <th>140</th>\n",
              "      <td>23.7000</td>\n",
              "      <td>26.272</td>\n",
              "      <td>585.200000</td>\n",
              "      <td>749.200000</td>\n",
              "      <td>0.004764</td>\n",
              "      <td>1</td>\n",
              "    </tr>\n",
              "    <tr>\n",
              "      <th>141</th>\n",
              "      <td>23.7180</td>\n",
              "      <td>26.290</td>\n",
              "      <td>578.400000</td>\n",
              "      <td>760.400000</td>\n",
              "      <td>0.004773</td>\n",
              "      <td>1</td>\n",
              "    </tr>\n",
              "    <tr>\n",
              "      <th>142</th>\n",
              "      <td>23.7300</td>\n",
              "      <td>26.230</td>\n",
              "      <td>572.666667</td>\n",
              "      <td>769.666667</td>\n",
              "      <td>0.004765</td>\n",
              "      <td>1</td>\n",
              "    </tr>\n",
              "    <tr>\n",
              "      <th>143</th>\n",
              "      <td>23.7225</td>\n",
              "      <td>26.125</td>\n",
              "      <td>493.750000</td>\n",
              "      <td>774.750000</td>\n",
              "      <td>0.004744</td>\n",
              "      <td>1</td>\n",
              "    </tr>\n",
              "    <tr>\n",
              "      <th>144</th>\n",
              "      <td>23.7540</td>\n",
              "      <td>26.200</td>\n",
              "      <td>488.600000</td>\n",
              "      <td>779.000000</td>\n",
              "      <td>0.004767</td>\n",
              "      <td>1</td>\n",
              "    </tr>\n",
              "  </tbody>\n",
              "</table>\n",
              "</div>\n",
              "      <button class=\"colab-df-convert\" onclick=\"convertToInteractive('df-898bc611-4ffc-423c-8585-47f14f5a69e7')\"\n",
              "              title=\"Convert this dataframe to an interactive table.\"\n",
              "              style=\"display:none;\">\n",
              "        \n",
              "  <svg xmlns=\"http://www.w3.org/2000/svg\" height=\"24px\"viewBox=\"0 0 24 24\"\n",
              "       width=\"24px\">\n",
              "    <path d=\"M0 0h24v24H0V0z\" fill=\"none\"/>\n",
              "    <path d=\"M18.56 5.44l.94 2.06.94-2.06 2.06-.94-2.06-.94-.94-2.06-.94 2.06-2.06.94zm-11 1L8.5 8.5l.94-2.06 2.06-.94-2.06-.94L8.5 2.5l-.94 2.06-2.06.94zm10 10l.94 2.06.94-2.06 2.06-.94-2.06-.94-.94-2.06-.94 2.06-2.06.94z\"/><path d=\"M17.41 7.96l-1.37-1.37c-.4-.4-.92-.59-1.43-.59-.52 0-1.04.2-1.43.59L10.3 9.45l-7.72 7.72c-.78.78-.78 2.05 0 2.83L4 21.41c.39.39.9.59 1.41.59.51 0 1.02-.2 1.41-.59l7.78-7.78 2.81-2.81c.8-.78.8-2.07 0-2.86zM5.41 20L4 18.59l7.72-7.72 1.47 1.35L5.41 20z\"/>\n",
              "  </svg>\n",
              "      </button>\n",
              "      \n",
              "  <style>\n",
              "    .colab-df-container {\n",
              "      display:flex;\n",
              "      flex-wrap:wrap;\n",
              "      gap: 12px;\n",
              "    }\n",
              "\n",
              "    .colab-df-convert {\n",
              "      background-color: #E8F0FE;\n",
              "      border: none;\n",
              "      border-radius: 50%;\n",
              "      cursor: pointer;\n",
              "      display: none;\n",
              "      fill: #1967D2;\n",
              "      height: 32px;\n",
              "      padding: 0 0 0 0;\n",
              "      width: 32px;\n",
              "    }\n",
              "\n",
              "    .colab-df-convert:hover {\n",
              "      background-color: #E2EBFA;\n",
              "      box-shadow: 0px 1px 2px rgba(60, 64, 67, 0.3), 0px 1px 3px 1px rgba(60, 64, 67, 0.15);\n",
              "      fill: #174EA6;\n",
              "    }\n",
              "\n",
              "    [theme=dark] .colab-df-convert {\n",
              "      background-color: #3B4455;\n",
              "      fill: #D2E3FC;\n",
              "    }\n",
              "\n",
              "    [theme=dark] .colab-df-convert:hover {\n",
              "      background-color: #434B5C;\n",
              "      box-shadow: 0px 1px 3px 1px rgba(0, 0, 0, 0.15);\n",
              "      filter: drop-shadow(0px 1px 2px rgba(0, 0, 0, 0.3));\n",
              "      fill: #FFFFFF;\n",
              "    }\n",
              "  </style>\n",
              "\n",
              "      <script>\n",
              "        const buttonEl =\n",
              "          document.querySelector('#df-898bc611-4ffc-423c-8585-47f14f5a69e7 button.colab-df-convert');\n",
              "        buttonEl.style.display =\n",
              "          google.colab.kernel.accessAllowed ? 'block' : 'none';\n",
              "\n",
              "        async function convertToInteractive(key) {\n",
              "          const element = document.querySelector('#df-898bc611-4ffc-423c-8585-47f14f5a69e7');\n",
              "          const dataTable =\n",
              "            await google.colab.kernel.invokeFunction('convertToInteractive',\n",
              "                                                     [key], {});\n",
              "          if (!dataTable) return;\n",
              "\n",
              "          const docLinkHtml = 'Like what you see? Visit the ' +\n",
              "            '<a target=\"_blank\" href=https://colab.research.google.com/notebooks/data_table.ipynb>data table notebook</a>'\n",
              "            + ' to learn more about interactive tables.';\n",
              "          element.innerHTML = '';\n",
              "          dataTable['output_type'] = 'display_data';\n",
              "          await google.colab.output.renderOutput(dataTable, element);\n",
              "          const docLink = document.createElement('div');\n",
              "          docLink.innerHTML = docLinkHtml;\n",
              "          element.appendChild(docLink);\n",
              "        }\n",
              "      </script>\n",
              "    </div>\n",
              "  </div>\n",
              "  "
            ],
            "text/plain": [
              "     Temperature  Humidity       Light         CO2  HumidityRatio  Occupancy\n",
              "140      23.7000    26.272  585.200000  749.200000       0.004764          1\n",
              "141      23.7180    26.290  578.400000  760.400000       0.004773          1\n",
              "142      23.7300    26.230  572.666667  769.666667       0.004765          1\n",
              "143      23.7225    26.125  493.750000  774.750000       0.004744          1\n",
              "144      23.7540    26.200  488.600000  779.000000       0.004767          1"
            ]
          },
          "metadata": {},
          "execution_count": 77
        }
      ],
      "source": [
        "df2.head()"
      ]
    },
    {
      "cell_type": "code",
      "execution_count": 78,
      "metadata": {
        "colab": {
          "base_uri": "https://localhost:8080/"
        },
        "id": "_NtYrwBtiIXa",
        "outputId": "d51b55da-b9f9-4098-f979-78eb6a00f803"
      },
      "outputs": [
        {
          "output_type": "execute_result",
          "data": {
            "text/plain": [
              "0"
            ]
          },
          "metadata": {},
          "execution_count": 78
        }
      ],
      "source": [
        "df1.isna().any().sum()"
      ]
    },
    {
      "cell_type": "code",
      "execution_count": 79,
      "metadata": {
        "colab": {
          "base_uri": "https://localhost:8080/"
        },
        "id": "T6ulGJ3eiiz8",
        "outputId": "bffe1532-b6e1-48ad-bde1-66bd82091d61"
      },
      "outputs": [
        {
          "output_type": "execute_result",
          "data": {
            "text/plain": [
              "0"
            ]
          },
          "metadata": {},
          "execution_count": 79
        }
      ],
      "source": [
        "df2.isna().any().sum()"
      ]
    },
    {
      "cell_type": "code",
      "execution_count": 80,
      "metadata": {
        "colab": {
          "base_uri": "https://localhost:8080/"
        },
        "id": "d4YBRnfdilFp",
        "outputId": "4ab667d2-1f15-44bc-98fb-1df725512ab7"
      },
      "outputs": [
        {
          "output_type": "execute_result",
          "data": {
            "text/plain": [
              "0"
            ]
          },
          "metadata": {},
          "execution_count": 80
        }
      ],
      "source": [
        "df3.isna().any().sum()"
      ]
    },
    {
      "cell_type": "code",
      "execution_count": 81,
      "metadata": {
        "colab": {
          "base_uri": "https://localhost:8080/",
          "height": 424
        },
        "id": "gqwrVEW9k7Gd",
        "outputId": "5e1e42bb-8d1e-4973-a6ce-52fccdce7b37"
      },
      "outputs": [
        {
          "output_type": "execute_result",
          "data": {
            "text/html": [
              "\n",
              "  <div id=\"df-01db1491-8a7f-4b24-8f67-83a145962ecc\">\n",
              "    <div class=\"colab-df-container\">\n",
              "      <div>\n",
              "<style scoped>\n",
              "    .dataframe tbody tr th:only-of-type {\n",
              "        vertical-align: middle;\n",
              "    }\n",
              "\n",
              "    .dataframe tbody tr th {\n",
              "        vertical-align: top;\n",
              "    }\n",
              "\n",
              "    .dataframe thead th {\n",
              "        text-align: right;\n",
              "    }\n",
              "</style>\n",
              "<table border=\"1\" class=\"dataframe\">\n",
              "  <thead>\n",
              "    <tr style=\"text-align: right;\">\n",
              "      <th></th>\n",
              "      <th>Temperature</th>\n",
              "      <th>Humidity</th>\n",
              "      <th>Light</th>\n",
              "      <th>CO2</th>\n",
              "      <th>HumidityRatio</th>\n",
              "      <th>Occupancy</th>\n",
              "    </tr>\n",
              "  </thead>\n",
              "  <tbody>\n",
              "    <tr>\n",
              "      <th>1</th>\n",
              "      <td>23.18</td>\n",
              "      <td>27.2720</td>\n",
              "      <td>426.0</td>\n",
              "      <td>721.250000</td>\n",
              "      <td>0.004793</td>\n",
              "      <td>1</td>\n",
              "    </tr>\n",
              "    <tr>\n",
              "      <th>2</th>\n",
              "      <td>23.15</td>\n",
              "      <td>27.2675</td>\n",
              "      <td>429.5</td>\n",
              "      <td>714.000000</td>\n",
              "      <td>0.004783</td>\n",
              "      <td>1</td>\n",
              "    </tr>\n",
              "    <tr>\n",
              "      <th>3</th>\n",
              "      <td>23.15</td>\n",
              "      <td>27.2450</td>\n",
              "      <td>426.0</td>\n",
              "      <td>713.500000</td>\n",
              "      <td>0.004779</td>\n",
              "      <td>1</td>\n",
              "    </tr>\n",
              "    <tr>\n",
              "      <th>4</th>\n",
              "      <td>23.15</td>\n",
              "      <td>27.2000</td>\n",
              "      <td>426.0</td>\n",
              "      <td>708.250000</td>\n",
              "      <td>0.004772</td>\n",
              "      <td>1</td>\n",
              "    </tr>\n",
              "    <tr>\n",
              "      <th>5</th>\n",
              "      <td>23.10</td>\n",
              "      <td>27.2000</td>\n",
              "      <td>426.0</td>\n",
              "      <td>704.500000</td>\n",
              "      <td>0.004757</td>\n",
              "      <td>1</td>\n",
              "    </tr>\n",
              "    <tr>\n",
              "      <th>...</th>\n",
              "      <td>...</td>\n",
              "      <td>...</td>\n",
              "      <td>...</td>\n",
              "      <td>...</td>\n",
              "      <td>...</td>\n",
              "      <td>...</td>\n",
              "    </tr>\n",
              "    <tr>\n",
              "      <th>8139</th>\n",
              "      <td>21.05</td>\n",
              "      <td>36.0975</td>\n",
              "      <td>433.0</td>\n",
              "      <td>787.250000</td>\n",
              "      <td>0.005579</td>\n",
              "      <td>1</td>\n",
              "    </tr>\n",
              "    <tr>\n",
              "      <th>8140</th>\n",
              "      <td>21.05</td>\n",
              "      <td>35.9950</td>\n",
              "      <td>433.0</td>\n",
              "      <td>789.500000</td>\n",
              "      <td>0.005563</td>\n",
              "      <td>1</td>\n",
              "    </tr>\n",
              "    <tr>\n",
              "      <th>8141</th>\n",
              "      <td>21.10</td>\n",
              "      <td>36.0950</td>\n",
              "      <td>433.0</td>\n",
              "      <td>798.500000</td>\n",
              "      <td>0.005596</td>\n",
              "      <td>1</td>\n",
              "    </tr>\n",
              "    <tr>\n",
              "      <th>8142</th>\n",
              "      <td>21.10</td>\n",
              "      <td>36.2600</td>\n",
              "      <td>433.0</td>\n",
              "      <td>820.333333</td>\n",
              "      <td>0.005621</td>\n",
              "      <td>1</td>\n",
              "    </tr>\n",
              "    <tr>\n",
              "      <th>8143</th>\n",
              "      <td>21.10</td>\n",
              "      <td>36.2000</td>\n",
              "      <td>447.0</td>\n",
              "      <td>821.000000</td>\n",
              "      <td>0.005612</td>\n",
              "      <td>1</td>\n",
              "    </tr>\n",
              "  </tbody>\n",
              "</table>\n",
              "<p>8143 rows × 6 columns</p>\n",
              "</div>\n",
              "      <button class=\"colab-df-convert\" onclick=\"convertToInteractive('df-01db1491-8a7f-4b24-8f67-83a145962ecc')\"\n",
              "              title=\"Convert this dataframe to an interactive table.\"\n",
              "              style=\"display:none;\">\n",
              "        \n",
              "  <svg xmlns=\"http://www.w3.org/2000/svg\" height=\"24px\"viewBox=\"0 0 24 24\"\n",
              "       width=\"24px\">\n",
              "    <path d=\"M0 0h24v24H0V0z\" fill=\"none\"/>\n",
              "    <path d=\"M18.56 5.44l.94 2.06.94-2.06 2.06-.94-2.06-.94-.94-2.06-.94 2.06-2.06.94zm-11 1L8.5 8.5l.94-2.06 2.06-.94-2.06-.94L8.5 2.5l-.94 2.06-2.06.94zm10 10l.94 2.06.94-2.06 2.06-.94-2.06-.94-.94-2.06-.94 2.06-2.06.94z\"/><path d=\"M17.41 7.96l-1.37-1.37c-.4-.4-.92-.59-1.43-.59-.52 0-1.04.2-1.43.59L10.3 9.45l-7.72 7.72c-.78.78-.78 2.05 0 2.83L4 21.41c.39.39.9.59 1.41.59.51 0 1.02-.2 1.41-.59l7.78-7.78 2.81-2.81c.8-.78.8-2.07 0-2.86zM5.41 20L4 18.59l7.72-7.72 1.47 1.35L5.41 20z\"/>\n",
              "  </svg>\n",
              "      </button>\n",
              "      \n",
              "  <style>\n",
              "    .colab-df-container {\n",
              "      display:flex;\n",
              "      flex-wrap:wrap;\n",
              "      gap: 12px;\n",
              "    }\n",
              "\n",
              "    .colab-df-convert {\n",
              "      background-color: #E8F0FE;\n",
              "      border: none;\n",
              "      border-radius: 50%;\n",
              "      cursor: pointer;\n",
              "      display: none;\n",
              "      fill: #1967D2;\n",
              "      height: 32px;\n",
              "      padding: 0 0 0 0;\n",
              "      width: 32px;\n",
              "    }\n",
              "\n",
              "    .colab-df-convert:hover {\n",
              "      background-color: #E2EBFA;\n",
              "      box-shadow: 0px 1px 2px rgba(60, 64, 67, 0.3), 0px 1px 3px 1px rgba(60, 64, 67, 0.15);\n",
              "      fill: #174EA6;\n",
              "    }\n",
              "\n",
              "    [theme=dark] .colab-df-convert {\n",
              "      background-color: #3B4455;\n",
              "      fill: #D2E3FC;\n",
              "    }\n",
              "\n",
              "    [theme=dark] .colab-df-convert:hover {\n",
              "      background-color: #434B5C;\n",
              "      box-shadow: 0px 1px 3px 1px rgba(0, 0, 0, 0.15);\n",
              "      filter: drop-shadow(0px 1px 2px rgba(0, 0, 0, 0.3));\n",
              "      fill: #FFFFFF;\n",
              "    }\n",
              "  </style>\n",
              "\n",
              "      <script>\n",
              "        const buttonEl =\n",
              "          document.querySelector('#df-01db1491-8a7f-4b24-8f67-83a145962ecc button.colab-df-convert');\n",
              "        buttonEl.style.display =\n",
              "          google.colab.kernel.accessAllowed ? 'block' : 'none';\n",
              "\n",
              "        async function convertToInteractive(key) {\n",
              "          const element = document.querySelector('#df-01db1491-8a7f-4b24-8f67-83a145962ecc');\n",
              "          const dataTable =\n",
              "            await google.colab.kernel.invokeFunction('convertToInteractive',\n",
              "                                                     [key], {});\n",
              "          if (!dataTable) return;\n",
              "\n",
              "          const docLinkHtml = 'Like what you see? Visit the ' +\n",
              "            '<a target=\"_blank\" href=https://colab.research.google.com/notebooks/data_table.ipynb>data table notebook</a>'\n",
              "            + ' to learn more about interactive tables.';\n",
              "          element.innerHTML = '';\n",
              "          dataTable['output_type'] = 'display_data';\n",
              "          await google.colab.output.renderOutput(dataTable, element);\n",
              "          const docLink = document.createElement('div');\n",
              "          docLink.innerHTML = docLinkHtml;\n",
              "          element.appendChild(docLink);\n",
              "        }\n",
              "      </script>\n",
              "    </div>\n",
              "  </div>\n",
              "  "
            ],
            "text/plain": [
              "      Temperature  Humidity  Light         CO2  HumidityRatio  Occupancy\n",
              "1           23.18   27.2720  426.0  721.250000       0.004793          1\n",
              "2           23.15   27.2675  429.5  714.000000       0.004783          1\n",
              "3           23.15   27.2450  426.0  713.500000       0.004779          1\n",
              "4           23.15   27.2000  426.0  708.250000       0.004772          1\n",
              "5           23.10   27.2000  426.0  704.500000       0.004757          1\n",
              "...           ...       ...    ...         ...            ...        ...\n",
              "8139        21.05   36.0975  433.0  787.250000       0.005579          1\n",
              "8140        21.05   35.9950  433.0  789.500000       0.005563          1\n",
              "8141        21.10   36.0950  433.0  798.500000       0.005596          1\n",
              "8142        21.10   36.2600  433.0  820.333333       0.005621          1\n",
              "8143        21.10   36.2000  447.0  821.000000       0.005612          1\n",
              "\n",
              "[8143 rows x 6 columns]"
            ]
          },
          "metadata": {},
          "execution_count": 81
        }
      ],
      "source": [
        "df1"
      ]
    },
    {
      "cell_type": "code",
      "execution_count": 82,
      "metadata": {
        "colab": {
          "base_uri": "https://localhost:8080/",
          "height": 206
        },
        "id": "8dJCTy0MuUL_",
        "outputId": "f5fc207b-603e-4e55-9baa-84c1741e50c4"
      },
      "outputs": [
        {
          "output_type": "execute_result",
          "data": {
            "text/html": [
              "\n",
              "  <div id=\"df-c68ce65d-3ef3-493c-9faa-18c9d7a04324\">\n",
              "    <div class=\"colab-df-container\">\n",
              "      <div>\n",
              "<style scoped>\n",
              "    .dataframe tbody tr th:only-of-type {\n",
              "        vertical-align: middle;\n",
              "    }\n",
              "\n",
              "    .dataframe tbody tr th {\n",
              "        vertical-align: top;\n",
              "    }\n",
              "\n",
              "    .dataframe thead th {\n",
              "        text-align: right;\n",
              "    }\n",
              "</style>\n",
              "<table border=\"1\" class=\"dataframe\">\n",
              "  <thead>\n",
              "    <tr style=\"text-align: right;\">\n",
              "      <th></th>\n",
              "      <th>Temperature</th>\n",
              "      <th>Humidity</th>\n",
              "      <th>Light</th>\n",
              "      <th>CO2</th>\n",
              "      <th>HumidityRatio</th>\n",
              "      <th>Occupancy</th>\n",
              "    </tr>\n",
              "  </thead>\n",
              "  <tbody>\n",
              "    <tr>\n",
              "      <th>1</th>\n",
              "      <td>23.7000</td>\n",
              "      <td>26.272</td>\n",
              "      <td>585.200000</td>\n",
              "      <td>749.200000</td>\n",
              "      <td>0.004764</td>\n",
              "      <td>1</td>\n",
              "    </tr>\n",
              "    <tr>\n",
              "      <th>2</th>\n",
              "      <td>23.7180</td>\n",
              "      <td>26.290</td>\n",
              "      <td>578.400000</td>\n",
              "      <td>760.400000</td>\n",
              "      <td>0.004773</td>\n",
              "      <td>1</td>\n",
              "    </tr>\n",
              "    <tr>\n",
              "      <th>3</th>\n",
              "      <td>23.7300</td>\n",
              "      <td>26.230</td>\n",
              "      <td>572.666667</td>\n",
              "      <td>769.666667</td>\n",
              "      <td>0.004765</td>\n",
              "      <td>1</td>\n",
              "    </tr>\n",
              "    <tr>\n",
              "      <th>4</th>\n",
              "      <td>23.7225</td>\n",
              "      <td>26.125</td>\n",
              "      <td>493.750000</td>\n",
              "      <td>774.750000</td>\n",
              "      <td>0.004744</td>\n",
              "      <td>1</td>\n",
              "    </tr>\n",
              "    <tr>\n",
              "      <th>5</th>\n",
              "      <td>23.7540</td>\n",
              "      <td>26.200</td>\n",
              "      <td>488.600000</td>\n",
              "      <td>779.000000</td>\n",
              "      <td>0.004767</td>\n",
              "      <td>1</td>\n",
              "    </tr>\n",
              "  </tbody>\n",
              "</table>\n",
              "</div>\n",
              "      <button class=\"colab-df-convert\" onclick=\"convertToInteractive('df-c68ce65d-3ef3-493c-9faa-18c9d7a04324')\"\n",
              "              title=\"Convert this dataframe to an interactive table.\"\n",
              "              style=\"display:none;\">\n",
              "        \n",
              "  <svg xmlns=\"http://www.w3.org/2000/svg\" height=\"24px\"viewBox=\"0 0 24 24\"\n",
              "       width=\"24px\">\n",
              "    <path d=\"M0 0h24v24H0V0z\" fill=\"none\"/>\n",
              "    <path d=\"M18.56 5.44l.94 2.06.94-2.06 2.06-.94-2.06-.94-.94-2.06-.94 2.06-2.06.94zm-11 1L8.5 8.5l.94-2.06 2.06-.94-2.06-.94L8.5 2.5l-.94 2.06-2.06.94zm10 10l.94 2.06.94-2.06 2.06-.94-2.06-.94-.94-2.06-.94 2.06-2.06.94z\"/><path d=\"M17.41 7.96l-1.37-1.37c-.4-.4-.92-.59-1.43-.59-.52 0-1.04.2-1.43.59L10.3 9.45l-7.72 7.72c-.78.78-.78 2.05 0 2.83L4 21.41c.39.39.9.59 1.41.59.51 0 1.02-.2 1.41-.59l7.78-7.78 2.81-2.81c.8-.78.8-2.07 0-2.86zM5.41 20L4 18.59l7.72-7.72 1.47 1.35L5.41 20z\"/>\n",
              "  </svg>\n",
              "      </button>\n",
              "      \n",
              "  <style>\n",
              "    .colab-df-container {\n",
              "      display:flex;\n",
              "      flex-wrap:wrap;\n",
              "      gap: 12px;\n",
              "    }\n",
              "\n",
              "    .colab-df-convert {\n",
              "      background-color: #E8F0FE;\n",
              "      border: none;\n",
              "      border-radius: 50%;\n",
              "      cursor: pointer;\n",
              "      display: none;\n",
              "      fill: #1967D2;\n",
              "      height: 32px;\n",
              "      padding: 0 0 0 0;\n",
              "      width: 32px;\n",
              "    }\n",
              "\n",
              "    .colab-df-convert:hover {\n",
              "      background-color: #E2EBFA;\n",
              "      box-shadow: 0px 1px 2px rgba(60, 64, 67, 0.3), 0px 1px 3px 1px rgba(60, 64, 67, 0.15);\n",
              "      fill: #174EA6;\n",
              "    }\n",
              "\n",
              "    [theme=dark] .colab-df-convert {\n",
              "      background-color: #3B4455;\n",
              "      fill: #D2E3FC;\n",
              "    }\n",
              "\n",
              "    [theme=dark] .colab-df-convert:hover {\n",
              "      background-color: #434B5C;\n",
              "      box-shadow: 0px 1px 3px 1px rgba(0, 0, 0, 0.15);\n",
              "      filter: drop-shadow(0px 1px 2px rgba(0, 0, 0, 0.3));\n",
              "      fill: #FFFFFF;\n",
              "    }\n",
              "  </style>\n",
              "\n",
              "      <script>\n",
              "        const buttonEl =\n",
              "          document.querySelector('#df-c68ce65d-3ef3-493c-9faa-18c9d7a04324 button.colab-df-convert');\n",
              "        buttonEl.style.display =\n",
              "          google.colab.kernel.accessAllowed ? 'block' : 'none';\n",
              "\n",
              "        async function convertToInteractive(key) {\n",
              "          const element = document.querySelector('#df-c68ce65d-3ef3-493c-9faa-18c9d7a04324');\n",
              "          const dataTable =\n",
              "            await google.colab.kernel.invokeFunction('convertToInteractive',\n",
              "                                                     [key], {});\n",
              "          if (!dataTable) return;\n",
              "\n",
              "          const docLinkHtml = 'Like what you see? Visit the ' +\n",
              "            '<a target=\"_blank\" href=https://colab.research.google.com/notebooks/data_table.ipynb>data table notebook</a>'\n",
              "            + ' to learn more about interactive tables.';\n",
              "          element.innerHTML = '';\n",
              "          dataTable['output_type'] = 'display_data';\n",
              "          await google.colab.output.renderOutput(dataTable, element);\n",
              "          const docLink = document.createElement('div');\n",
              "          docLink.innerHTML = docLinkHtml;\n",
              "          element.appendChild(docLink);\n",
              "        }\n",
              "      </script>\n",
              "    </div>\n",
              "  </div>\n",
              "  "
            ],
            "text/plain": [
              "   Temperature  Humidity       Light         CO2  HumidityRatio  Occupancy\n",
              "1      23.7000    26.272  585.200000  749.200000       0.004764          1\n",
              "2      23.7180    26.290  578.400000  760.400000       0.004773          1\n",
              "3      23.7300    26.230  572.666667  769.666667       0.004765          1\n",
              "4      23.7225    26.125  493.750000  774.750000       0.004744          1\n",
              "5      23.7540    26.200  488.600000  779.000000       0.004767          1"
            ]
          },
          "metadata": {},
          "execution_count": 82
        }
      ],
      "source": [
        "#Changing index of df2 \n",
        "df2.index = np.arange(1,len(df2)+1)\n",
        "df2.head()"
      ]
    },
    {
      "cell_type": "code",
      "execution_count": 83,
      "metadata": {
        "colab": {
          "base_uri": "https://localhost:8080/",
          "height": 300
        },
        "id": "dCw2lNmWNIAG",
        "outputId": "db709487-c27f-414e-ba6b-84b8130f87c5"
      },
      "outputs": [
        {
          "output_type": "execute_result",
          "data": {
            "text/html": [
              "\n",
              "  <div id=\"df-17ee60e9-8af2-4306-9fb4-287e159e50ad\">\n",
              "    <div class=\"colab-df-container\">\n",
              "      <div>\n",
              "<style scoped>\n",
              "    .dataframe tbody tr th:only-of-type {\n",
              "        vertical-align: middle;\n",
              "    }\n",
              "\n",
              "    .dataframe tbody tr th {\n",
              "        vertical-align: top;\n",
              "    }\n",
              "\n",
              "    .dataframe thead th {\n",
              "        text-align: right;\n",
              "    }\n",
              "</style>\n",
              "<table border=\"1\" class=\"dataframe\">\n",
              "  <thead>\n",
              "    <tr style=\"text-align: right;\">\n",
              "      <th></th>\n",
              "      <th>Temperature</th>\n",
              "      <th>Humidity</th>\n",
              "      <th>Light</th>\n",
              "      <th>CO2</th>\n",
              "      <th>HumidityRatio</th>\n",
              "      <th>Occupancy</th>\n",
              "    </tr>\n",
              "  </thead>\n",
              "  <tbody>\n",
              "    <tr>\n",
              "      <th>count</th>\n",
              "      <td>8143.000000</td>\n",
              "      <td>8143.000000</td>\n",
              "      <td>8143.000000</td>\n",
              "      <td>8143.000000</td>\n",
              "      <td>8143.000000</td>\n",
              "      <td>8143.000000</td>\n",
              "    </tr>\n",
              "    <tr>\n",
              "      <th>mean</th>\n",
              "      <td>20.619084</td>\n",
              "      <td>25.731507</td>\n",
              "      <td>119.519375</td>\n",
              "      <td>606.546243</td>\n",
              "      <td>0.003863</td>\n",
              "      <td>0.212330</td>\n",
              "    </tr>\n",
              "    <tr>\n",
              "      <th>std</th>\n",
              "      <td>1.016916</td>\n",
              "      <td>5.531211</td>\n",
              "      <td>194.755805</td>\n",
              "      <td>314.320877</td>\n",
              "      <td>0.000852</td>\n",
              "      <td>0.408982</td>\n",
              "    </tr>\n",
              "    <tr>\n",
              "      <th>min</th>\n",
              "      <td>19.000000</td>\n",
              "      <td>16.745000</td>\n",
              "      <td>0.000000</td>\n",
              "      <td>412.750000</td>\n",
              "      <td>0.002674</td>\n",
              "      <td>0.000000</td>\n",
              "    </tr>\n",
              "    <tr>\n",
              "      <th>25%</th>\n",
              "      <td>19.700000</td>\n",
              "      <td>20.200000</td>\n",
              "      <td>0.000000</td>\n",
              "      <td>439.000000</td>\n",
              "      <td>0.003078</td>\n",
              "      <td>0.000000</td>\n",
              "    </tr>\n",
              "    <tr>\n",
              "      <th>50%</th>\n",
              "      <td>20.390000</td>\n",
              "      <td>26.222500</td>\n",
              "      <td>0.000000</td>\n",
              "      <td>453.500000</td>\n",
              "      <td>0.003801</td>\n",
              "      <td>0.000000</td>\n",
              "    </tr>\n",
              "    <tr>\n",
              "      <th>75%</th>\n",
              "      <td>21.390000</td>\n",
              "      <td>30.533333</td>\n",
              "      <td>256.375000</td>\n",
              "      <td>638.833333</td>\n",
              "      <td>0.004352</td>\n",
              "      <td>0.000000</td>\n",
              "    </tr>\n",
              "    <tr>\n",
              "      <th>max</th>\n",
              "      <td>23.180000</td>\n",
              "      <td>39.117500</td>\n",
              "      <td>1546.333333</td>\n",
              "      <td>2028.500000</td>\n",
              "      <td>0.006476</td>\n",
              "      <td>1.000000</td>\n",
              "    </tr>\n",
              "  </tbody>\n",
              "</table>\n",
              "</div>\n",
              "      <button class=\"colab-df-convert\" onclick=\"convertToInteractive('df-17ee60e9-8af2-4306-9fb4-287e159e50ad')\"\n",
              "              title=\"Convert this dataframe to an interactive table.\"\n",
              "              style=\"display:none;\">\n",
              "        \n",
              "  <svg xmlns=\"http://www.w3.org/2000/svg\" height=\"24px\"viewBox=\"0 0 24 24\"\n",
              "       width=\"24px\">\n",
              "    <path d=\"M0 0h24v24H0V0z\" fill=\"none\"/>\n",
              "    <path d=\"M18.56 5.44l.94 2.06.94-2.06 2.06-.94-2.06-.94-.94-2.06-.94 2.06-2.06.94zm-11 1L8.5 8.5l.94-2.06 2.06-.94-2.06-.94L8.5 2.5l-.94 2.06-2.06.94zm10 10l.94 2.06.94-2.06 2.06-.94-2.06-.94-.94-2.06-.94 2.06-2.06.94z\"/><path d=\"M17.41 7.96l-1.37-1.37c-.4-.4-.92-.59-1.43-.59-.52 0-1.04.2-1.43.59L10.3 9.45l-7.72 7.72c-.78.78-.78 2.05 0 2.83L4 21.41c.39.39.9.59 1.41.59.51 0 1.02-.2 1.41-.59l7.78-7.78 2.81-2.81c.8-.78.8-2.07 0-2.86zM5.41 20L4 18.59l7.72-7.72 1.47 1.35L5.41 20z\"/>\n",
              "  </svg>\n",
              "      </button>\n",
              "      \n",
              "  <style>\n",
              "    .colab-df-container {\n",
              "      display:flex;\n",
              "      flex-wrap:wrap;\n",
              "      gap: 12px;\n",
              "    }\n",
              "\n",
              "    .colab-df-convert {\n",
              "      background-color: #E8F0FE;\n",
              "      border: none;\n",
              "      border-radius: 50%;\n",
              "      cursor: pointer;\n",
              "      display: none;\n",
              "      fill: #1967D2;\n",
              "      height: 32px;\n",
              "      padding: 0 0 0 0;\n",
              "      width: 32px;\n",
              "    }\n",
              "\n",
              "    .colab-df-convert:hover {\n",
              "      background-color: #E2EBFA;\n",
              "      box-shadow: 0px 1px 2px rgba(60, 64, 67, 0.3), 0px 1px 3px 1px rgba(60, 64, 67, 0.15);\n",
              "      fill: #174EA6;\n",
              "    }\n",
              "\n",
              "    [theme=dark] .colab-df-convert {\n",
              "      background-color: #3B4455;\n",
              "      fill: #D2E3FC;\n",
              "    }\n",
              "\n",
              "    [theme=dark] .colab-df-convert:hover {\n",
              "      background-color: #434B5C;\n",
              "      box-shadow: 0px 1px 3px 1px rgba(0, 0, 0, 0.15);\n",
              "      filter: drop-shadow(0px 1px 2px rgba(0, 0, 0, 0.3));\n",
              "      fill: #FFFFFF;\n",
              "    }\n",
              "  </style>\n",
              "\n",
              "      <script>\n",
              "        const buttonEl =\n",
              "          document.querySelector('#df-17ee60e9-8af2-4306-9fb4-287e159e50ad button.colab-df-convert');\n",
              "        buttonEl.style.display =\n",
              "          google.colab.kernel.accessAllowed ? 'block' : 'none';\n",
              "\n",
              "        async function convertToInteractive(key) {\n",
              "          const element = document.querySelector('#df-17ee60e9-8af2-4306-9fb4-287e159e50ad');\n",
              "          const dataTable =\n",
              "            await google.colab.kernel.invokeFunction('convertToInteractive',\n",
              "                                                     [key], {});\n",
              "          if (!dataTable) return;\n",
              "\n",
              "          const docLinkHtml = 'Like what you see? Visit the ' +\n",
              "            '<a target=\"_blank\" href=https://colab.research.google.com/notebooks/data_table.ipynb>data table notebook</a>'\n",
              "            + ' to learn more about interactive tables.';\n",
              "          element.innerHTML = '';\n",
              "          dataTable['output_type'] = 'display_data';\n",
              "          await google.colab.output.renderOutput(dataTable, element);\n",
              "          const docLink = document.createElement('div');\n",
              "          docLink.innerHTML = docLinkHtml;\n",
              "          element.appendChild(docLink);\n",
              "        }\n",
              "      </script>\n",
              "    </div>\n",
              "  </div>\n",
              "  "
            ],
            "text/plain": [
              "       Temperature     Humidity  ...  HumidityRatio    Occupancy\n",
              "count  8143.000000  8143.000000  ...    8143.000000  8143.000000\n",
              "mean     20.619084    25.731507  ...       0.003863     0.212330\n",
              "std       1.016916     5.531211  ...       0.000852     0.408982\n",
              "min      19.000000    16.745000  ...       0.002674     0.000000\n",
              "25%      19.700000    20.200000  ...       0.003078     0.000000\n",
              "50%      20.390000    26.222500  ...       0.003801     0.000000\n",
              "75%      21.390000    30.533333  ...       0.004352     0.000000\n",
              "max      23.180000    39.117500  ...       0.006476     1.000000\n",
              "\n",
              "[8 rows x 6 columns]"
            ]
          },
          "metadata": {},
          "execution_count": 83
        }
      ],
      "source": [
        "df1.describe()"
      ]
    },
    {
      "cell_type": "code",
      "execution_count": 84,
      "metadata": {
        "colab": {
          "base_uri": "https://localhost:8080/",
          "height": 300
        },
        "id": "7w1kUkFqzbc-",
        "outputId": "224fc487-91c7-446c-e5b4-25c5d8100f97"
      },
      "outputs": [
        {
          "output_type": "execute_result",
          "data": {
            "text/html": [
              "\n",
              "  <div id=\"df-43a78e46-3639-4a4d-a734-256784b553d9\">\n",
              "    <div class=\"colab-df-container\">\n",
              "      <div>\n",
              "<style scoped>\n",
              "    .dataframe tbody tr th:only-of-type {\n",
              "        vertical-align: middle;\n",
              "    }\n",
              "\n",
              "    .dataframe tbody tr th {\n",
              "        vertical-align: top;\n",
              "    }\n",
              "\n",
              "    .dataframe thead th {\n",
              "        text-align: right;\n",
              "    }\n",
              "</style>\n",
              "<table border=\"1\" class=\"dataframe\">\n",
              "  <thead>\n",
              "    <tr style=\"text-align: right;\">\n",
              "      <th></th>\n",
              "      <th>Temperature</th>\n",
              "      <th>Humidity</th>\n",
              "      <th>Light</th>\n",
              "      <th>CO2</th>\n",
              "      <th>HumidityRatio</th>\n",
              "      <th>Occupancy</th>\n",
              "    </tr>\n",
              "  </thead>\n",
              "  <tbody>\n",
              "    <tr>\n",
              "      <th>count</th>\n",
              "      <td>2665.000000</td>\n",
              "      <td>2665.000000</td>\n",
              "      <td>2665.000000</td>\n",
              "      <td>2665.000000</td>\n",
              "      <td>2665.000000</td>\n",
              "      <td>2665.000000</td>\n",
              "    </tr>\n",
              "    <tr>\n",
              "      <th>mean</th>\n",
              "      <td>21.433876</td>\n",
              "      <td>25.353937</td>\n",
              "      <td>193.227556</td>\n",
              "      <td>717.906470</td>\n",
              "      <td>0.004027</td>\n",
              "      <td>0.364728</td>\n",
              "    </tr>\n",
              "    <tr>\n",
              "      <th>std</th>\n",
              "      <td>1.028024</td>\n",
              "      <td>2.436842</td>\n",
              "      <td>250.210906</td>\n",
              "      <td>292.681718</td>\n",
              "      <td>0.000611</td>\n",
              "      <td>0.481444</td>\n",
              "    </tr>\n",
              "    <tr>\n",
              "      <th>min</th>\n",
              "      <td>20.200000</td>\n",
              "      <td>22.100000</td>\n",
              "      <td>0.000000</td>\n",
              "      <td>427.500000</td>\n",
              "      <td>0.003303</td>\n",
              "      <td>0.000000</td>\n",
              "    </tr>\n",
              "    <tr>\n",
              "      <th>25%</th>\n",
              "      <td>20.650000</td>\n",
              "      <td>23.260000</td>\n",
              "      <td>0.000000</td>\n",
              "      <td>466.000000</td>\n",
              "      <td>0.003529</td>\n",
              "      <td>0.000000</td>\n",
              "    </tr>\n",
              "    <tr>\n",
              "      <th>50%</th>\n",
              "      <td>20.890000</td>\n",
              "      <td>25.000000</td>\n",
              "      <td>0.000000</td>\n",
              "      <td>580.500000</td>\n",
              "      <td>0.003815</td>\n",
              "      <td>0.000000</td>\n",
              "    </tr>\n",
              "    <tr>\n",
              "      <th>75%</th>\n",
              "      <td>22.356667</td>\n",
              "      <td>26.856667</td>\n",
              "      <td>442.500000</td>\n",
              "      <td>956.333333</td>\n",
              "      <td>0.004532</td>\n",
              "      <td>1.000000</td>\n",
              "    </tr>\n",
              "    <tr>\n",
              "      <th>max</th>\n",
              "      <td>24.408333</td>\n",
              "      <td>31.472500</td>\n",
              "      <td>1697.250000</td>\n",
              "      <td>1402.250000</td>\n",
              "      <td>0.005378</td>\n",
              "      <td>1.000000</td>\n",
              "    </tr>\n",
              "  </tbody>\n",
              "</table>\n",
              "</div>\n",
              "      <button class=\"colab-df-convert\" onclick=\"convertToInteractive('df-43a78e46-3639-4a4d-a734-256784b553d9')\"\n",
              "              title=\"Convert this dataframe to an interactive table.\"\n",
              "              style=\"display:none;\">\n",
              "        \n",
              "  <svg xmlns=\"http://www.w3.org/2000/svg\" height=\"24px\"viewBox=\"0 0 24 24\"\n",
              "       width=\"24px\">\n",
              "    <path d=\"M0 0h24v24H0V0z\" fill=\"none\"/>\n",
              "    <path d=\"M18.56 5.44l.94 2.06.94-2.06 2.06-.94-2.06-.94-.94-2.06-.94 2.06-2.06.94zm-11 1L8.5 8.5l.94-2.06 2.06-.94-2.06-.94L8.5 2.5l-.94 2.06-2.06.94zm10 10l.94 2.06.94-2.06 2.06-.94-2.06-.94-.94-2.06-.94 2.06-2.06.94z\"/><path d=\"M17.41 7.96l-1.37-1.37c-.4-.4-.92-.59-1.43-.59-.52 0-1.04.2-1.43.59L10.3 9.45l-7.72 7.72c-.78.78-.78 2.05 0 2.83L4 21.41c.39.39.9.59 1.41.59.51 0 1.02-.2 1.41-.59l7.78-7.78 2.81-2.81c.8-.78.8-2.07 0-2.86zM5.41 20L4 18.59l7.72-7.72 1.47 1.35L5.41 20z\"/>\n",
              "  </svg>\n",
              "      </button>\n",
              "      \n",
              "  <style>\n",
              "    .colab-df-container {\n",
              "      display:flex;\n",
              "      flex-wrap:wrap;\n",
              "      gap: 12px;\n",
              "    }\n",
              "\n",
              "    .colab-df-convert {\n",
              "      background-color: #E8F0FE;\n",
              "      border: none;\n",
              "      border-radius: 50%;\n",
              "      cursor: pointer;\n",
              "      display: none;\n",
              "      fill: #1967D2;\n",
              "      height: 32px;\n",
              "      padding: 0 0 0 0;\n",
              "      width: 32px;\n",
              "    }\n",
              "\n",
              "    .colab-df-convert:hover {\n",
              "      background-color: #E2EBFA;\n",
              "      box-shadow: 0px 1px 2px rgba(60, 64, 67, 0.3), 0px 1px 3px 1px rgba(60, 64, 67, 0.15);\n",
              "      fill: #174EA6;\n",
              "    }\n",
              "\n",
              "    [theme=dark] .colab-df-convert {\n",
              "      background-color: #3B4455;\n",
              "      fill: #D2E3FC;\n",
              "    }\n",
              "\n",
              "    [theme=dark] .colab-df-convert:hover {\n",
              "      background-color: #434B5C;\n",
              "      box-shadow: 0px 1px 3px 1px rgba(0, 0, 0, 0.15);\n",
              "      filter: drop-shadow(0px 1px 2px rgba(0, 0, 0, 0.3));\n",
              "      fill: #FFFFFF;\n",
              "    }\n",
              "  </style>\n",
              "\n",
              "      <script>\n",
              "        const buttonEl =\n",
              "          document.querySelector('#df-43a78e46-3639-4a4d-a734-256784b553d9 button.colab-df-convert');\n",
              "        buttonEl.style.display =\n",
              "          google.colab.kernel.accessAllowed ? 'block' : 'none';\n",
              "\n",
              "        async function convertToInteractive(key) {\n",
              "          const element = document.querySelector('#df-43a78e46-3639-4a4d-a734-256784b553d9');\n",
              "          const dataTable =\n",
              "            await google.colab.kernel.invokeFunction('convertToInteractive',\n",
              "                                                     [key], {});\n",
              "          if (!dataTable) return;\n",
              "\n",
              "          const docLinkHtml = 'Like what you see? Visit the ' +\n",
              "            '<a target=\"_blank\" href=https://colab.research.google.com/notebooks/data_table.ipynb>data table notebook</a>'\n",
              "            + ' to learn more about interactive tables.';\n",
              "          element.innerHTML = '';\n",
              "          dataTable['output_type'] = 'display_data';\n",
              "          await google.colab.output.renderOutput(dataTable, element);\n",
              "          const docLink = document.createElement('div');\n",
              "          docLink.innerHTML = docLinkHtml;\n",
              "          element.appendChild(docLink);\n",
              "        }\n",
              "      </script>\n",
              "    </div>\n",
              "  </div>\n",
              "  "
            ],
            "text/plain": [
              "       Temperature     Humidity  ...  HumidityRatio    Occupancy\n",
              "count  2665.000000  2665.000000  ...    2665.000000  2665.000000\n",
              "mean     21.433876    25.353937  ...       0.004027     0.364728\n",
              "std       1.028024     2.436842  ...       0.000611     0.481444\n",
              "min      20.200000    22.100000  ...       0.003303     0.000000\n",
              "25%      20.650000    23.260000  ...       0.003529     0.000000\n",
              "50%      20.890000    25.000000  ...       0.003815     0.000000\n",
              "75%      22.356667    26.856667  ...       0.004532     1.000000\n",
              "max      24.408333    31.472500  ...       0.005378     1.000000\n",
              "\n",
              "[8 rows x 6 columns]"
            ]
          },
          "metadata": {},
          "execution_count": 84
        }
      ],
      "source": [
        "df2.describe()"
      ]
    },
    {
      "cell_type": "code",
      "execution_count": 85,
      "metadata": {
        "colab": {
          "base_uri": "https://localhost:8080/",
          "height": 300
        },
        "id": "HZgzG4HHzf6k",
        "outputId": "3e575899-3172-4584-8a5d-7a8f5d853742"
      },
      "outputs": [
        {
          "output_type": "execute_result",
          "data": {
            "text/html": [
              "\n",
              "  <div id=\"df-f59de271-564e-4951-860a-602b4aa9d40a\">\n",
              "    <div class=\"colab-df-container\">\n",
              "      <div>\n",
              "<style scoped>\n",
              "    .dataframe tbody tr th:only-of-type {\n",
              "        vertical-align: middle;\n",
              "    }\n",
              "\n",
              "    .dataframe tbody tr th {\n",
              "        vertical-align: top;\n",
              "    }\n",
              "\n",
              "    .dataframe thead th {\n",
              "        text-align: right;\n",
              "    }\n",
              "</style>\n",
              "<table border=\"1\" class=\"dataframe\">\n",
              "  <thead>\n",
              "    <tr style=\"text-align: right;\">\n",
              "      <th></th>\n",
              "      <th>Temperature</th>\n",
              "      <th>Humidity</th>\n",
              "      <th>Light</th>\n",
              "      <th>CO2</th>\n",
              "      <th>HumidityRatio</th>\n",
              "      <th>Occupancy</th>\n",
              "    </tr>\n",
              "  </thead>\n",
              "  <tbody>\n",
              "    <tr>\n",
              "      <th>count</th>\n",
              "      <td>9752.000000</td>\n",
              "      <td>9752.000000</td>\n",
              "      <td>9752.000000</td>\n",
              "      <td>9752.000000</td>\n",
              "      <td>9752.000000</td>\n",
              "      <td>9752.000000</td>\n",
              "    </tr>\n",
              "    <tr>\n",
              "      <th>mean</th>\n",
              "      <td>21.001768</td>\n",
              "      <td>29.891910</td>\n",
              "      <td>123.067930</td>\n",
              "      <td>753.224832</td>\n",
              "      <td>0.004589</td>\n",
              "      <td>0.210111</td>\n",
              "    </tr>\n",
              "    <tr>\n",
              "      <th>std</th>\n",
              "      <td>1.020693</td>\n",
              "      <td>3.952844</td>\n",
              "      <td>208.221275</td>\n",
              "      <td>297.096114</td>\n",
              "      <td>0.000531</td>\n",
              "      <td>0.407408</td>\n",
              "    </tr>\n",
              "    <tr>\n",
              "      <th>min</th>\n",
              "      <td>19.500000</td>\n",
              "      <td>21.865000</td>\n",
              "      <td>0.000000</td>\n",
              "      <td>484.666667</td>\n",
              "      <td>0.003275</td>\n",
              "      <td>0.000000</td>\n",
              "    </tr>\n",
              "    <tr>\n",
              "      <th>25%</th>\n",
              "      <td>20.290000</td>\n",
              "      <td>26.642083</td>\n",
              "      <td>0.000000</td>\n",
              "      <td>542.312500</td>\n",
              "      <td>0.004196</td>\n",
              "      <td>0.000000</td>\n",
              "    </tr>\n",
              "    <tr>\n",
              "      <th>50%</th>\n",
              "      <td>20.790000</td>\n",
              "      <td>30.200000</td>\n",
              "      <td>0.000000</td>\n",
              "      <td>639.000000</td>\n",
              "      <td>0.004593</td>\n",
              "      <td>0.000000</td>\n",
              "    </tr>\n",
              "    <tr>\n",
              "      <th>75%</th>\n",
              "      <td>21.533333</td>\n",
              "      <td>32.700000</td>\n",
              "      <td>208.250000</td>\n",
              "      <td>831.125000</td>\n",
              "      <td>0.004998</td>\n",
              "      <td>0.000000</td>\n",
              "    </tr>\n",
              "    <tr>\n",
              "      <th>max</th>\n",
              "      <td>24.390000</td>\n",
              "      <td>39.500000</td>\n",
              "      <td>1581.000000</td>\n",
              "      <td>2076.500000</td>\n",
              "      <td>0.005769</td>\n",
              "      <td>1.000000</td>\n",
              "    </tr>\n",
              "  </tbody>\n",
              "</table>\n",
              "</div>\n",
              "      <button class=\"colab-df-convert\" onclick=\"convertToInteractive('df-f59de271-564e-4951-860a-602b4aa9d40a')\"\n",
              "              title=\"Convert this dataframe to an interactive table.\"\n",
              "              style=\"display:none;\">\n",
              "        \n",
              "  <svg xmlns=\"http://www.w3.org/2000/svg\" height=\"24px\"viewBox=\"0 0 24 24\"\n",
              "       width=\"24px\">\n",
              "    <path d=\"M0 0h24v24H0V0z\" fill=\"none\"/>\n",
              "    <path d=\"M18.56 5.44l.94 2.06.94-2.06 2.06-.94-2.06-.94-.94-2.06-.94 2.06-2.06.94zm-11 1L8.5 8.5l.94-2.06 2.06-.94-2.06-.94L8.5 2.5l-.94 2.06-2.06.94zm10 10l.94 2.06.94-2.06 2.06-.94-2.06-.94-.94-2.06-.94 2.06-2.06.94z\"/><path d=\"M17.41 7.96l-1.37-1.37c-.4-.4-.92-.59-1.43-.59-.52 0-1.04.2-1.43.59L10.3 9.45l-7.72 7.72c-.78.78-.78 2.05 0 2.83L4 21.41c.39.39.9.59 1.41.59.51 0 1.02-.2 1.41-.59l7.78-7.78 2.81-2.81c.8-.78.8-2.07 0-2.86zM5.41 20L4 18.59l7.72-7.72 1.47 1.35L5.41 20z\"/>\n",
              "  </svg>\n",
              "      </button>\n",
              "      \n",
              "  <style>\n",
              "    .colab-df-container {\n",
              "      display:flex;\n",
              "      flex-wrap:wrap;\n",
              "      gap: 12px;\n",
              "    }\n",
              "\n",
              "    .colab-df-convert {\n",
              "      background-color: #E8F0FE;\n",
              "      border: none;\n",
              "      border-radius: 50%;\n",
              "      cursor: pointer;\n",
              "      display: none;\n",
              "      fill: #1967D2;\n",
              "      height: 32px;\n",
              "      padding: 0 0 0 0;\n",
              "      width: 32px;\n",
              "    }\n",
              "\n",
              "    .colab-df-convert:hover {\n",
              "      background-color: #E2EBFA;\n",
              "      box-shadow: 0px 1px 2px rgba(60, 64, 67, 0.3), 0px 1px 3px 1px rgba(60, 64, 67, 0.15);\n",
              "      fill: #174EA6;\n",
              "    }\n",
              "\n",
              "    [theme=dark] .colab-df-convert {\n",
              "      background-color: #3B4455;\n",
              "      fill: #D2E3FC;\n",
              "    }\n",
              "\n",
              "    [theme=dark] .colab-df-convert:hover {\n",
              "      background-color: #434B5C;\n",
              "      box-shadow: 0px 1px 3px 1px rgba(0, 0, 0, 0.15);\n",
              "      filter: drop-shadow(0px 1px 2px rgba(0, 0, 0, 0.3));\n",
              "      fill: #FFFFFF;\n",
              "    }\n",
              "  </style>\n",
              "\n",
              "      <script>\n",
              "        const buttonEl =\n",
              "          document.querySelector('#df-f59de271-564e-4951-860a-602b4aa9d40a button.colab-df-convert');\n",
              "        buttonEl.style.display =\n",
              "          google.colab.kernel.accessAllowed ? 'block' : 'none';\n",
              "\n",
              "        async function convertToInteractive(key) {\n",
              "          const element = document.querySelector('#df-f59de271-564e-4951-860a-602b4aa9d40a');\n",
              "          const dataTable =\n",
              "            await google.colab.kernel.invokeFunction('convertToInteractive',\n",
              "                                                     [key], {});\n",
              "          if (!dataTable) return;\n",
              "\n",
              "          const docLinkHtml = 'Like what you see? Visit the ' +\n",
              "            '<a target=\"_blank\" href=https://colab.research.google.com/notebooks/data_table.ipynb>data table notebook</a>'\n",
              "            + ' to learn more about interactive tables.';\n",
              "          element.innerHTML = '';\n",
              "          dataTable['output_type'] = 'display_data';\n",
              "          await google.colab.output.renderOutput(dataTable, element);\n",
              "          const docLink = document.createElement('div');\n",
              "          docLink.innerHTML = docLinkHtml;\n",
              "          element.appendChild(docLink);\n",
              "        }\n",
              "      </script>\n",
              "    </div>\n",
              "  </div>\n",
              "  "
            ],
            "text/plain": [
              "       Temperature     Humidity  ...  HumidityRatio    Occupancy\n",
              "count  9752.000000  9752.000000  ...    9752.000000  9752.000000\n",
              "mean     21.001768    29.891910  ...       0.004589     0.210111\n",
              "std       1.020693     3.952844  ...       0.000531     0.407408\n",
              "min      19.500000    21.865000  ...       0.003275     0.000000\n",
              "25%      20.290000    26.642083  ...       0.004196     0.000000\n",
              "50%      20.790000    30.200000  ...       0.004593     0.000000\n",
              "75%      21.533333    32.700000  ...       0.004998     0.000000\n",
              "max      24.390000    39.500000  ...       0.005769     1.000000\n",
              "\n",
              "[8 rows x 6 columns]"
            ]
          },
          "metadata": {},
          "execution_count": 85
        }
      ],
      "source": [
        "df3.describe()"
      ]
    },
    {
      "cell_type": "code",
      "execution_count": 86,
      "metadata": {
        "colab": {
          "base_uri": "https://localhost:8080/"
        },
        "id": "LJOrMlMvrT2_",
        "outputId": "f9a0c86e-d916-4aa3-acef-eacf37e1029d"
      },
      "outputs": [
        {
          "output_type": "stream",
          "name": "stdout",
          "text": [
            "      Temperature  Humidity  Light         CO2  HumidityRatio  Occupancy\n",
            "17         23.000     27.20    0.0  681.500000       0.004728          0\n",
            "18         22.945     27.29    0.0  685.000000       0.004728          0\n",
            "19         22.945     27.39    0.0  685.000000       0.004745          0\n",
            "20         22.890     27.39    0.0  689.000000       0.004730          0\n",
            "21         22.890     27.39    0.0  689.500000       0.004730          0\n",
            "...           ...       ...    ...         ...            ...        ...\n",
            "8082       20.290     33.20    0.0  454.666667       0.004891          0\n",
            "8083       20.290     33.20    0.0  451.000000       0.004891          0\n",
            "8084       20.290     33.20    0.0  451.000000       0.004891          0\n",
            "8085       20.290     33.20    0.0  455.000000       0.004891          0\n",
            "8086       20.290     33.20    0.0  458.000000       0.004891          0\n",
            "\n",
            "[5160 rows x 6 columns]\n"
          ]
        }
      ],
      "source": [
        "print(df1[df1.Light == 0])"
      ]
    },
    {
      "cell_type": "code",
      "execution_count": 87,
      "metadata": {
        "colab": {
          "base_uri": "https://localhost:8080/"
        },
        "id": "vBJNa7-BrKhL",
        "outputId": "61ae6413-b81e-4a52-f1e3-8cb1b4064dd9"
      },
      "outputs": [
        {
          "output_type": "stream",
          "name": "stdout",
          "text": [
            "5160\n",
            "1615\n",
            "5997\n"
          ]
        }
      ],
      "source": [
        "# There are lots of zero values in column \"Light\" in all 3 datasets\n",
        "print(sum(df1.Light  ==  0))\n",
        "print(sum(df2.Light  ==  0))\n",
        "print(sum(df3.Light  ==  0))"
      ]
    },
    {
      "cell_type": "code",
      "execution_count": 88,
      "metadata": {
        "colab": {
          "base_uri": "https://localhost:8080/"
        },
        "id": "TEpKS1_8QuPX",
        "outputId": "19bf504a-6e67-4182-b8fc-5bb74a37c392"
      },
      "outputs": [
        {
          "output_type": "stream",
          "name": "stdout",
          "text": [
            "0\n",
            "0\n",
            "1\n"
          ]
        }
      ],
      "source": [
        "print(sum(df1[df1.Light  ==  0].Occupancy))\n",
        "print(sum(df2[df2.Light  ==  0].Occupancy))\n",
        "print(sum(df3[df3.Light  ==  0].Occupancy))"
      ]
    },
    {
      "cell_type": "code",
      "execution_count": 89,
      "metadata": {
        "colab": {
          "base_uri": "https://localhost:8080/"
        },
        "id": "xNUWBwdXn2HK",
        "outputId": "525784fc-f6ca-4f5e-ecf6-af5e1da0cdae"
      },
      "outputs": [
        {
          "output_type": "execute_result",
          "data": {
            "text/plain": [
              "1       426.0\n",
              "2       429.5\n",
              "3       426.0\n",
              "4       426.0\n",
              "5       426.0\n",
              "        ...  \n",
              "8139    433.0\n",
              "8140    433.0\n",
              "8141    433.0\n",
              "8142    433.0\n",
              "8143    447.0\n",
              "Name: Light, Length: 8143, dtype: float64"
            ]
          },
          "metadata": {},
          "execution_count": 89
        }
      ],
      "source": [
        "x = df1.Light\n",
        "x"
      ]
    },
    {
      "cell_type": "code",
      "execution_count": 90,
      "metadata": {
        "colab": {
          "base_uri": "https://localhost:8080/",
          "height": 992
        },
        "id": "jdKJrgxvoQCJ",
        "outputId": "97908c7a-46e8-4dc9-ec51-9a383856953c"
      },
      "outputs": [
        {
          "output_type": "display_data",
          "data": {
            "image/png": "[encoded data removed]",
            "text/plain": [
              "<Figure size 432x288 with 2 Axes>"
            ]
          },
          "metadata": {
            "needs_background": "light"
          }
        },
        {
          "output_type": "display_data",
          "data": {
            "image/png": "[encoded data removed]",
            "text/plain": [
              "<Figure size 432x288 with 2 Axes>"
            ]
          },
          "metadata": {
            "needs_background": "light"
          }
        },
        {
          "output_type": "display_data",
          "data": {
            "image/png": "[encoded data removed]",
            "text/plain": [
              "<Figure size 432x288 with 2 Axes>"
            ]
          },
          "metadata": {
            "needs_background": "light"
          }
        }
      ],
      "source": [
        "corrMatrix1 = df1.corr()\n",
        "corrMatrix2 = df2.corr()\n",
        "corrMatrix3 = df3.corr()\n",
        "sns.heatmap(corrMatrix1, annot=True)\n",
        "plt.title(\"df 1\")\n",
        "plt.show()\n",
        "sns.heatmap(corrMatrix2, annot=True)\n",
        "plt.title(\"df 2\")\n",
        "plt.show()\n",
        "sns.heatmap(corrMatrix3, annot=True)\n",
        "plt.title(\"df 3\")\n",
        "plt.show()"
      ]
    },
    {
      "cell_type": "markdown",
      "metadata": {
        "id": "ZPurH5zJWCwT"
      },
      "source": [
        "#Dividing dataset"
      ]
    },
    {
      "cell_type": "code",
      "execution_count": 91,
      "metadata": {
        "id": "sfNAFZCNXK3O"
      },
      "outputs": [],
      "source": [
        "#For training dataset \"training.txt\"\n",
        "X_train = df1.iloc[:,0:5]\n",
        "Y_train = df1.iloc[:,5]\n",
        "scalar = StandardScaler()\n",
        "X_scaled_train=scalar.fit(X_train).transform(X_train)"
      ]
    },
    {
      "cell_type": "code",
      "execution_count": 92,
      "metadata": {
        "id": "OV5qsPl0tRaZ"
      },
      "outputs": [],
      "source": [
        "#For testing dataset 1 \"datatest.txt\" \n",
        "X_test1 = df2.iloc[:,0:5]\n",
        "Y_test1 = df2.iloc[:,5]\n",
        "scalar = StandardScaler()\n",
        "X_scaled_test1=scalar.fit(X_test1).transform(X_test1)\n",
        "\n",
        "#For testing dataset 2 \"datatest2.txt\" \n",
        "X_test2 = df3.iloc[:,0:5]\n",
        "Y_test2 = df3.iloc[:,5]\n",
        "scalar = StandardScaler()\n",
        "X_scaled_test2=scalar.fit(X_test2).transform(X_test2)"
      ]
    },
    {
      "cell_type": "code",
      "execution_count": 93,
      "metadata": {
        "colab": {
          "base_uri": "https://localhost:8080/"
        },
        "id": "0vcZH2fyraZR",
        "outputId": "c64b02de-cd00-4350-e8f7-f0eae4bb6c85"
      },
      "outputs": [
        {
          "output_type": "stream",
          "name": "stdout",
          "text": [
            "(8143, 5)\n",
            "(2665, 5)\n",
            "(9752, 5)\n"
          ]
        }
      ],
      "source": [
        "print(X_scaled_train.shape)\n",
        "print(X_scaled_test1.shape)\n",
        "print(X_scaled_test2.shape)"
      ]
    },
    {
      "cell_type": "markdown",
      "metadata": {
        "id": "u3fAXV_Ps3G8"
      },
      "source": [
        "##Logistic Regression"
      ]
    },
    {
      "cell_type": "code",
      "execution_count": 94,
      "metadata": {
        "colab": {
          "base_uri": "https://localhost:8080/"
        },
        "id": "rGbR5u0SDYYF",
        "outputId": "c73a59ec-347f-4be5-a826-37eb70f553ec"
      },
      "outputs": [
        {
          "output_type": "stream",
          "name": "stdout",
          "text": [
            "LogisticRegression(random_state=0, solver='sag')\n",
            "Coefficients: \n",
            " [[-1.25448032  0.18764232  3.91326452  1.89570778 -0.389882  ]]\n",
            "Accuracy on Train :  98.6\n",
            "Accuracy on Test1 :  89.04\n",
            "Accuracy on Test2 :  95.61\n",
            "For Test1 dataset\n",
            "Confusion Matrix:\n",
            "[[1671   22]\n",
            " [ 270  702]]\n",
            "\n",
            "Classification Report:\n",
            "              precision    recall  f1-score   support\n",
            "\n",
            "           0       0.86      0.99      0.92      1693\n",
            "           1       0.97      0.72      0.83       972\n",
            "\n",
            "    accuracy                           0.89      2665\n",
            "   macro avg       0.92      0.85      0.87      2665\n",
            "weighted avg       0.90      0.89      0.89      2665\n",
            "\n",
            "\n",
            "Accuracy: 0.8904315196998124\n",
            "For Test2 dataset\n",
            "Confusion Matrix:\n",
            "[[7651   52]\n",
            " [ 376 1673]]\n",
            "\n",
            "Classification Report:\n",
            "              precision    recall  f1-score   support\n",
            "\n",
            "           0       0.95      0.99      0.97      7703\n",
            "           1       0.97      0.82      0.89      2049\n",
            "\n",
            "    accuracy                           0.96      9752\n",
            "   macro avg       0.96      0.90      0.93      9752\n",
            "weighted avg       0.96      0.96      0.95      9752\n",
            "\n",
            "\n",
            "Accuracy: 0.9561115668580804\n",
            "\n",
            "LogisticRegression(random_state=0, solver='liblinear')\n",
            "Coefficients: \n",
            " [[-1.24832926  0.17094084  3.83620881  1.88247633 -0.38236267]]\n",
            "Accuracy on Train :  98.6\n",
            "Accuracy on Test1 :  89.23\n",
            "Accuracy on Test2 :  95.65\n",
            "For Test1 dataset\n",
            "Confusion Matrix:\n",
            "[[1671   22]\n",
            " [ 265  707]]\n",
            "\n",
            "Classification Report:\n",
            "              precision    recall  f1-score   support\n",
            "\n",
            "           0       0.86      0.99      0.92      1693\n",
            "           1       0.97      0.73      0.83       972\n",
            "\n",
            "    accuracy                           0.89      2665\n",
            "   macro avg       0.92      0.86      0.88      2665\n",
            "weighted avg       0.90      0.89      0.89      2665\n",
            "\n",
            "\n",
            "Accuracy: 0.8923076923076924\n",
            "For Test2 dataset\n",
            "Confusion Matrix:\n",
            "[[7649   54]\n",
            " [ 370 1679]]\n",
            "\n",
            "Classification Report:\n",
            "              precision    recall  f1-score   support\n",
            "\n",
            "           0       0.95      0.99      0.97      7703\n",
            "           1       0.97      0.82      0.89      2049\n",
            "\n",
            "    accuracy                           0.96      9752\n",
            "   macro avg       0.96      0.91      0.93      9752\n",
            "weighted avg       0.96      0.96      0.96      9752\n",
            "\n",
            "\n",
            "Accuracy: 0.9565217391304348\n",
            "\n",
            "LogisticRegression(random_state=0, solver='newton-cg')\n",
            "Coefficients: \n",
            " [[-1.25313994  0.19245224  3.91325952  1.8958613  -0.39467167]]\n",
            "Accuracy on Train :  98.6\n",
            "Accuracy on Test1 :  89.04\n",
            "Accuracy on Test2 :  95.61\n",
            "For Test1 dataset\n",
            "Confusion Matrix:\n",
            "[[1671   22]\n",
            " [ 270  702]]\n",
            "\n",
            "Classification Report:\n",
            "              precision    recall  f1-score   support\n",
            "\n",
            "           0       0.86      0.99      0.92      1693\n",
            "           1       0.97      0.72      0.83       972\n",
            "\n",
            "    accuracy                           0.89      2665\n",
            "   macro avg       0.92      0.85      0.87      2665\n",
            "weighted avg       0.90      0.89      0.89      2665\n",
            "\n",
            "\n",
            "Accuracy: 0.8904315196998124\n",
            "For Test2 dataset\n",
            "Confusion Matrix:\n",
            "[[7651   52]\n",
            " [ 376 1673]]\n",
            "\n",
            "Classification Report:\n",
            "              precision    recall  f1-score   support\n",
            "\n",
            "           0       0.95      0.99      0.97      7703\n",
            "           1       0.97      0.82      0.89      2049\n",
            "\n",
            "    accuracy                           0.96      9752\n",
            "   macro avg       0.96      0.90      0.93      9752\n",
            "weighted avg       0.96      0.96      0.95      9752\n",
            "\n",
            "\n",
            "Accuracy: 0.9561115668580804\n",
            "\n",
            "LogisticRegression(random_state=0, solver='saga')\n",
            "Coefficients: \n",
            " [[-1.25609781  0.18181663  3.91327515  1.89551697 -0.38408122]]\n",
            "Accuracy on Train :  98.6\n",
            "Accuracy on Test1 :  89.04\n",
            "Accuracy on Test2 :  95.63\n",
            "For Test1 dataset\n",
            "Confusion Matrix:\n",
            "[[1671   22]\n",
            " [ 270  702]]\n",
            "\n",
            "Classification Report:\n",
            "              precision    recall  f1-score   support\n",
            "\n",
            "           0       0.86      0.99      0.92      1693\n",
            "           1       0.97      0.72      0.83       972\n",
            "\n",
            "    accuracy                           0.89      2665\n",
            "   macro avg       0.92      0.85      0.87      2665\n",
            "weighted avg       0.90      0.89      0.89      2665\n",
            "\n",
            "\n",
            "Accuracy: 0.8904315196998124\n",
            "For Test2 dataset\n",
            "Confusion Matrix:\n",
            "[[7651   52]\n",
            " [ 374 1675]]\n",
            "\n",
            "Classification Report:\n",
            "              precision    recall  f1-score   support\n",
            "\n",
            "           0       0.95      0.99      0.97      7703\n",
            "           1       0.97      0.82      0.89      2049\n",
            "\n",
            "    accuracy                           0.96      9752\n",
            "   macro avg       0.96      0.91      0.93      9752\n",
            "weighted avg       0.96      0.96      0.95      9752\n",
            "\n",
            "\n",
            "Accuracy: 0.9563166529942576\n",
            "\n",
            "LogisticRegression(random_state=0)\n",
            "Coefficients: \n",
            " [[-1.25311124  0.19245655  3.91322812  1.89585145 -0.39468199]]\n",
            "Accuracy on Train :  98.6\n",
            "Accuracy on Test1 :  89.04\n",
            "Accuracy on Test2 :  95.61\n",
            "For Test1 dataset\n",
            "Confusion Matrix:\n",
            "[[1671   22]\n",
            " [ 270  702]]\n",
            "\n",
            "Classification Report:\n",
            "              precision    recall  f1-score   support\n",
            "\n",
            "           0       0.86      0.99      0.92      1693\n",
            "           1       0.97      0.72      0.83       972\n",
            "\n",
            "    accuracy                           0.89      2665\n",
            "   macro avg       0.92      0.85      0.87      2665\n",
            "weighted avg       0.90      0.89      0.89      2665\n",
            "\n",
            "\n",
            "Accuracy: 0.8904315196998124\n",
            "For Test2 dataset\n",
            "Confusion Matrix:\n",
            "[[7651   52]\n",
            " [ 376 1673]]\n",
            "\n",
            "Classification Report:\n",
            "              precision    recall  f1-score   support\n",
            "\n",
            "           0       0.95      0.99      0.97      7703\n",
            "           1       0.97      0.82      0.89      2049\n",
            "\n",
            "    accuracy                           0.96      9752\n",
            "   macro avg       0.96      0.90      0.93      9752\n",
            "weighted avg       0.96      0.96      0.95      9752\n",
            "\n",
            "\n",
            "Accuracy: 0.9561115668580804\n",
            "\n"
          ]
        }
      ],
      "source": [
        "#importing Logistic regression model\n",
        "from sklearn.linear_model import LogisticRegression\n",
        "from sklearn.metrics import classification_report, confusion_matrix, accuracy_score\n",
        "# we can also add penalty\n",
        "solv = {\"newton-cg\", \"lbfgs\", \"liblinear\", \"sag\", \"saga\"} # It represents which algorithm to use in the optimization problem. \n",
        "\n",
        "for a in solv:\n",
        "    LR = LogisticRegression(random_state=0, solver = a)\n",
        "    print(LR)\n",
        "    LR.fit(X_scaled_train, Y_train)\n",
        "    Y_pred1 = LR.predict(X_scaled_test1)\n",
        "    Y_pred2 = LR.predict(X_scaled_test2)\n",
        "    print('Coefficients: \\n', LR.coef_)\n",
        "\n",
        "    # accuracy \n",
        "    print('Accuracy on Train : ', round(LR.score(X_scaled_train, Y_train)*100, 2))\n",
        "    print('Accuracy on Test1 : ', round(LR.score(X_scaled_test1, Y_test1)*100, 2))\n",
        "    print('Accuracy on Test2 : ', round(LR.score(X_scaled_test2, Y_test2)*100, 2))\n",
        "    print(\"For Test1 dataset\")\n",
        "    # Confusion Matrix \n",
        "    result = confusion_matrix(Y_test1, Y_pred1)\n",
        "    print(\"Confusion Matrix:\")\n",
        "    print(result)\n",
        "    # Classification report\n",
        "    result1 = classification_report(Y_test1, Y_pred1)\n",
        "    print(\"\\nClassification Report:\")\n",
        "    print(result1)\n",
        "    # Accuracy score\n",
        "    result2 = accuracy_score(Y_test1, Y_pred1)\n",
        "    print(\"\\nAccuracy:\",result2)\n",
        "    print(\"For Test2 dataset\")\n",
        "    # Confusion Matrix \n",
        "    result = confusion_matrix(Y_test2, Y_pred2)\n",
        "    print(\"Confusion Matrix:\")\n",
        "    print(result)\n",
        "    # Classification report\n",
        "    result1 = classification_report(Y_test2, Y_pred2)\n",
        "    print(\"\\nClassification Report:\")\n",
        "    print (result1)\n",
        "    # Accuracy score\n",
        "    result2 = accuracy_score(Y_test2, Y_pred2)\n",
        "    print(\"\\nAccuracy:\",result2)\n",
        "    print('')"
      ]
    },
    {
      "cell_type": "code",
      "execution_count": 95,
      "metadata": {
        "colab": {
          "base_uri": "https://localhost:8080/"
        },
        "id": "9b_VNXelRkZW",
        "outputId": "d56cca72-e5a7-4cbf-cd2c-f4d301a91f15"
      },
      "outputs": [
        {
          "output_type": "stream",
          "name": "stdout",
          "text": [
            "LogisticRegression(random_state=0, solver='sag')\n",
            "LogisticRegression(random_state=0, solver='liblinear')\n",
            "LogisticRegression(random_state=0, solver='newton-cg')\n",
            "LogisticRegression(random_state=0, solver='saga')\n",
            "LogisticRegression(random_state=0)\n"
          ]
        }
      ],
      "source": [
        "solv = {\"newton-cg\", \"lbfgs\", \"liblinear\", \"sag\", \"saga\"} # It represents which algorithm to use in the optimization problem. \n",
        "A= []\n",
        "for a in solv:\n",
        "    C = []\n",
        "    LR = LogisticRegression(random_state=0, solver = a)\n",
        "    print(LR)\n",
        "    LR.fit(X_scaled_train, Y_train)\n",
        "    Y_pred1 = LR.predict(X_scaled_test1)\n",
        "    Y_pred2 = LR.predict(X_scaled_test2)\n",
        "    # accuracy \n",
        "    C.append(a)\n",
        "    C.append(round(LR.score(X_scaled_train, Y_train)*100, 2))\n",
        "    C.append(round(LR.score(X_scaled_test1, Y_test1)*100, 2))\n",
        "    C.append(round(LR.score(X_scaled_test2, Y_test2)*100, 2))\n",
        "\n",
        "    A.append(C)"
      ]
    },
    {
      "cell_type": "code",
      "execution_count": 96,
      "metadata": {
        "colab": {
          "base_uri": "https://localhost:8080/"
        },
        "id": "8gBW59lznZRa",
        "outputId": "2cf2c735-f027-4d4d-a622-99f1a49919ce"
      },
      "outputs": [
        {
          "output_type": "execute_result",
          "data": {
            "text/plain": [
              "[['sag', 98.6, 89.04, 95.61],\n",
              " ['liblinear', 98.6, 89.23, 95.65],\n",
              " ['newton-cg', 98.6, 89.04, 95.61],\n",
              " ['saga', 98.6, 89.04, 95.63],\n",
              " ['lbfgs', 98.6, 89.04, 95.61]]"
            ]
          },
          "metadata": {},
          "execution_count": 96
        }
      ],
      "source": [
        "A"
      ]
    },
    {
      "cell_type": "code",
      "execution_count": 97,
      "metadata": {
        "id": "UURpW_unTdCI"
      },
      "outputs": [],
      "source": [
        "k = A[0]\n",
        "\n",
        "k[0] = \"Logistic Regression\""
      ]
    },
    {
      "cell_type": "code",
      "execution_count": 97,
      "metadata": {
        "id": "6TXTpkHpUJ1Q"
      },
      "outputs": [],
      "source": [
        ""
      ]
    },
    {
      "cell_type": "code",
      "execution_count": 98,
      "metadata": {
        "id": "N1UU_RFIQrQZ"
      },
      "outputs": [],
      "source": [
        "d = pd.DataFrame(A,columns =['Solver','Train','Test1','Test2'])"
      ]
    },
    {
      "cell_type": "code",
      "execution_count": 99,
      "metadata": {
        "colab": {
          "base_uri": "https://localhost:8080/",
          "height": 237
        },
        "id": "kTiVQb-FSK1e",
        "outputId": "157baa0f-1216-499c-cc75-ad51b0b8ca84"
      },
      "outputs": [
        {
          "output_type": "execute_result",
          "data": {
            "text/html": [
              "\n",
              "  <div id=\"df-8ed4cb66-18b1-4a0f-931a-60403afdf380\">\n",
              "    <div class=\"colab-df-container\">\n",
              "      <div>\n",
              "<style scoped>\n",
              "    .dataframe tbody tr th:only-of-type {\n",
              "        vertical-align: middle;\n",
              "    }\n",
              "\n",
              "    .dataframe tbody tr th {\n",
              "        vertical-align: top;\n",
              "    }\n",
              "\n",
              "    .dataframe thead th {\n",
              "        text-align: right;\n",
              "    }\n",
              "</style>\n",
              "<table border=\"1\" class=\"dataframe\">\n",
              "  <thead>\n",
              "    <tr style=\"text-align: right;\">\n",
              "      <th></th>\n",
              "      <th>Train</th>\n",
              "      <th>Test1</th>\n",
              "      <th>Test2</th>\n",
              "    </tr>\n",
              "    <tr>\n",
              "      <th>Solver</th>\n",
              "      <th></th>\n",
              "      <th></th>\n",
              "      <th></th>\n",
              "    </tr>\n",
              "  </thead>\n",
              "  <tbody>\n",
              "    <tr>\n",
              "      <th>Logistic Regression</th>\n",
              "      <td>98.6</td>\n",
              "      <td>89.04</td>\n",
              "      <td>95.61</td>\n",
              "    </tr>\n",
              "    <tr>\n",
              "      <th>liblinear</th>\n",
              "      <td>98.6</td>\n",
              "      <td>89.23</td>\n",
              "      <td>95.65</td>\n",
              "    </tr>\n",
              "    <tr>\n",
              "      <th>newton-cg</th>\n",
              "      <td>98.6</td>\n",
              "      <td>89.04</td>\n",
              "      <td>95.61</td>\n",
              "    </tr>\n",
              "    <tr>\n",
              "      <th>saga</th>\n",
              "      <td>98.6</td>\n",
              "      <td>89.04</td>\n",
              "      <td>95.63</td>\n",
              "    </tr>\n",
              "    <tr>\n",
              "      <th>lbfgs</th>\n",
              "      <td>98.6</td>\n",
              "      <td>89.04</td>\n",
              "      <td>95.61</td>\n",
              "    </tr>\n",
              "  </tbody>\n",
              "</table>\n",
              "</div>\n",
              "      <button class=\"colab-df-convert\" onclick=\"convertToInteractive('df-8ed4cb66-18b1-4a0f-931a-60403afdf380')\"\n",
              "              title=\"Convert this dataframe to an interactive table.\"\n",
              "              style=\"display:none;\">\n",
              "        \n",
              "  <svg xmlns=\"http://www.w3.org/2000/svg\" height=\"24px\"viewBox=\"0 0 24 24\"\n",
              "       width=\"24px\">\n",
              "    <path d=\"M0 0h24v24H0V0z\" fill=\"none\"/>\n",
              "    <path d=\"M18.56 5.44l.94 2.06.94-2.06 2.06-.94-2.06-.94-.94-2.06-.94 2.06-2.06.94zm-11 1L8.5 8.5l.94-2.06 2.06-.94-2.06-.94L8.5 2.5l-.94 2.06-2.06.94zm10 10l.94 2.06.94-2.06 2.06-.94-2.06-.94-.94-2.06-.94 2.06-2.06.94z\"/><path d=\"M17.41 7.96l-1.37-1.37c-.4-.4-.92-.59-1.43-.59-.52 0-1.04.2-1.43.59L10.3 9.45l-7.72 7.72c-.78.78-.78 2.05 0 2.83L4 21.41c.39.39.9.59 1.41.59.51 0 1.02-.2 1.41-.59l7.78-7.78 2.81-2.81c.8-.78.8-2.07 0-2.86zM5.41 20L4 18.59l7.72-7.72 1.47 1.35L5.41 20z\"/>\n",
              "  </svg>\n",
              "      </button>\n",
              "      \n",
              "  <style>\n",
              "    .colab-df-container {\n",
              "      display:flex;\n",
              "      flex-wrap:wrap;\n",
              "      gap: 12px;\n",
              "    }\n",
              "\n",
              "    .colab-df-convert {\n",
              "      background-color: #E8F0FE;\n",
              "      border: none;\n",
              "      border-radius: 50%;\n",
              "      cursor: pointer;\n",
              "      display: none;\n",
              "      fill: #1967D2;\n",
              "      height: 32px;\n",
              "      padding: 0 0 0 0;\n",
              "      width: 32px;\n",
              "    }\n",
              "\n",
              "    .colab-df-convert:hover {\n",
              "      background-color: #E2EBFA;\n",
              "      box-shadow: 0px 1px 2px rgba(60, 64, 67, 0.3), 0px 1px 3px 1px rgba(60, 64, 67, 0.15);\n",
              "      fill: #174EA6;\n",
              "    }\n",
              "\n",
              "    [theme=dark] .colab-df-convert {\n",
              "      background-color: #3B4455;\n",
              "      fill: #D2E3FC;\n",
              "    }\n",
              "\n",
              "    [theme=dark] .colab-df-convert:hover {\n",
              "      background-color: #434B5C;\n",
              "      box-shadow: 0px 1px 3px 1px rgba(0, 0, 0, 0.15);\n",
              "      filter: drop-shadow(0px 1px 2px rgba(0, 0, 0, 0.3));\n",
              "      fill: #FFFFFF;\n",
              "    }\n",
              "  </style>\n",
              "\n",
              "      <script>\n",
              "        const buttonEl =\n",
              "          document.querySelector('#df-8ed4cb66-18b1-4a0f-931a-60403afdf380 button.colab-df-convert');\n",
              "        buttonEl.style.display =\n",
              "          google.colab.kernel.accessAllowed ? 'block' : 'none';\n",
              "\n",
              "        async function convertToInteractive(key) {\n",
              "          const element = document.querySelector('#df-8ed4cb66-18b1-4a0f-931a-60403afdf380');\n",
              "          const dataTable =\n",
              "            await google.colab.kernel.invokeFunction('convertToInteractive',\n",
              "                                                     [key], {});\n",
              "          if (!dataTable) return;\n",
              "\n",
              "          const docLinkHtml = 'Like what you see? Visit the ' +\n",
              "            '<a target=\"_blank\" href=https://colab.research.google.com/notebooks/data_table.ipynb>data table notebook</a>'\n",
              "            + ' to learn more about interactive tables.';\n",
              "          element.innerHTML = '';\n",
              "          dataTable['output_type'] = 'display_data';\n",
              "          await google.colab.output.renderOutput(dataTable, element);\n",
              "          const docLink = document.createElement('div');\n",
              "          docLink.innerHTML = docLinkHtml;\n",
              "          element.appendChild(docLink);\n",
              "        }\n",
              "      </script>\n",
              "    </div>\n",
              "  </div>\n",
              "  "
            ],
            "text/plain": [
              "                     Train  Test1  Test2\n",
              "Solver                                  \n",
              "Logistic Regression   98.6  89.04  95.61\n",
              "liblinear             98.6  89.23  95.65\n",
              "newton-cg             98.6  89.04  95.61\n",
              "saga                  98.6  89.04  95.63\n",
              "lbfgs                 98.6  89.04  95.61"
            ]
          },
          "metadata": {},
          "execution_count": 99
        }
      ],
      "source": [
        "d.set_index('Solver')"
      ]
    },
    {
      "cell_type": "code",
      "execution_count": 100,
      "metadata": {
        "id": "XXKlBQU5TbDI"
      },
      "outputs": [],
      "source": [
        "F = []\n",
        "F.append(k)"
      ]
    },
    {
      "cell_type": "code",
      "execution_count": 101,
      "metadata": {
        "colab": {
          "base_uri": "https://localhost:8080/"
        },
        "id": "sZ5hpdPQUQ_5",
        "outputId": "853f1312-2642-4cab-a25b-ba1a0b3a7143"
      },
      "outputs": [
        {
          "output_type": "execute_result",
          "data": {
            "text/plain": [
              "[['Logistic Regression', 98.6, 89.04, 95.61]]"
            ]
          },
          "metadata": {},
          "execution_count": 101
        }
      ],
      "source": [
        "F"
      ]
    },
    {
      "cell_type": "markdown",
      "metadata": {
        "id": "UyNwAv60vt10"
      },
      "source": [
        "#Naive Bayes"
      ]
    },
    {
      "cell_type": "code",
      "execution_count": 102,
      "metadata": {
        "colab": {
          "base_uri": "https://localhost:8080/"
        },
        "id": "YcIAPhCMndvd",
        "outputId": "37030777-7d2b-4a2b-eed1-2f590bff734a"
      },
      "outputs": [
        {
          "output_type": "stream",
          "name": "stdout",
          "text": [
            "97.89\n",
            "90.39\n",
            "99.15\n"
          ]
        }
      ],
      "source": [
        "from sklearn.naive_bayes import GaussianNB\n",
        "# GNB Classifier\n",
        "GNB = GaussianNB()\n",
        "g = ['GaussianNB']\n",
        "# training\n",
        "GNB.fit(X_scaled_train, Y_train)\n",
        "\n",
        "# predictions\n",
        "Y_pred1 = GNB.predict(X_scaled_test1)\n",
        "Y_pred2 = GNB.predict(X_scaled_test2)\n",
        "# accuracy\n",
        "a = round(GNB.score(X_scaled_train,Y_train)*100,2)\n",
        "acc1 = round(GNB.score(X_scaled_test1, Y_test1)*100, 2)\n",
        "acc2 = round(GNB.score(X_scaled_test2, Y_test2)*100, 2)\n",
        "g.append(a)\n",
        "g.append(acc1)\n",
        "g.append(acc2)\n",
        "\n",
        "print(a)\n",
        "print(acc1)\n",
        "print(acc2)"
      ]
    },
    {
      "cell_type": "code",
      "execution_count": 103,
      "metadata": {
        "id": "KlYtQCTmVe3T"
      },
      "outputs": [],
      "source": [
        "F.append(g)"
      ]
    },
    {
      "cell_type": "code",
      "execution_count": 104,
      "metadata": {
        "colab": {
          "base_uri": "https://localhost:8080/"
        },
        "id": "mLhfIWD8W12I",
        "outputId": "c07c8d07-970b-4801-e5ca-1a0bdc29e7e4"
      },
      "outputs": [
        {
          "output_type": "execute_result",
          "data": {
            "text/plain": [
              "[['Logistic Regression', 98.6, 89.04, 95.61],\n",
              " ['GaussianNB', 97.89, 90.39, 99.15]]"
            ]
          },
          "metadata": {},
          "execution_count": 104
        }
      ],
      "source": [
        "F"
      ]
    },
    {
      "cell_type": "code",
      "execution_count": 105,
      "metadata": {
        "colab": {
          "base_uri": "https://localhost:8080/"
        },
        "id": "fhdcib-PwM7K",
        "outputId": "24bcbfc4-6a57-4c67-8da5-33b731cf7edf"
      },
      "outputs": [
        {
          "output_type": "stream",
          "name": "stdout",
          "text": [
            "Confusion Matrix:\n",
            "[[1682   11]\n",
            " [ 245  727]]\n",
            "\n",
            "Classification Report:\n",
            "              precision    recall  f1-score   support\n",
            "\n",
            "           0       0.87      0.99      0.93      1693\n",
            "           1       0.99      0.75      0.85       972\n",
            "\n",
            "    accuracy                           0.90      2665\n",
            "   macro avg       0.93      0.87      0.89      2665\n",
            "weighted avg       0.91      0.90      0.90      2665\n",
            "\n",
            "\n",
            "Accuracy: 0.9039399624765478\n",
            "Confusion Matrix:\n",
            "[[7635   68]\n",
            " [  15 2034]]\n",
            "\n",
            "Classification Report:\n",
            "              precision    recall  f1-score   support\n",
            "\n",
            "           0       1.00      0.99      0.99      7703\n",
            "           1       0.97      0.99      0.98      2049\n",
            "\n",
            "    accuracy                           0.99      9752\n",
            "   macro avg       0.98      0.99      0.99      9752\n",
            "weighted avg       0.99      0.99      0.99      9752\n",
            "\n",
            "\n",
            "Accuracy: 0.9914889253486464\n"
          ]
        }
      ],
      "source": [
        "# Confusion Matrix \n",
        "result = confusion_matrix(Y_test1, Y_pred1)\n",
        "print(\"Confusion Matrix:\")\n",
        "print(result)\n",
        "# Classification report\n",
        "result1 = classification_report(Y_test1, Y_pred1)\n",
        "print(\"\\nClassification Report:\")\n",
        "print (result1)\n",
        "# Accuracy score\n",
        "result2 = accuracy_score(Y_test1, Y_pred1)\n",
        "print(\"\\nAccuracy:\",result2)\n",
        "\n",
        "# Confusion Matrix \n",
        "result = confusion_matrix(Y_test2, Y_pred2)\n",
        "print(\"Confusion Matrix:\")\n",
        "print(result)\n",
        "# Classification report\n",
        "result1 = classification_report(Y_test2, Y_pred2)\n",
        "print(\"\\nClassification Report:\")\n",
        "print (result1)\n",
        " # Accuracy score\n",
        "result2 = accuracy_score(Y_test2, Y_pred2)\n",
        "print(\"\\nAccuracy:\",result2)"
      ]
    },
    {
      "cell_type": "markdown",
      "metadata": {
        "id": "Teaf-INZOrHl"
      },
      "source": [
        "# K  nearest neighbours"
      ]
    },
    {
      "cell_type": "code",
      "execution_count": 106,
      "metadata": {
        "colab": {
          "base_uri": "https://localhost:8080/"
        },
        "id": "PCjfkYqrwgj0",
        "outputId": "867db039-a5c4-4709-97b4-569bafcd3977"
      },
      "outputs": [
        {
          "output_type": "stream",
          "name": "stdout",
          "text": [
            "Accuracy on Train :  99.58\n",
            "Accuracy on Test1 :  96.06\n",
            "Accuracy on Test2 :  96.67\n"
          ]
        }
      ],
      "source": [
        "from sklearn.neighbors import KNeighborsClassifier\n",
        "knnr = KNeighborsClassifier(n_neighbors = 5, weights='uniform')                     \n",
        "knnr.fit(X_scaled_train, Y_train)\n",
        "a = ['KNeighborsClassifier']\n",
        "# accuracy \n",
        "a.append(round(knnr.score(X_scaled_train, Y_train)*100, 2))\n",
        "a.append(round(knnr.score(X_scaled_test1, Y_test1)*100, 2))\n",
        "a.append(round(knnr.score(X_scaled_test2, Y_test2)*100, 2))\n",
        "\n",
        "\n",
        "print('Accuracy on Train : ', round(knnr.score(X_scaled_train, Y_train)*100, 2))\n",
        "print('Accuracy on Test1 : ', round(knnr.score(X_scaled_test1, Y_test1)*100, 2))\n",
        "print('Accuracy on Test2 : ', round(knnr.score(X_scaled_test2, Y_test2)*100, 2))"
      ]
    },
    {
      "cell_type": "code",
      "execution_count": 107,
      "metadata": {
        "id": "hrOwjlncXbin"
      },
      "outputs": [],
      "source": [
        "F.append(a)"
      ]
    },
    {
      "cell_type": "code",
      "execution_count": 108,
      "metadata": {
        "colab": {
          "base_uri": "https://localhost:8080/"
        },
        "id": "4VGkISLAXdO2",
        "outputId": "c1e77b72-cd4a-4411-c3c4-9ba69a26e603"
      },
      "outputs": [
        {
          "output_type": "execute_result",
          "data": {
            "text/plain": [
              "[['Logistic Regression', 98.6, 89.04, 95.61],\n",
              " ['GaussianNB', 97.89, 90.39, 99.15],\n",
              " ['KNeighborsClassifier', 99.58, 96.06, 96.67]]"
            ]
          },
          "metadata": {},
          "execution_count": 108
        }
      ],
      "source": [
        "F"
      ]
    },
    {
      "cell_type": "code",
      "execution_count": 109,
      "metadata": {
        "colab": {
          "base_uri": "https://localhost:8080/"
        },
        "id": "zYdBzdosPgH8",
        "outputId": "cbc959dd-a875-4a9e-9030-fc4bbd003db3"
      },
      "outputs": [
        {
          "output_type": "stream",
          "name": "stdout",
          "text": [
            "Confusion Matrix:\n",
            "[[1648   45]\n",
            " [  60  912]]\n",
            "\n",
            "Classification Report:\n",
            "              precision    recall  f1-score   support\n",
            "\n",
            "           0       0.96      0.97      0.97      1693\n",
            "           1       0.95      0.94      0.95       972\n",
            "\n",
            "    accuracy                           0.96      2665\n",
            "   macro avg       0.96      0.96      0.96      2665\n",
            "weighted avg       0.96      0.96      0.96      2665\n",
            "\n",
            "\n",
            "Accuracy: 0.9606003752345216\n",
            "Confusion Matrix:\n",
            "[[7568  135]\n",
            " [ 190 1859]]\n",
            "\n",
            "Classification Report:\n",
            "              precision    recall  f1-score   support\n",
            "\n",
            "           0       0.98      0.98      0.98      7703\n",
            "           1       0.93      0.91      0.92      2049\n",
            "\n",
            "    accuracy                           0.97      9752\n",
            "   macro avg       0.95      0.94      0.95      9752\n",
            "weighted avg       0.97      0.97      0.97      9752\n",
            "\n",
            "\n",
            "Accuracy: 0.9666735028712059\n"
          ]
        }
      ],
      "source": [
        "# predictions\n",
        "Y_pred1 = knnr.predict(X_scaled_test1)\n",
        "Y_pred2 = knnr.predict(X_scaled_test2)\n",
        "# Confusion Matrix \n",
        "result = confusion_matrix(Y_test1, Y_pred1)\n",
        "\n",
        "print(\"Confusion Matrix:\")\n",
        "print(result)\n",
        "# Classification report\n",
        "result1 = classification_report(Y_test1, Y_pred1)\n",
        "print(\"\\nClassification Report:\")\n",
        "print (result1)\n",
        "# Accuracy score\n",
        "result2 = accuracy_score(Y_test1, Y_pred1)\n",
        "print(\"\\nAccuracy:\",result2)\n",
        "\n",
        "# Confusion Matrix \n",
        "result = confusion_matrix(Y_test2, Y_pred2)\n",
        "print(\"Confusion Matrix:\")\n",
        "print(result)\n",
        "# Classification report\n",
        "result1 = classification_report(Y_test2, Y_pred2)\n",
        "print(\"\\nClassification Report:\")\n",
        "print (result1)\n",
        " # Accuracy score\n",
        "result2 = accuracy_score(Y_test2, Y_pred2)\n",
        "print(\"\\nAccuracy:\",result2)\n"
      ]
    },
    {
      "cell_type": "code",
      "execution_count": 109,
      "metadata": {
        "id": "0qj4lCyLSNAN"
      },
      "outputs": [],
      "source": [
        ""
      ]
    },
    {
      "cell_type": "markdown",
      "metadata": {
        "id": "O0-D6VeIULm6"
      },
      "source": [
        "\n",
        "#Random Forest"
      ]
    },
    {
      "cell_type": "code",
      "execution_count": 110,
      "metadata": {
        "colab": {
          "base_uri": "https://localhost:8080/"
        },
        "id": "N1W3w2MEUMuW",
        "outputId": "f639bc37-62d1-4980-e91c-92c3a9c7b4df"
      },
      "outputs": [
        {
          "output_type": "stream",
          "name": "stdout",
          "text": [
            "Accuracy on Train :  100.0\n",
            "Accuracy on Test1 :  94.18\n",
            "Accuracy on Test2 :  96.58\n",
            "Confusion Matrix:\n",
            "[[1648   45]\n",
            " [ 110  862]]\n",
            "\n",
            "Classification Report:\n",
            "              precision    recall  f1-score   support\n",
            "\n",
            "           0       0.94      0.97      0.96      1693\n",
            "           1       0.95      0.89      0.92       972\n",
            "\n",
            "    accuracy                           0.94      2665\n",
            "   macro avg       0.94      0.93      0.94      2665\n",
            "weighted avg       0.94      0.94      0.94      2665\n",
            "\n",
            "\n",
            "Accuracy: 0.9418386491557224\n",
            "Confusion Matrix:\n",
            "[[7658   45]\n",
            " [ 289 1760]]\n",
            "\n",
            "Classification Report:\n",
            "              precision    recall  f1-score   support\n",
            "\n",
            "           0       0.96      0.99      0.98      7703\n",
            "           1       0.98      0.86      0.91      2049\n",
            "\n",
            "    accuracy                           0.97      9752\n",
            "   macro avg       0.97      0.93      0.95      9752\n",
            "weighted avg       0.97      0.97      0.96      9752\n",
            "\n",
            "\n",
            "Accuracy: 0.9657506152584086\n"
          ]
        }
      ],
      "source": [
        "from sklearn.ensemble import RandomForestClassifier\n",
        "# classifier\n",
        "RF = RandomForestClassifier(n_estimators = 50)\n",
        "a =['RandomForestClassifier']\n",
        "# training\n",
        "RF.fit(X_scaled_train, Y_train)\n",
        "# accuracy \n",
        "a.append(round(RF.score(X_scaled_train, Y_train)*100, 2))\n",
        "a.append(round(RF.score(X_scaled_test1, Y_test1)*100, 2))\n",
        "a.append(round(RF.score(X_scaled_test2, Y_test2)*100, 2))\n",
        "\n",
        "\n",
        "\n",
        "print('Accuracy on Train : ', round(RF.score(X_scaled_train, Y_train)*100, 2))\n",
        "print('Accuracy on Test1 : ', round(RF.score(X_scaled_test1, Y_test1)*100, 2))\n",
        "print('Accuracy on Test2 : ', round(RF.score(X_scaled_test2, Y_test2)*100, 2))\n",
        "\n",
        "# predictions\n",
        "Y_pred1 = RF.predict(X_scaled_test1)\n",
        "Y_pred2 = RF.predict(X_scaled_test2)\n",
        "\n",
        "# Confusion Matrix \n",
        "result = confusion_matrix(Y_test1, Y_pred1)\n",
        "print(\"Confusion Matrix:\")\n",
        "print(result)\n",
        "# Classification report\n",
        "result1 = classification_report(Y_test1, Y_pred1)\n",
        "print(\"\\nClassification Report:\")\n",
        "print (result1)\n",
        "# Accuracy score\n",
        "result2 = accuracy_score(Y_test1, Y_pred1)\n",
        "print(\"\\nAccuracy:\",result2)\n",
        "\n",
        "# Confusion Matrix \n",
        "result = confusion_matrix(Y_test2, Y_pred2)\n",
        "print(\"Confusion Matrix:\")\n",
        "print(result)\n",
        "# Classification report\n",
        "result1 = classification_report(Y_test2, Y_pred2)\n",
        "print(\"\\nClassification Report:\")\n",
        "print (result1)\n",
        " # Accuracy score\n",
        "result2 = accuracy_score(Y_test2, Y_pred2)\n",
        "print(\"\\nAccuracy:\",result2)\n",
        "\n"
      ]
    },
    {
      "cell_type": "code",
      "execution_count": 111,
      "metadata": {
        "colab": {
          "base_uri": "https://localhost:8080/"
        },
        "id": "Tc_4pNPfYBhp",
        "outputId": "e0e743b1-6654-4349-c34e-bea507757caa"
      },
      "outputs": [
        {
          "output_type": "execute_result",
          "data": {
            "text/plain": [
              "[['Logistic Regression', 98.6, 89.04, 95.61],\n",
              " ['GaussianNB', 97.89, 90.39, 99.15],\n",
              " ['KNeighborsClassifier', 99.58, 96.06, 96.67],\n",
              " ['RandomForestClassifier', 100.0, 94.18, 96.58]]"
            ]
          },
          "metadata": {},
          "execution_count": 111
        }
      ],
      "source": [
        "F.append(a)\n",
        "F"
      ]
    },
    {
      "cell_type": "markdown",
      "metadata": {
        "id": "MRR1xiOqXmaK"
      },
      "source": [
        "#Support Vector Machine"
      ]
    },
    {
      "cell_type": "code",
      "execution_count": 112,
      "metadata": {
        "colab": {
          "base_uri": "https://localhost:8080/"
        },
        "id": "XOCPCtF7Xltm",
        "outputId": "8210ffc7-3896-46e8-d6e4-7c6fd6fb624b"
      },
      "outputs": [
        {
          "output_type": "stream",
          "name": "stdout",
          "text": [
            "linear\n",
            "\n",
            "Accuracy on Train :  98.62\n",
            "Accuracy on Test1 :  91.74\n",
            "Accuracy on Test2 :  99.24\n",
            "Confusion Matrix:\n",
            "[[1667   26]\n",
            " [ 194  778]]\n",
            "\n",
            "Classification Report:\n",
            "              precision    recall  f1-score   support\n",
            "\n",
            "           0       0.90      0.98      0.94      1693\n",
            "           1       0.97      0.80      0.88       972\n",
            "\n",
            "    accuracy                           0.92      2665\n",
            "   macro avg       0.93      0.89      0.91      2665\n",
            "weighted avg       0.92      0.92      0.92      2665\n",
            "\n",
            "\n",
            "Accuracy: 0.9174484052532833\n",
            "Confusion Matrix:\n",
            "[[7645   58]\n",
            " [  16 2033]]\n",
            "\n",
            "Classification Report:\n",
            "              precision    recall  f1-score   support\n",
            "\n",
            "           0       1.00      0.99      1.00      7703\n",
            "           1       0.97      0.99      0.98      2049\n",
            "\n",
            "    accuracy                           0.99      9752\n",
            "   macro avg       0.99      0.99      0.99      9752\n",
            "weighted avg       0.99      0.99      0.99      9752\n",
            "\n",
            "\n",
            "Accuracy: 0.9924118129614438\n",
            "\n",
            "rbf\n",
            "\n",
            "Accuracy on Train :  98.88\n",
            "Accuracy on Test1 :  97.79\n",
            "Accuracy on Test2 :  97.87\n",
            "Confusion Matrix:\n",
            "[[1638   55]\n",
            " [   4  968]]\n",
            "\n",
            "Classification Report:\n",
            "              precision    recall  f1-score   support\n",
            "\n",
            "           0       1.00      0.97      0.98      1693\n",
            "           1       0.95      1.00      0.97       972\n",
            "\n",
            "    accuracy                           0.98      2665\n",
            "   macro avg       0.97      0.98      0.98      2665\n",
            "weighted avg       0.98      0.98      0.98      2665\n",
            "\n",
            "\n",
            "Accuracy: 0.9778611632270169\n",
            "Confusion Matrix:\n",
            "[[7640   63]\n",
            " [ 145 1904]]\n",
            "\n",
            "Classification Report:\n",
            "              precision    recall  f1-score   support\n",
            "\n",
            "           0       0.98      0.99      0.99      7703\n",
            "           1       0.97      0.93      0.95      2049\n",
            "\n",
            "    accuracy                           0.98      9752\n",
            "   macro avg       0.97      0.96      0.97      9752\n",
            "weighted avg       0.98      0.98      0.98      9752\n",
            "\n",
            "\n",
            "Accuracy: 0.9786710418375718\n",
            "\n"
          ]
        }
      ],
      "source": [
        "from sklearn.svm import SVC\n",
        "l = []\n",
        "kernels ={ \"rbf\",\"linear\"}\n",
        "for k in kernels:\n",
        "    sv=[]\n",
        "    sv.append(k)\n",
        "    print(k)\n",
        "    print()\n",
        "    sv.append\n",
        "    svm = SVC(kernel = k,gamma = 'scale')\n",
        "    svm.fit(X_scaled_train, Y_train)\n",
        "    Y_pred1 = svm.predict(X_scaled_test1)\n",
        "    Y_pred2 = svm.predict(X_scaled_test2)\n",
        "    print('Accuracy on Train : ', round(svm.score(X_scaled_train, Y_train)*100, 2))\n",
        "    print('Accuracy on Test1 : ', round(svm.score(X_scaled_test1, Y_test1)*100, 2))\n",
        "    print('Accuracy on Test2 : ', round(svm.score(X_scaled_test2, Y_test2)*100, 2))\n",
        "    sv.append(round(svm.score(X_scaled_train, Y_train)*100, 2))\n",
        "    sv.append(round(svm.score(X_scaled_test1, Y_test1)*100, 2))\n",
        "    sv.append(round(svm.score(X_scaled_test2, Y_test2)*100, 2))\n",
        "\n",
        "\n",
        "    # accuracy \n",
        "   \n",
        "       # Confusion Matrix \n",
        "    result = confusion_matrix(Y_test1, Y_pred1)\n",
        "    print(\"Confusion Matrix:\")\n",
        "    print(result)\n",
        "    # Classification report\n",
        "    result1 = classification_report(Y_test1, Y_pred1)\n",
        "    print(\"\\nClassification Report:\")\n",
        "    print(result1)\n",
        "    # Accuracy score\n",
        "    result2 = accuracy_score(Y_test1, Y_pred1)\n",
        "    print(\"\\nAccuracy:\",result2)\n",
        "    #   Confusion Matrix \n",
        "    result = confusion_matrix(Y_test2, Y_pred2)\n",
        "    print(\"Confusion Matrix:\")\n",
        "    print(result)\n",
        "    # Classification report\n",
        "    result1 = classification_report(Y_test2, Y_pred2)\n",
        "    print(\"\\nClassification Report:\")\n",
        "    print (result1)\n",
        "     # Accuracy score\n",
        "    result2 = accuracy_score(Y_test2, Y_pred2)\n",
        "    print(\"\\nAccuracy:\",result2)\n",
        "    print()\n",
        "    l.append(sv)"
      ]
    },
    {
      "cell_type": "code",
      "execution_count": 113,
      "metadata": {
        "id": "LMCoSDI0Y-TJ"
      },
      "outputs": [],
      "source": [
        "c =l[1]\n",
        "c[0] = 'SVM'"
      ]
    },
    {
      "cell_type": "code",
      "execution_count": 114,
      "metadata": {
        "id": "vh97cWo9Zb_s"
      },
      "outputs": [],
      "source": [
        " svq= pd.DataFrame(l,columns =['Solver','Train','Test1','Test2'])"
      ]
    },
    {
      "cell_type": "code",
      "execution_count": 115,
      "metadata": {
        "colab": {
          "base_uri": "https://localhost:8080/",
          "height": 112
        },
        "id": "7tlkFk4nZy7X",
        "outputId": "0124e305-5329-4538-f14f-2c2ef4294271"
      },
      "outputs": [
        {
          "output_type": "execute_result",
          "data": {
            "text/html": [
              "\n",
              "  <div id=\"df-817ac10d-e024-4d95-a39a-438d6a09cff5\">\n",
              "    <div class=\"colab-df-container\">\n",
              "      <div>\n",
              "<style scoped>\n",
              "    .dataframe tbody tr th:only-of-type {\n",
              "        vertical-align: middle;\n",
              "    }\n",
              "\n",
              "    .dataframe tbody tr th {\n",
              "        vertical-align: top;\n",
              "    }\n",
              "\n",
              "    .dataframe thead th {\n",
              "        text-align: right;\n",
              "    }\n",
              "</style>\n",
              "<table border=\"1\" class=\"dataframe\">\n",
              "  <thead>\n",
              "    <tr style=\"text-align: right;\">\n",
              "      <th></th>\n",
              "      <th>Solver</th>\n",
              "      <th>Train</th>\n",
              "      <th>Test1</th>\n",
              "      <th>Test2</th>\n",
              "    </tr>\n",
              "  </thead>\n",
              "  <tbody>\n",
              "    <tr>\n",
              "      <th>0</th>\n",
              "      <td>linear</td>\n",
              "      <td>98.62</td>\n",
              "      <td>91.74</td>\n",
              "      <td>99.24</td>\n",
              "    </tr>\n",
              "    <tr>\n",
              "      <th>1</th>\n",
              "      <td>SVM</td>\n",
              "      <td>98.88</td>\n",
              "      <td>97.79</td>\n",
              "      <td>97.87</td>\n",
              "    </tr>\n",
              "  </tbody>\n",
              "</table>\n",
              "</div>\n",
              "      <button class=\"colab-df-convert\" onclick=\"convertToInteractive('df-817ac10d-e024-4d95-a39a-438d6a09cff5')\"\n",
              "              title=\"Convert this dataframe to an interactive table.\"\n",
              "              style=\"display:none;\">\n",
              "        \n",
              "  <svg xmlns=\"http://www.w3.org/2000/svg\" height=\"24px\"viewBox=\"0 0 24 24\"\n",
              "       width=\"24px\">\n",
              "    <path d=\"M0 0h24v24H0V0z\" fill=\"none\"/>\n",
              "    <path d=\"M18.56 5.44l.94 2.06.94-2.06 2.06-.94-2.06-.94-.94-2.06-.94 2.06-2.06.94zm-11 1L8.5 8.5l.94-2.06 2.06-.94-2.06-.94L8.5 2.5l-.94 2.06-2.06.94zm10 10l.94 2.06.94-2.06 2.06-.94-2.06-.94-.94-2.06-.94 2.06-2.06.94z\"/><path d=\"M17.41 7.96l-1.37-1.37c-.4-.4-.92-.59-1.43-.59-.52 0-1.04.2-1.43.59L10.3 9.45l-7.72 7.72c-.78.78-.78 2.05 0 2.83L4 21.41c.39.39.9.59 1.41.59.51 0 1.02-.2 1.41-.59l7.78-7.78 2.81-2.81c.8-.78.8-2.07 0-2.86zM5.41 20L4 18.59l7.72-7.72 1.47 1.35L5.41 20z\"/>\n",
              "  </svg>\n",
              "      </button>\n",
              "      \n",
              "  <style>\n",
              "    .colab-df-container {\n",
              "      display:flex;\n",
              "      flex-wrap:wrap;\n",
              "      gap: 12px;\n",
              "    }\n",
              "\n",
              "    .colab-df-convert {\n",
              "      background-color: #E8F0FE;\n",
              "      border: none;\n",
              "      border-radius: 50%;\n",
              "      cursor: pointer;\n",
              "      display: none;\n",
              "      fill: #1967D2;\n",
              "      height: 32px;\n",
              "      padding: 0 0 0 0;\n",
              "      width: 32px;\n",
              "    }\n",
              "\n",
              "    .colab-df-convert:hover {\n",
              "      background-color: #E2EBFA;\n",
              "      box-shadow: 0px 1px 2px rgba(60, 64, 67, 0.3), 0px 1px 3px 1px rgba(60, 64, 67, 0.15);\n",
              "      fill: #174EA6;\n",
              "    }\n",
              "\n",
              "    [theme=dark] .colab-df-convert {\n",
              "      background-color: #3B4455;\n",
              "      fill: #D2E3FC;\n",
              "    }\n",
              "\n",
              "    [theme=dark] .colab-df-convert:hover {\n",
              "      background-color: #434B5C;\n",
              "      box-shadow: 0px 1px 3px 1px rgba(0, 0, 0, 0.15);\n",
              "      filter: drop-shadow(0px 1px 2px rgba(0, 0, 0, 0.3));\n",
              "      fill: #FFFFFF;\n",
              "    }\n",
              "  </style>\n",
              "\n",
              "      <script>\n",
              "        const buttonEl =\n",
              "          document.querySelector('#df-817ac10d-e024-4d95-a39a-438d6a09cff5 button.colab-df-convert');\n",
              "        buttonEl.style.display =\n",
              "          google.colab.kernel.accessAllowed ? 'block' : 'none';\n",
              "\n",
              "        async function convertToInteractive(key) {\n",
              "          const element = document.querySelector('#df-817ac10d-e024-4d95-a39a-438d6a09cff5');\n",
              "          const dataTable =\n",
              "            await google.colab.kernel.invokeFunction('convertToInteractive',\n",
              "                                                     [key], {});\n",
              "          if (!dataTable) return;\n",
              "\n",
              "          const docLinkHtml = 'Like what you see? Visit the ' +\n",
              "            '<a target=\"_blank\" href=https://colab.research.google.com/notebooks/data_table.ipynb>data table notebook</a>'\n",
              "            + ' to learn more about interactive tables.';\n",
              "          element.innerHTML = '';\n",
              "          dataTable['output_type'] = 'display_data';\n",
              "          await google.colab.output.renderOutput(dataTable, element);\n",
              "          const docLink = document.createElement('div');\n",
              "          docLink.innerHTML = docLinkHtml;\n",
              "          element.appendChild(docLink);\n",
              "        }\n",
              "      </script>\n",
              "    </div>\n",
              "  </div>\n",
              "  "
            ],
            "text/plain": [
              "   Solver  Train  Test1  Test2\n",
              "0  linear  98.62  91.74  99.24\n",
              "1     SVM  98.88  97.79  97.87"
            ]
          },
          "metadata": {},
          "execution_count": 115
        }
      ],
      "source": [
        "svq"
      ]
    },
    {
      "cell_type": "code",
      "execution_count": 116,
      "metadata": {
        "id": "e0PV9xn-bo-V"
      },
      "outputs": [],
      "source": [
        "F.append(c)"
      ]
    },
    {
      "cell_type": "code",
      "execution_count": 117,
      "metadata": {
        "colab": {
          "base_uri": "https://localhost:8080/"
        },
        "id": "03oycjTMcT1F",
        "outputId": "04111f50-b1f6-4691-9e30-ff3d7edd909a"
      },
      "outputs": [
        {
          "output_type": "execute_result",
          "data": {
            "text/plain": [
              "[['Logistic Regression', 98.6, 89.04, 95.61],\n",
              " ['GaussianNB', 97.89, 90.39, 99.15],\n",
              " ['KNeighborsClassifier', 99.58, 96.06, 96.67],\n",
              " ['RandomForestClassifier', 100.0, 94.18, 96.58],\n",
              " ['SVM', 98.88, 97.79, 97.87]]"
            ]
          },
          "metadata": {},
          "execution_count": 117
        }
      ],
      "source": [
        "F"
      ]
    },
    {
      "cell_type": "markdown",
      "metadata": {
        "id": "O_lfhi2fskX9"
      },
      "source": [
        "#ANNs"
      ]
    },
    {
      "cell_type": "code",
      "execution_count": 118,
      "metadata": {
        "id": "nvEf1_NzsjqQ"
      },
      "outputs": [],
      "source": [
        "import keras\n",
        "import tensorflow as tf\n",
        "from keras.models import Sequential\n",
        "from keras.layers import Dense\n",
        "from keras.layers import Dropout\n",
        "from tensorflow.keras.optimizers import Adam"
      ]
    },
    {
      "cell_type": "code",
      "execution_count": 119,
      "metadata": {
        "id": "CD2yhUVWsngj"
      },
      "outputs": [],
      "source": [
        "model = Sequential()\n",
        "model.add(Dense(128, input_dim =5, activation='relu'))\n",
        "model.add(Dropout(rate=0.3))\n",
        "model.add(Dense(32, activation='relu'))\n",
        "model.add(Dense(8, activation='relu'))\n",
        "model.add(Dense(1, activation='sigmoid'))"
      ]
    },
    {
      "cell_type": "code",
      "execution_count": 120,
      "metadata": {
        "colab": {
          "base_uri": "https://localhost:8080/"
        },
        "id": "sGZPH_g7txrc",
        "outputId": "f1a0e69a-8350-467c-ca2f-e491ea5abeed"
      },
      "outputs": [
        {
          "output_type": "stream",
          "name": "stdout",
          "text": [
            "Epoch 1/20\n",
            "229/229 [==============================] - 1s 3ms/step - loss: 0.1525 - accuracy: 0.9623 - val_loss: 0.0980 - val_accuracy: 0.9350\n",
            "Epoch 2/20\n",
            "229/229 [==============================] - 1s 3ms/step - loss: 0.0483 - accuracy: 0.9873 - val_loss: 0.0364 - val_accuracy: 0.9767\n",
            "Epoch 3/20\n",
            "229/229 [==============================] - 1s 2ms/step - loss: 0.0444 - accuracy: 0.9873 - val_loss: 0.1268 - val_accuracy: 0.9362\n",
            "Epoch 4/20\n",
            "229/229 [==============================] - 1s 4ms/step - loss: 0.0423 - accuracy: 0.9874 - val_loss: 0.0966 - val_accuracy: 0.9436\n",
            "Epoch 5/20\n",
            "229/229 [==============================] - 1s 6ms/step - loss: 0.0397 - accuracy: 0.9879 - val_loss: 0.0923 - val_accuracy: 0.9534\n",
            "Epoch 6/20\n",
            "229/229 [==============================] - 1s 6ms/step - loss: 0.0363 - accuracy: 0.9870 - val_loss: 0.2052 - val_accuracy: 0.9337\n",
            "Epoch 7/20\n",
            "229/229 [==============================] - 1s 5ms/step - loss: 0.0352 - accuracy: 0.9873 - val_loss: 0.3296 - val_accuracy: 0.9337\n",
            "Epoch 8/20\n",
            "229/229 [==============================] - 1s 3ms/step - loss: 0.0356 - accuracy: 0.9876 - val_loss: 0.1608 - val_accuracy: 0.9350\n",
            "Epoch 9/20\n",
            "229/229 [==============================] - 1s 3ms/step - loss: 0.0333 - accuracy: 0.9879 - val_loss: 0.1556 - val_accuracy: 0.9362\n",
            "Epoch 10/20\n",
            "229/229 [==============================] - 1s 3ms/step - loss: 0.0318 - accuracy: 0.9881 - val_loss: 0.1338 - val_accuracy: 0.9362\n",
            "Epoch 11/20\n",
            "229/229 [==============================] - 1s 3ms/step - loss: 0.0315 - accuracy: 0.9894 - val_loss: 0.2056 - val_accuracy: 0.9337\n",
            "Epoch 12/20\n",
            "229/229 [==============================] - 1s 3ms/step - loss: 0.0311 - accuracy: 0.9900 - val_loss: 0.2146 - val_accuracy: 0.9337\n",
            "Epoch 13/20\n",
            "229/229 [==============================] - 1s 2ms/step - loss: 0.0298 - accuracy: 0.9896 - val_loss: 0.2032 - val_accuracy: 0.9337\n",
            "Epoch 14/20\n",
            "229/229 [==============================] - 1s 3ms/step - loss: 0.0282 - accuracy: 0.9900 - val_loss: 0.1863 - val_accuracy: 0.9337\n",
            "Epoch 15/20\n",
            "229/229 [==============================] - 1s 3ms/step - loss: 0.0285 - accuracy: 0.9909 - val_loss: 0.1646 - val_accuracy: 0.9350\n",
            "Epoch 16/20\n",
            "229/229 [==============================] - 1s 2ms/step - loss: 0.0272 - accuracy: 0.9917 - val_loss: 0.0891 - val_accuracy: 0.9607\n",
            "Epoch 17/20\n",
            "229/229 [==============================] - 1s 2ms/step - loss: 0.0277 - accuracy: 0.9918 - val_loss: 0.2145 - val_accuracy: 0.9337\n",
            "Epoch 18/20\n",
            "229/229 [==============================] - 1s 2ms/step - loss: 0.0273 - accuracy: 0.9904 - val_loss: 0.1333 - val_accuracy: 0.9509\n",
            "Epoch 19/20\n",
            "229/229 [==============================] - 1s 3ms/step - loss: 0.0269 - accuracy: 0.9904 - val_loss: 0.2377 - val_accuracy: 0.9337\n",
            "Epoch 20/20\n",
            "229/229 [==============================] - 1s 2ms/step - loss: 0.0267 - accuracy: 0.9913 - val_loss: 0.1466 - val_accuracy: 0.9460\n",
            "Model: \"sequential_1\"\n",
            "_________________________________________________________________\n",
            " Layer (type)                Output Shape              Param #   \n",
            "=================================================================\n",
            " dense_4 (Dense)             (None, 128)               768       \n",
            "                                                                 \n",
            " dropout_1 (Dropout)         (None, 128)               0         \n",
            "                                                                 \n",
            " dense_5 (Dense)             (None, 32)                4128      \n",
            "                                                                 \n",
            " dense_6 (Dense)             (None, 8)                 264       \n",
            "                                                                 \n",
            " dense_7 (Dense)             (None, 1)                 9         \n",
            "                                                                 \n",
            "=================================================================\n",
            "Total params: 5,169\n",
            "Trainable params: 5,169\n",
            "Non-trainable params: 0\n",
            "_________________________________________________________________\n"
          ]
        }
      ],
      "source": [
        "model.compile(loss='binary_crossentropy', optimizer='adam', metrics=['accuracy']) #binary_crossentropy is used for binary classification\n",
        "history = model.fit(X_scaled_train,Y_train,epochs=20,verbose=True, validation_split=.1)\n",
        "model.summary()"
      ]
    },
    {
      "cell_type": "code",
      "execution_count": 121,
      "metadata": {
        "id": "8vU74-pduWDQ"
      },
      "outputs": [],
      "source": [
        "y_pred1 = model.predict(X_scaled_test1)\n",
        "y_pred2 = model.predict(X_scaled_test2)\n",
        "p = []\n",
        "u = ['Loss']\n",
        "w=['Accuracy']"
      ]
    },
    {
      "cell_type": "code",
      "execution_count": 122,
      "metadata": {
        "colab": {
          "base_uri": "https://localhost:8080/"
        },
        "id": "j1yOLaaDdDIQ",
        "outputId": "66c708cd-2389-4792-ef2a-6fc1ae0d5ec1"
      },
      "outputs": [
        {
          "output_type": "stream",
          "name": "stdout",
          "text": [
            "255/255 [==============================] - 0s 1ms/step - loss: 0.0349 - accuracy: 0.9880\n"
          ]
        }
      ],
      "source": [
        "loss, accuracy  = model.evaluate(X_scaled_train, \n",
        "                            Y_train, verbose=True)\n",
        "u.append(round(loss,3))"
      ]
    },
    {
      "cell_type": "code",
      "execution_count": 123,
      "metadata": {
        "id": "D_YJfFd7dLNe"
      },
      "outputs": [],
      "source": [
        "w.append(round(accuracy*100,2))"
      ]
    },
    {
      "cell_type": "code",
      "execution_count": 124,
      "metadata": {
        "colab": {
          "base_uri": "https://localhost:8080/"
        },
        "id": "cvI00_bUuOz9",
        "outputId": "a0692620-e773-4676-8feb-c4b09e094f34"
      },
      "outputs": [
        {
          "output_type": "stream",
          "name": "stdout",
          "text": [
            "84/84 [==============================] - 0s 2ms/step - loss: 0.1395 - accuracy: 0.9583\n"
          ]
        },
        {
          "output_type": "execute_result",
          "data": {
            "text/plain": [
              "(0.1394660621881485, 0.9583489894866943)"
            ]
          },
          "metadata": {},
          "execution_count": 124
        }
      ],
      "source": [
        "loss1, accuracy1  = model.evaluate(X_scaled_test1, \n",
        "                            Y_test1, verbose=True)\n",
        "loss1  , accuracy1"
      ]
    },
    {
      "cell_type": "code",
      "execution_count": 125,
      "metadata": {
        "colab": {
          "base_uri": "https://localhost:8080/"
        },
        "id": "GeufjfwtvVgg",
        "outputId": "7b66ef1e-28aa-4e41-f495-df8f2d0b81bb"
      },
      "outputs": [
        {
          "output_type": "stream",
          "name": "stdout",
          "text": [
            "305/305 [==============================] - 0s 1ms/step - loss: 0.8417 - accuracy: 0.8861\n"
          ]
        },
        {
          "output_type": "execute_result",
          "data": {
            "text/plain": [
              "(0.8416526913642883, 0.8860746622085571)"
            ]
          },
          "metadata": {},
          "execution_count": 125
        }
      ],
      "source": [
        "loss2, accuracy2  = model.evaluate(X_scaled_test2, \n",
        "                            Y_test2, verbose=True)\n",
        "loss2  , accuracy2"
      ]
    },
    {
      "cell_type": "code",
      "execution_count": 126,
      "metadata": {
        "id": "6j0qDZaQvZFc"
      },
      "outputs": [],
      "source": [
        "w.append(round(accuracy1*100,2))\n",
        "w.append(round(accuracy2*100,2))"
      ]
    },
    {
      "cell_type": "code",
      "execution_count": 127,
      "metadata": {
        "id": "eT27BDjZeYaR"
      },
      "outputs": [],
      "source": [
        "u.append(round(loss1,3))\n",
        "u.append(round(loss2,3))"
      ]
    },
    {
      "cell_type": "code",
      "execution_count": 128,
      "metadata": {
        "colab": {
          "base_uri": "https://localhost:8080/"
        },
        "id": "j_UnTvnxdof7",
        "outputId": "639af028-45e5-4013-e3f8-b048fe54e91c"
      },
      "outputs": [
        {
          "output_type": "execute_result",
          "data": {
            "text/plain": [
              "['Accuracy', 98.8, 95.83, 88.61]"
            ]
          },
          "metadata": {},
          "execution_count": 128
        }
      ],
      "source": [
        "w"
      ]
    },
    {
      "cell_type": "code",
      "execution_count": 129,
      "metadata": {
        "colab": {
          "base_uri": "https://localhost:8080/"
        },
        "id": "9UAxyAqsdjWt",
        "outputId": "a5a8fbd7-8716-4f4d-a2d2-40309b6d00e1"
      },
      "outputs": [
        {
          "output_type": "execute_result",
          "data": {
            "text/plain": [
              "['Loss', 0.035, 0.139, 0.842]"
            ]
          },
          "metadata": {},
          "execution_count": 129
        }
      ],
      "source": [
        "u"
      ]
    },
    {
      "cell_type": "code",
      "execution_count": 130,
      "metadata": {
        "id": "adUFUg6-eaUf"
      },
      "outputs": [],
      "source": [
        "p.append(w)\n",
        "p.append(u)"
      ]
    },
    {
      "cell_type": "code",
      "execution_count": 131,
      "metadata": {
        "colab": {
          "base_uri": "https://localhost:8080/"
        },
        "id": "z2FE4uOfex7r",
        "outputId": "23bcc94c-a883-4213-f9a1-88797996e862"
      },
      "outputs": [
        {
          "output_type": "execute_result",
          "data": {
            "text/plain": [
              "[['Accuracy', 98.8, 95.83, 88.61], ['Loss', 0.035, 0.139, 0.842]]"
            ]
          },
          "metadata": {},
          "execution_count": 131
        }
      ],
      "source": [
        "p"
      ]
    },
    {
      "cell_type": "code",
      "execution_count": 132,
      "metadata": {
        "colab": {
          "base_uri": "https://localhost:8080/",
          "height": 112
        },
        "id": "_pvB_qGHeyoS",
        "outputId": "4fe4425b-b070-4448-ed3b-dedbcf14826f"
      },
      "outputs": [
        {
          "output_type": "execute_result",
          "data": {
            "text/html": [
              "\n",
              "  <div id=\"df-08cee661-174c-446f-862c-5f019fc0af20\">\n",
              "    <div class=\"colab-df-container\">\n",
              "      <div>\n",
              "<style scoped>\n",
              "    .dataframe tbody tr th:only-of-type {\n",
              "        vertical-align: middle;\n",
              "    }\n",
              "\n",
              "    .dataframe tbody tr th {\n",
              "        vertical-align: top;\n",
              "    }\n",
              "\n",
              "    .dataframe thead th {\n",
              "        text-align: right;\n",
              "    }\n",
              "</style>\n",
              "<table border=\"1\" class=\"dataframe\">\n",
              "  <thead>\n",
              "    <tr style=\"text-align: right;\">\n",
              "      <th></th>\n",
              "      <th></th>\n",
              "      <th>Train</th>\n",
              "      <th>Test1</th>\n",
              "      <th>Test2</th>\n",
              "    </tr>\n",
              "  </thead>\n",
              "  <tbody>\n",
              "    <tr>\n",
              "      <th>0</th>\n",
              "      <td>Accuracy</td>\n",
              "      <td>98.800</td>\n",
              "      <td>95.830</td>\n",
              "      <td>88.610</td>\n",
              "    </tr>\n",
              "    <tr>\n",
              "      <th>1</th>\n",
              "      <td>Loss</td>\n",
              "      <td>0.035</td>\n",
              "      <td>0.139</td>\n",
              "      <td>0.842</td>\n",
              "    </tr>\n",
              "  </tbody>\n",
              "</table>\n",
              "</div>\n",
              "      <button class=\"colab-df-convert\" onclick=\"convertToInteractive('df-08cee661-174c-446f-862c-5f019fc0af20')\"\n",
              "              title=\"Convert this dataframe to an interactive table.\"\n",
              "              style=\"display:none;\">\n",
              "        \n",
              "  <svg xmlns=\"http://www.w3.org/2000/svg\" height=\"24px\"viewBox=\"0 0 24 24\"\n",
              "       width=\"24px\">\n",
              "    <path d=\"M0 0h24v24H0V0z\" fill=\"none\"/>\n",
              "    <path d=\"M18.56 5.44l.94 2.06.94-2.06 2.06-.94-2.06-.94-.94-2.06-.94 2.06-2.06.94zm-11 1L8.5 8.5l.94-2.06 2.06-.94-2.06-.94L8.5 2.5l-.94 2.06-2.06.94zm10 10l.94 2.06.94-2.06 2.06-.94-2.06-.94-.94-2.06-.94 2.06-2.06.94z\"/><path d=\"M17.41 7.96l-1.37-1.37c-.4-.4-.92-.59-1.43-.59-.52 0-1.04.2-1.43.59L10.3 9.45l-7.72 7.72c-.78.78-.78 2.05 0 2.83L4 21.41c.39.39.9.59 1.41.59.51 0 1.02-.2 1.41-.59l7.78-7.78 2.81-2.81c.8-.78.8-2.07 0-2.86zM5.41 20L4 18.59l7.72-7.72 1.47 1.35L5.41 20z\"/>\n",
              "  </svg>\n",
              "      </button>\n",
              "      \n",
              "  <style>\n",
              "    .colab-df-container {\n",
              "      display:flex;\n",
              "      flex-wrap:wrap;\n",
              "      gap: 12px;\n",
              "    }\n",
              "\n",
              "    .colab-df-convert {\n",
              "      background-color: #E8F0FE;\n",
              "      border: none;\n",
              "      border-radius: 50%;\n",
              "      cursor: pointer;\n",
              "      display: none;\n",
              "      fill: #1967D2;\n",
              "      height: 32px;\n",
              "      padding: 0 0 0 0;\n",
              "      width: 32px;\n",
              "    }\n",
              "\n",
              "    .colab-df-convert:hover {\n",
              "      background-color: #E2EBFA;\n",
              "      box-shadow: 0px 1px 2px rgba(60, 64, 67, 0.3), 0px 1px 3px 1px rgba(60, 64, 67, 0.15);\n",
              "      fill: #174EA6;\n",
              "    }\n",
              "\n",
              "    [theme=dark] .colab-df-convert {\n",
              "      background-color: #3B4455;\n",
              "      fill: #D2E3FC;\n",
              "    }\n",
              "\n",
              "    [theme=dark] .colab-df-convert:hover {\n",
              "      background-color: #434B5C;\n",
              "      box-shadow: 0px 1px 3px 1px rgba(0, 0, 0, 0.15);\n",
              "      filter: drop-shadow(0px 1px 2px rgba(0, 0, 0, 0.3));\n",
              "      fill: #FFFFFF;\n",
              "    }\n",
              "  </style>\n",
              "\n",
              "      <script>\n",
              "        const buttonEl =\n",
              "          document.querySelector('#df-08cee661-174c-446f-862c-5f019fc0af20 button.colab-df-convert');\n",
              "        buttonEl.style.display =\n",
              "          google.colab.kernel.accessAllowed ? 'block' : 'none';\n",
              "\n",
              "        async function convertToInteractive(key) {\n",
              "          const element = document.querySelector('#df-08cee661-174c-446f-862c-5f019fc0af20');\n",
              "          const dataTable =\n",
              "            await google.colab.kernel.invokeFunction('convertToInteractive',\n",
              "                                                     [key], {});\n",
              "          if (!dataTable) return;\n",
              "\n",
              "          const docLinkHtml = 'Like what you see? Visit the ' +\n",
              "            '<a target=\"_blank\" href=https://colab.research.google.com/notebooks/data_table.ipynb>data table notebook</a>'\n",
              "            + ' to learn more about interactive tables.';\n",
              "          element.innerHTML = '';\n",
              "          dataTable['output_type'] = 'display_data';\n",
              "          await google.colab.output.renderOutput(dataTable, element);\n",
              "          const docLink = document.createElement('div');\n",
              "          docLink.innerHTML = docLinkHtml;\n",
              "          element.appendChild(docLink);\n",
              "        }\n",
              "      </script>\n",
              "    </div>\n",
              "  </div>\n",
              "  "
            ],
            "text/plain": [
              "              Train   Test1   Test2\n",
              "0  Accuracy  98.800  95.830  88.610\n",
              "1      Loss   0.035   0.139   0.842"
            ]
          },
          "metadata": {},
          "execution_count": 132
        }
      ],
      "source": [
        "P = pd.DataFrame(p , columns =['','Train','Test1','Test2'])\n",
        "P\n"
      ]
    },
    {
      "cell_type": "code",
      "source": [
        "F.append(w)"
      ],
      "metadata": {
        "id": "CtxYwqi7ErLI"
      },
      "execution_count": 137,
      "outputs": []
    },
    {
      "cell_type": "code",
      "execution_count": 138,
      "metadata": {
        "colab": {
          "base_uri": "https://localhost:8080/"
        },
        "id": "0ws8aLb7e_FP",
        "outputId": "80468cb6-9ed2-4a87-e0e3-e769006f5dd0"
      },
      "outputs": [
        {
          "output_type": "execute_result",
          "data": {
            "text/plain": [
              "[['Logistic Regression', 98.6, 89.04, 95.61],\n",
              " ['GaussianNB', 97.89, 90.39, 99.15],\n",
              " ['KNeighborsClassifier', 99.58, 96.06, 96.67],\n",
              " ['RandomForestClassifier', 100.0, 94.18, 96.58],\n",
              " ['SVM', 98.88, 97.79, 97.87],\n",
              " ['ANN', 98.8, 95.83, 88.61]]"
            ]
          },
          "metadata": {},
          "execution_count": 138
        }
      ],
      "source": [
        "F"
      ]
    },
    {
      "cell_type": "code",
      "execution_count": 139,
      "metadata": {
        "colab": {
          "base_uri": "https://localhost:8080/"
        },
        "id": "2pBk9h4_i8ID",
        "outputId": "a7ab6457-a0f8-4fb2-ea0e-f770e0969d02"
      },
      "outputs": [
        {
          "output_type": "execute_result",
          "data": {
            "text/plain": [
              "['ANN', 98.8, 95.83, 88.61]"
            ]
          },
          "metadata": {},
          "execution_count": 139
        }
      ],
      "source": [
        "w[0] = 'ANN'\n",
        "w"
      ]
    },
    {
      "cell_type": "code",
      "execution_count": 140,
      "metadata": {
        "id": "k_fynZZajFep"
      },
      "outputs": [],
      "source": [
        "DF = pd.DataFrame(F , columns =['Algorithm','Train','Test1','Test2'])"
      ]
    },
    {
      "cell_type": "code",
      "execution_count": 141,
      "metadata": {
        "colab": {
          "base_uri": "https://localhost:8080/",
          "height": 237
        },
        "id": "2NvOx5q0kAq0",
        "outputId": "d24df03d-ad9a-4117-d8ec-c374dd23052b"
      },
      "outputs": [
        {
          "output_type": "execute_result",
          "data": {
            "text/html": [
              "\n",
              "  <div id=\"df-4d139683-b0be-4be5-85d8-e1cd159b007c\">\n",
              "    <div class=\"colab-df-container\">\n",
              "      <div>\n",
              "<style scoped>\n",
              "    .dataframe tbody tr th:only-of-type {\n",
              "        vertical-align: middle;\n",
              "    }\n",
              "\n",
              "    .dataframe tbody tr th {\n",
              "        vertical-align: top;\n",
              "    }\n",
              "\n",
              "    .dataframe thead th {\n",
              "        text-align: right;\n",
              "    }\n",
              "</style>\n",
              "<table border=\"1\" class=\"dataframe\">\n",
              "  <thead>\n",
              "    <tr style=\"text-align: right;\">\n",
              "      <th></th>\n",
              "      <th>Algorithm</th>\n",
              "      <th>Train</th>\n",
              "      <th>Test1</th>\n",
              "      <th>Test2</th>\n",
              "    </tr>\n",
              "  </thead>\n",
              "  <tbody>\n",
              "    <tr>\n",
              "      <th>0</th>\n",
              "      <td>Logistic Regression</td>\n",
              "      <td>98.60</td>\n",
              "      <td>89.04</td>\n",
              "      <td>95.61</td>\n",
              "    </tr>\n",
              "    <tr>\n",
              "      <th>1</th>\n",
              "      <td>GaussianNB</td>\n",
              "      <td>97.89</td>\n",
              "      <td>90.39</td>\n",
              "      <td>99.15</td>\n",
              "    </tr>\n",
              "    <tr>\n",
              "      <th>2</th>\n",
              "      <td>KNeighborsClassifier</td>\n",
              "      <td>99.58</td>\n",
              "      <td>96.06</td>\n",
              "      <td>96.67</td>\n",
              "    </tr>\n",
              "    <tr>\n",
              "      <th>3</th>\n",
              "      <td>RandomForestClassifier</td>\n",
              "      <td>100.00</td>\n",
              "      <td>94.18</td>\n",
              "      <td>96.58</td>\n",
              "    </tr>\n",
              "    <tr>\n",
              "      <th>4</th>\n",
              "      <td>SVM</td>\n",
              "      <td>98.88</td>\n",
              "      <td>97.79</td>\n",
              "      <td>97.87</td>\n",
              "    </tr>\n",
              "    <tr>\n",
              "      <th>5</th>\n",
              "      <td>ANN</td>\n",
              "      <td>98.80</td>\n",
              "      <td>95.83</td>\n",
              "      <td>88.61</td>\n",
              "    </tr>\n",
              "  </tbody>\n",
              "</table>\n",
              "</div>\n",
              "      <button class=\"colab-df-convert\" onclick=\"convertToInteractive('df-4d139683-b0be-4be5-85d8-e1cd159b007c')\"\n",
              "              title=\"Convert this dataframe to an interactive table.\"\n",
              "              style=\"display:none;\">\n",
              "        \n",
              "  <svg xmlns=\"http://www.w3.org/2000/svg\" height=\"24px\"viewBox=\"0 0 24 24\"\n",
              "       width=\"24px\">\n",
              "    <path d=\"M0 0h24v24H0V0z\" fill=\"none\"/>\n",
              "    <path d=\"M18.56 5.44l.94 2.06.94-2.06 2.06-.94-2.06-.94-.94-2.06-.94 2.06-2.06.94zm-11 1L8.5 8.5l.94-2.06 2.06-.94-2.06-.94L8.5 2.5l-.94 2.06-2.06.94zm10 10l.94 2.06.94-2.06 2.06-.94-2.06-.94-.94-2.06-.94 2.06-2.06.94z\"/><path d=\"M17.41 7.96l-1.37-1.37c-.4-.4-.92-.59-1.43-.59-.52 0-1.04.2-1.43.59L10.3 9.45l-7.72 7.72c-.78.78-.78 2.05 0 2.83L4 21.41c.39.39.9.59 1.41.59.51 0 1.02-.2 1.41-.59l7.78-7.78 2.81-2.81c.8-.78.8-2.07 0-2.86zM5.41 20L4 18.59l7.72-7.72 1.47 1.35L5.41 20z\"/>\n",
              "  </svg>\n",
              "      </button>\n",
              "      \n",
              "  <style>\n",
              "    .colab-df-container {\n",
              "      display:flex;\n",
              "      flex-wrap:wrap;\n",
              "      gap: 12px;\n",
              "    }\n",
              "\n",
              "    .colab-df-convert {\n",
              "      background-color: #E8F0FE;\n",
              "      border: none;\n",
              "      border-radius: 50%;\n",
              "      cursor: pointer;\n",
              "      display: none;\n",
              "      fill: #1967D2;\n",
              "      height: 32px;\n",
              "      padding: 0 0 0 0;\n",
              "      width: 32px;\n",
              "    }\n",
              "\n",
              "    .colab-df-convert:hover {\n",
              "      background-color: #E2EBFA;\n",
              "      box-shadow: 0px 1px 2px rgba(60, 64, 67, 0.3), 0px 1px 3px 1px rgba(60, 64, 67, 0.15);\n",
              "      fill: #174EA6;\n",
              "    }\n",
              "\n",
              "    [theme=dark] .colab-df-convert {\n",
              "      background-color: #3B4455;\n",
              "      fill: #D2E3FC;\n",
              "    }\n",
              "\n",
              "    [theme=dark] .colab-df-convert:hover {\n",
              "      background-color: #434B5C;\n",
              "      box-shadow: 0px 1px 3px 1px rgba(0, 0, 0, 0.15);\n",
              "      filter: drop-shadow(0px 1px 2px rgba(0, 0, 0, 0.3));\n",
              "      fill: #FFFFFF;\n",
              "    }\n",
              "  </style>\n",
              "\n",
              "      <script>\n",
              "        const buttonEl =\n",
              "          document.querySelector('#df-4d139683-b0be-4be5-85d8-e1cd159b007c button.colab-df-convert');\n",
              "        buttonEl.style.display =\n",
              "          google.colab.kernel.accessAllowed ? 'block' : 'none';\n",
              "\n",
              "        async function convertToInteractive(key) {\n",
              "          const element = document.querySelector('#df-4d139683-b0be-4be5-85d8-e1cd159b007c');\n",
              "          const dataTable =\n",
              "            await google.colab.kernel.invokeFunction('convertToInteractive',\n",
              "                                                     [key], {});\n",
              "          if (!dataTable) return;\n",
              "\n",
              "          const docLinkHtml = 'Like what you see? Visit the ' +\n",
              "            '<a target=\"_blank\" href=https://colab.research.google.com/notebooks/data_table.ipynb>data table notebook</a>'\n",
              "            + ' to learn more about interactive tables.';\n",
              "          element.innerHTML = '';\n",
              "          dataTable['output_type'] = 'display_data';\n",
              "          await google.colab.output.renderOutput(dataTable, element);\n",
              "          const docLink = document.createElement('div');\n",
              "          docLink.innerHTML = docLinkHtml;\n",
              "          element.appendChild(docLink);\n",
              "        }\n",
              "      </script>\n",
              "    </div>\n",
              "  </div>\n",
              "  "
            ],
            "text/plain": [
              "                Algorithm   Train  Test1  Test2\n",
              "0     Logistic Regression   98.60  89.04  95.61\n",
              "1              GaussianNB   97.89  90.39  99.15\n",
              "2    KNeighborsClassifier   99.58  96.06  96.67\n",
              "3  RandomForestClassifier  100.00  94.18  96.58\n",
              "4                     SVM   98.88  97.79  97.87\n",
              "5                     ANN   98.80  95.83  88.61"
            ]
          },
          "metadata": {},
          "execution_count": 141
        }
      ],
      "source": [
        "DF"
      ]
    },
    {
      "cell_type": "code",
      "execution_count": 142,
      "metadata": {
        "colab": {
          "base_uri": "https://localhost:8080/",
          "height": 391
        },
        "id": "LqEixYFwkBPm",
        "outputId": "88e36ecf-15a1-49ea-b7fc-c9b7bd9ff163"
      },
      "outputs": [
        {
          "output_type": "display_data",
          "data": {
            "image/png": "[encoded data removed]",
            "text/plain": [
              "<Figure size 432x288 with 1 Axes>"
            ]
          },
          "metadata": {
            "needs_background": "light"
          }
        }
      ],
      "source": [
        "aplot = sns.barplot(x=\"Algorithm\", y = \"Train\", data = DF )\n",
        "plt.xticks(rotation = 90)\n",
        "aplot.set_ylim(95, 100)\n",
        "plt.show()"
      ]
    },
    {
      "cell_type": "code",
      "execution_count": 145,
      "metadata": {
        "colab": {
          "base_uri": "https://localhost:8080/",
          "height": 391
        },
        "id": "RC6Wb5NMo6V5",
        "outputId": "be2ac6ac-8fbc-48bb-cd9b-6b289371b7df"
      },
      "outputs": [
        {
          "output_type": "display_data",
          "data": {
            "image/png": "[encoded data removed]",
            "text/plain": [
              "<Figure size 432x288 with 1 Axes>"
            ]
          },
          "metadata": {
            "needs_background": "light"
          }
        }
      ],
      "source": [
        "aplot = sns.barplot(x=\"Algorithm\", y = \"Test1\", data = DF  )\n",
        "plt.xticks(rotation = 90)\n",
        "aplot.set_ylim(80, 100)\n",
        "plt.show()"
      ]
    },
    {
      "cell_type": "code",
      "execution_count": 148,
      "metadata": {
        "colab": {
          "base_uri": "https://localhost:8080/",
          "height": 391
        },
        "id": "TfM0lhWxsE2v",
        "outputId": "e9935eb9-0ec9-472e-92b6-65d63efbdcf8"
      },
      "outputs": [
        {
          "output_type": "display_data",
          "data": {
            "image/png": "[encoded data removed]",
            "text/plain": [
              "<Figure size 432x288 with 1 Axes>"
            ]
          },
          "metadata": {
            "needs_background": "light"
          }
        }
      ],
      "source": [
        "aplot = sns.barplot(x=\"Algorithm\", y = \"Test2\", data = DF  )\n",
        "plt.xticks(rotation = 90)\n",
        "aplot.set_ylim(85, 100)\n",
        "plt.show()"
      ]
    },
    {
      "cell_type": "code",
      "source": [
        ""
      ],
      "metadata": {
        "id": "-xUTEBtkEv9w"
      },
      "execution_count": null,
      "outputs": []
    }
  ],
  "metadata": {
    "colab": {
      "collapsed_sections": [
        "UyNwAv60vt10",
        "Teaf-INZOrHl",
        "O0-D6VeIULm6"
      ],
      "name": "Code.ipynb",
      "provenance": []
    },
    "kernelspec": {
      "display_name": "Python 3",
      "language": "python",
      "name": "python3"
    },
    "language_info": {
      "codemirror_mode": {
        "name": "ipython",
        "version": 3
      },
      "file_extension": ".py",
      "mimetype": "text/x-python",
      "name": "python",
      "nbconvert_exporter": "python",
      "pygments_lexer": "ipython3",
      "version": "3.8.8"
    }
  },
  "nbformat": 4,
  "nbformat_minor": 0
}