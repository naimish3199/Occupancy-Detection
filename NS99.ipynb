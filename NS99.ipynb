{
  "nbformat": 4,
  "nbformat_minor": 0,
  "metadata": {
    "colab": {
      "name": "NS99.ipynb",
      "provenance": [],
      "collapsed_sections": [
        "UyNwAv60vt10",
        "Teaf-INZOrHl",
        "O0-D6VeIULm6"
      ]
    },
    "kernelspec": {
      "name": "python3",
      "display_name": "Python 3"
    },
    "language_info": {
      "name": "python"
    }
  },
  "cells": [
    {
      "cell_type": "markdown",
      "metadata": {
        "id": "M_nWwDFD1-I_"
      },
      "source": [
        "##Importing Libraries"
      ]
    },
    {
      "cell_type": "code",
      "metadata": {
        "id": "UdlHncvHqbMw"
      },
      "source": [
        "import numpy as np  \n",
        "import pandas as pd\n",
        "import matplotlib.pyplot as plt\n",
        "import seaborn as sns\n",
        "from sklearn.preprocessing import StandardScaler"
      ],
      "execution_count": 1,
      "outputs": []
    },
    {
      "cell_type": "markdown",
      "metadata": {
        "id": "apHGd4Yt2Eu6"
      },
      "source": [
        "##Importing Datasets"
      ]
    },
    {
      "cell_type": "code",
      "metadata": {
        "id": "ZyDjLuYeUFyi",
        "colab": {
          "resources": {
            "http://localhost:8080/nbextensions/google.colab/files.js": {
              "data": "Ly8gQ29weXJpZ2h0IDIwMTcgR29vZ2xlIExMQwovLwovLyBMaWNlbnNlZCB1bmRlciB0aGUgQXBhY2hlIExpY2Vuc2UsIFZlcnNpb24gMi4wICh0aGUgIkxpY2Vuc2UiKTsKLy8geW91IG1heSBub3QgdXNlIHRoaXMgZmlsZSBleGNlcHQgaW4gY29tcGxpYW5jZSB3aXRoIHRoZSBMaWNlbnNlLgovLyBZb3UgbWF5IG9idGFpbiBhIGNvcHkgb2YgdGhlIExpY2Vuc2UgYXQKLy8KLy8gICAgICBodHRwOi8vd3d3LmFwYWNoZS5vcmcvbGljZW5zZXMvTElDRU5TRS0yLjAKLy8KLy8gVW5sZXNzIHJlcXVpcmVkIGJ5IGFwcGxpY2FibGUgbGF3IG9yIGFncmVlZCB0byBpbiB3cml0aW5nLCBzb2Z0d2FyZQovLyBkaXN0cmlidXRlZCB1bmRlciB0aGUgTGljZW5zZSBpcyBkaXN0cmlidXRlZCBvbiBhbiAiQVMgSVMiIEJBU0lTLAovLyBXSVRIT1VUIFdBUlJBTlRJRVMgT1IgQ09ORElUSU9OUyBPRiBBTlkgS0lORCwgZWl0aGVyIGV4cHJlc3Mgb3IgaW1wbGllZC4KLy8gU2VlIHRoZSBMaWNlbnNlIGZvciB0aGUgc3BlY2lmaWMgbGFuZ3VhZ2UgZ292ZXJuaW5nIHBlcm1pc3Npb25zIGFuZAovLyBsaW1pdGF0aW9ucyB1bmRlciB0aGUgTGljZW5zZS4KCi8qKgogKiBAZmlsZW92ZXJ2aWV3IEhlbHBlcnMgZm9yIGdvb2dsZS5jb2xhYiBQeXRob24gbW9kdWxlLgogKi8KKGZ1bmN0aW9uKHNjb3BlKSB7CmZ1bmN0aW9uIHNwYW4odGV4dCwgc3R5bGVBdHRyaWJ1dGVzID0ge30pIHsKICBjb25zdCBlbGVtZW50ID0gZG9jdW1lbnQuY3JlYXRlRWxlbWVudCgnc3BhbicpOwogIGVsZW1lbnQudGV4dENvbnRlbnQgPSB0ZXh0OwogIGZvciAoY29uc3Qga2V5IG9mIE9iamVjdC5rZXlzKHN0eWxlQXR0cmlidXRlcykpIHsKICAgIGVsZW1lbnQuc3R5bGVba2V5XSA9IHN0eWxlQXR0cmlidXRlc1trZXldOwogIH0KICByZXR1cm4gZWxlbWVudDsKfQoKLy8gTWF4IG51bWJlciBvZiBieXRlcyB3aGljaCB3aWxsIGJlIHVwbG9hZGVkIGF0IGEgdGltZS4KY29uc3QgTUFYX1BBWUxPQURfU0laRSA9IDEwMCAqIDEwMjQ7CgpmdW5jdGlvbiBfdXBsb2FkRmlsZXMoaW5wdXRJZCwgb3V0cHV0SWQpIHsKICBjb25zdCBzdGVwcyA9IHVwbG9hZEZpbGVzU3RlcChpbnB1dElkLCBvdXRwdXRJZCk7CiAgY29uc3Qgb3V0cHV0RWxlbWVudCA9IGRvY3VtZW50LmdldEVsZW1lbnRCeUlkKG91dHB1dElkKTsKICAvLyBDYWNoZSBzdGVwcyBvbiB0aGUgb3V0cHV0RWxlbWVudCB0byBtYWtlIGl0IGF2YWlsYWJsZSBmb3IgdGhlIG5leHQgY2FsbAogIC8vIHRvIHVwbG9hZEZpbGVzQ29udGludWUgZnJvbSBQeXRob24uCiAgb3V0cHV0RWxlbWVudC5zdGVwcyA9IHN0ZXBzOwoKICByZXR1cm4gX3VwbG9hZEZpbGVzQ29udGludWUob3V0cHV0SWQpOwp9CgovLyBUaGlzIGlzIHJvdWdobHkgYW4gYXN5bmMgZ2VuZXJhdG9yIChub3Qgc3VwcG9ydGVkIGluIHRoZSBicm93c2VyIHlldCksCi8vIHdoZXJlIHRoZXJlIGFyZSBtdWx0aXBsZSBhc3luY2hyb25vdXMgc3RlcHMgYW5kIHRoZSBQeXRob24gc2lkZSBpcyBnb2luZwovLyB0byBwb2xsIGZvciBjb21wbGV0aW9uIG9mIGVhY2ggc3RlcC4KLy8gVGhpcyB1c2VzIGEgUHJvbWlzZSB0byBibG9jayB0aGUgcHl0aG9uIHNpZGUgb24gY29tcGxldGlvbiBvZiBlYWNoIHN0ZXAsCi8vIHRoZW4gcGFzc2VzIHRoZSByZXN1bHQgb2YgdGhlIHByZXZpb3VzIHN0ZXAgYXMgdGhlIGlucHV0IHRvIHRoZSBuZXh0IHN0ZXAuCmZ1bmN0aW9uIF91cGxvYWRGaWxlc0NvbnRpbnVlKG91dHB1dElkKSB7CiAgY29uc3Qgb3V0cHV0RWxlbWVudCA9IGRvY3VtZW50LmdldEVsZW1lbnRCeUlkKG91dHB1dElkKTsKICBjb25zdCBzdGVwcyA9IG91dHB1dEVsZW1lbnQuc3RlcHM7CgogIGNvbnN0IG5leHQgPSBzdGVwcy5uZXh0KG91dHB1dEVsZW1lbnQubGFzdFByb21pc2VWYWx1ZSk7CiAgcmV0dXJuIFByb21pc2UucmVzb2x2ZShuZXh0LnZhbHVlLnByb21pc2UpLnRoZW4oKHZhbHVlKSA9PiB7CiAgICAvLyBDYWNoZSB0aGUgbGFzdCBwcm9taXNlIHZhbHVlIHRvIG1ha2UgaXQgYXZhaWxhYmxlIHRvIHRoZSBuZXh0CiAgICAvLyBzdGVwIG9mIHRoZSBnZW5lcmF0b3IuCiAgICBvdXRwdXRFbGVtZW50Lmxhc3RQcm9taXNlVmFsdWUgPSB2YWx1ZTsKICAgIHJldHVybiBuZXh0LnZhbHVlLnJlc3BvbnNlOwogIH0pOwp9CgovKioKICogR2VuZXJhdG9yIGZ1bmN0aW9uIHdoaWNoIGlzIGNhbGxlZCBiZXR3ZWVuIGVhY2ggYXN5bmMgc3RlcCBvZiB0aGUgdXBsb2FkCiAqIHByb2Nlc3MuCiAqIEBwYXJhbSB7c3RyaW5nfSBpbnB1dElkIEVsZW1lbnQgSUQgb2YgdGhlIGlucHV0IGZpbGUgcGlja2VyIGVsZW1lbnQuCiAqIEBwYXJhbSB7c3RyaW5nfSBvdXRwdXRJZCBFbGVtZW50IElEIG9mIHRoZSBvdXRwdXQgZGlzcGxheS4KICogQHJldHVybiB7IUl0ZXJhYmxlPCFPYmplY3Q+fSBJdGVyYWJsZSBvZiBuZXh0IHN0ZXBzLgogKi8KZnVuY3Rpb24qIHVwbG9hZEZpbGVzU3RlcChpbnB1dElkLCBvdXRwdXRJZCkgewogIGNvbnN0IGlucHV0RWxlbWVudCA9IGRvY3VtZW50LmdldEVsZW1lbnRCeUlkKGlucHV0SWQpOwogIGlucHV0RWxlbWVudC5kaXNhYmxlZCA9IGZhbHNlOwoKICBjb25zdCBvdXRwdXRFbGVtZW50ID0gZG9jdW1lbnQuZ2V0RWxlbWVudEJ5SWQob3V0cHV0SWQpOwogIG91dHB1dEVsZW1lbnQuaW5uZXJIVE1MID0gJyc7CgogIGNvbnN0IHBpY2tlZFByb21pc2UgPSBuZXcgUHJvbWlzZSgocmVzb2x2ZSkgPT4gewogICAgaW5wdXRFbGVtZW50LmFkZEV2ZW50TGlzdGVuZXIoJ2NoYW5nZScsIChlKSA9PiB7CiAgICAgIHJlc29sdmUoZS50YXJnZXQuZmlsZXMpOwogICAgfSk7CiAgfSk7CgogIGNvbnN0IGNhbmNlbCA9IGRvY3VtZW50LmNyZWF0ZUVsZW1lbnQoJ2J1dHRvbicpOwogIGlucHV0RWxlbWVudC5wYXJlbnRFbGVtZW50LmFwcGVuZENoaWxkKGNhbmNlbCk7CiAgY2FuY2VsLnRleHRDb250ZW50ID0gJ0NhbmNlbCB1cGxvYWQnOwogIGNvbnN0IGNhbmNlbFByb21pc2UgPSBuZXcgUHJvbWlzZSgocmVzb2x2ZSkgPT4gewogICAgY2FuY2VsLm9uY2xpY2sgPSAoKSA9PiB7CiAgICAgIHJlc29sdmUobnVsbCk7CiAgICB9OwogIH0pOwoKICAvLyBXYWl0IGZvciB0aGUgdXNlciB0byBwaWNrIHRoZSBmaWxlcy4KICBjb25zdCBmaWxlcyA9IHlpZWxkIHsKICAgIHByb21pc2U6IFByb21pc2UucmFjZShbcGlja2VkUHJvbWlzZSwgY2FuY2VsUHJvbWlzZV0pLAogICAgcmVzcG9uc2U6IHsKICAgICAgYWN0aW9uOiAnc3RhcnRpbmcnLAogICAgfQogIH07CgogIGNhbmNlbC5yZW1vdmUoKTsKCiAgLy8gRGlzYWJsZSB0aGUgaW5wdXQgZWxlbWVudCBzaW5jZSBmdXJ0aGVyIHBpY2tzIGFyZSBub3QgYWxsb3dlZC4KICBpbnB1dEVsZW1lbnQuZGlzYWJsZWQgPSB0cnVlOwoKICBpZiAoIWZpbGVzKSB7CiAgICByZXR1cm4gewogICAgICByZXNwb25zZTogewogICAgICAgIGFjdGlvbjogJ2NvbXBsZXRlJywKICAgICAgfQogICAgfTsKICB9CgogIGZvciAoY29uc3QgZmlsZSBvZiBmaWxlcykgewogICAgY29uc3QgbGkgPSBkb2N1bWVudC5jcmVhdGVFbGVtZW50KCdsaScpOwogICAgbGkuYXBwZW5kKHNwYW4oZmlsZS5uYW1lLCB7Zm9udFdlaWdodDogJ2JvbGQnfSkpOwogICAgbGkuYXBwZW5kKHNwYW4oCiAgICAgICAgYCgke2ZpbGUudHlwZSB8fCAnbi9hJ30pIC0gJHtmaWxlLnNpemV9IGJ5dGVzLCBgICsKICAgICAgICBgbGFzdCBtb2RpZmllZDogJHsKICAgICAgICAgICAgZmlsZS5sYXN0TW9kaWZpZWREYXRlID8gZmlsZS5sYXN0TW9kaWZpZWREYXRlLnRvTG9jYWxlRGF0ZVN0cmluZygpIDoKICAgICAgICAgICAgICAgICAgICAgICAgICAgICAgICAgICAgJ24vYSd9IC0gYCkpOwogICAgY29uc3QgcGVyY2VudCA9IHNwYW4oJzAlIGRvbmUnKTsKICAgIGxpLmFwcGVuZENoaWxkKHBlcmNlbnQpOwoKICAgIG91dHB1dEVsZW1lbnQuYXBwZW5kQ2hpbGQobGkpOwoKICAgIGNvbnN0IGZpbGVEYXRhUHJvbWlzZSA9IG5ldyBQcm9taXNlKChyZXNvbHZlKSA9PiB7CiAgICAgIGNvbnN0IHJlYWRlciA9IG5ldyBGaWxlUmVhZGVyKCk7CiAgICAgIHJlYWRlci5vbmxvYWQgPSAoZSkgPT4gewogICAgICAgIHJlc29sdmUoZS50YXJnZXQucmVzdWx0KTsKICAgICAgfTsKICAgICAgcmVhZGVyLnJlYWRBc0FycmF5QnVmZmVyKGZpbGUpOwogICAgfSk7CiAgICAvLyBXYWl0IGZvciB0aGUgZGF0YSB0byBiZSByZWFkeS4KICAgIGxldCBmaWxlRGF0YSA9IHlpZWxkIHsKICAgICAgcHJvbWlzZTogZmlsZURhdGFQcm9taXNlLAogICAgICByZXNwb25zZTogewogICAgICAgIGFjdGlvbjogJ2NvbnRpbnVlJywKICAgICAgfQogICAgfTsKCiAgICAvLyBVc2UgYSBjaHVua2VkIHNlbmRpbmcgdG8gYXZvaWQgbWVzc2FnZSBzaXplIGxpbWl0cy4gU2VlIGIvNjIxMTU2NjAuCiAgICBsZXQgcG9zaXRpb24gPSAwOwogICAgd2hpbGUgKHBvc2l0aW9uIDwgZmlsZURhdGEuYnl0ZUxlbmd0aCkgewogICAgICBjb25zdCBsZW5ndGggPSBNYXRoLm1pbihmaWxlRGF0YS5ieXRlTGVuZ3RoIC0gcG9zaXRpb24sIE1BWF9QQVlMT0FEX1NJWkUpOwogICAgICBjb25zdCBjaHVuayA9IG5ldyBVaW50OEFycmF5KGZpbGVEYXRhLCBwb3NpdGlvbiwgbGVuZ3RoKTsKICAgICAgcG9zaXRpb24gKz0gbGVuZ3RoOwoKICAgICAgY29uc3QgYmFzZTY0ID0gYnRvYShTdHJpbmcuZnJvbUNoYXJDb2RlLmFwcGx5KG51bGwsIGNodW5rKSk7CiAgICAgIHlpZWxkIHsKICAgICAgICByZXNwb25zZTogewogICAgICAgICAgYWN0aW9uOiAnYXBwZW5kJywKICAgICAgICAgIGZpbGU6IGZpbGUubmFtZSwKICAgICAgICAgIGRhdGE6IGJhc2U2NCwKICAgICAgICB9LAogICAgICB9OwogICAgICBwZXJjZW50LnRleHRDb250ZW50ID0KICAgICAgICAgIGAke01hdGgucm91bmQoKHBvc2l0aW9uIC8gZmlsZURhdGEuYnl0ZUxlbmd0aCkgKiAxMDApfSUgZG9uZWA7CiAgICB9CiAgfQoKICAvLyBBbGwgZG9uZS4KICB5aWVsZCB7CiAgICByZXNwb25zZTogewogICAgICBhY3Rpb246ICdjb21wbGV0ZScsCiAgICB9CiAgfTsKfQoKc2NvcGUuZ29vZ2xlID0gc2NvcGUuZ29vZ2xlIHx8IHt9OwpzY29wZS5nb29nbGUuY29sYWIgPSBzY29wZS5nb29nbGUuY29sYWIgfHwge307CnNjb3BlLmdvb2dsZS5jb2xhYi5fZmlsZXMgPSB7CiAgX3VwbG9hZEZpbGVzLAogIF91cGxvYWRGaWxlc0NvbnRpbnVlLAp9Owp9KShzZWxmKTsK",
              "ok": true,
              "headers": [
                [
                  "content-type",
                  "application/javascript"
                ]
              ],
              "status": 200,
              "status_text": ""
            }
          },
          "base_uri": "https://localhost:8080/",
          "height": 140
        },
        "outputId": "6f3190e2-46bf-42df-c1b0-fd55ebf75660"
      },
      "source": [
        "from google.colab import files\n",
        "uploaded = files.upload()"
      ],
      "execution_count": 2,
      "outputs": [
        {
          "output_type": "display_data",
          "data": {
            "text/html": [
              "\n",
              "     <input type=\"file\" id=\"files-d033c80c-d9e9-4f06-90c2-70d2edd5b796\" name=\"files[]\" multiple disabled\n",
              "        style=\"border:none\" />\n",
              "     <output id=\"result-d033c80c-d9e9-4f06-90c2-70d2edd5b796\">\n",
              "      Upload widget is only available when the cell has been executed in the\n",
              "      current browser session. Please rerun this cell to enable.\n",
              "      </output>\n",
              "      <script src=\"/nbextensions/google.colab/files.js\"></script> "
            ],
            "text/plain": [
              "<IPython.core.display.HTML object>"
            ]
          },
          "metadata": {
            "tags": []
          }
        },
        {
          "output_type": "stream",
          "text": [
            "Saving datatest.txt to datatest.txt\n",
            "Saving datatest2.txt to datatest2.txt\n",
            "Saving datatraining.txt to datatraining.txt\n"
          ],
          "name": "stdout"
        }
      ]
    },
    {
      "cell_type": "markdown",
      "metadata": {
        "id": "6-GyZtI_fohX"
      },
      "source": [
        "Removed 'date' column from all 3 datasets"
      ]
    },
    {
      "cell_type": "code",
      "metadata": {
        "id": "7jM0oFTUqhvz"
      },
      "source": [
        "df1 = pd.read_csv(\"datatraining.txt\")\n",
        "df1 = df1.drop(['date'], axis = 1)                           # df1 is for training\n",
        "df1.to_csv('datatraining.csv', index = None )                # storing this dataframe in a csv file\n",
        "                   \n",
        "df2 = pd.read_csv(\"datatest.txt\")\n",
        "df2 = df2.drop(['date'], axis = 1)                           # df2 is for testing\n",
        "df2.to_csv('datatest.csv',  index = None)                    # storing this dataframe in a csv file\n",
        "\n",
        "df3 = pd.read_csv(\"datatest2.txt\")\n",
        "df3 = df3.drop(['date'], axis = 1)                           # df3 is for testing\n",
        "df3.to_csv('datatest2.csv',  index = None)                  # storing this dataframe in a csv file"
      ],
      "execution_count": 3,
      "outputs": []
    },
    {
      "cell_type": "code",
      "metadata": {
        "id": "LwLwvqMzp2Ye",
        "colab": {
          "base_uri": "https://localhost:8080/"
        },
        "outputId": "0296b50f-e89f-4d35-bf09-de69c2da0d74"
      },
      "source": [
        "print(df1.shape)\n",
        "print(df2.shape)\n",
        "print(df3.shape)"
      ],
      "execution_count": 4,
      "outputs": [
        {
          "output_type": "stream",
          "text": [
            "(8143, 6)\n",
            "(2665, 6)\n",
            "(9752, 6)\n"
          ],
          "name": "stdout"
        }
      ]
    },
    {
      "cell_type": "code",
      "metadata": {
        "id": "2zroPMmagDcv",
        "colab": {
          "base_uri": "https://localhost:8080/",
          "height": 195
        },
        "outputId": "f792c391-5dc4-4480-a926-16bf0017d36d"
      },
      "source": [
        "df2.head()"
      ],
      "execution_count": 5,
      "outputs": [
        {
          "output_type": "execute_result",
          "data": {
            "text/html": [
              "<div>\n",
              "<style scoped>\n",
              "    .dataframe tbody tr th:only-of-type {\n",
              "        vertical-align: middle;\n",
              "    }\n",
              "\n",
              "    .dataframe tbody tr th {\n",
              "        vertical-align: top;\n",
              "    }\n",
              "\n",
              "    .dataframe thead th {\n",
              "        text-align: right;\n",
              "    }\n",
              "</style>\n",
              "<table border=\"1\" class=\"dataframe\">\n",
              "  <thead>\n",
              "    <tr style=\"text-align: right;\">\n",
              "      <th></th>\n",
              "      <th>Temperature</th>\n",
              "      <th>Humidity</th>\n",
              "      <th>Light</th>\n",
              "      <th>CO2</th>\n",
              "      <th>HumidityRatio</th>\n",
              "      <th>Occupancy</th>\n",
              "    </tr>\n",
              "  </thead>\n",
              "  <tbody>\n",
              "    <tr>\n",
              "      <th>140</th>\n",
              "      <td>23.7000</td>\n",
              "      <td>26.272</td>\n",
              "      <td>585.200000</td>\n",
              "      <td>749.200000</td>\n",
              "      <td>0.004764</td>\n",
              "      <td>1</td>\n",
              "    </tr>\n",
              "    <tr>\n",
              "      <th>141</th>\n",
              "      <td>23.7180</td>\n",
              "      <td>26.290</td>\n",
              "      <td>578.400000</td>\n",
              "      <td>760.400000</td>\n",
              "      <td>0.004773</td>\n",
              "      <td>1</td>\n",
              "    </tr>\n",
              "    <tr>\n",
              "      <th>142</th>\n",
              "      <td>23.7300</td>\n",
              "      <td>26.230</td>\n",
              "      <td>572.666667</td>\n",
              "      <td>769.666667</td>\n",
              "      <td>0.004765</td>\n",
              "      <td>1</td>\n",
              "    </tr>\n",
              "    <tr>\n",
              "      <th>143</th>\n",
              "      <td>23.7225</td>\n",
              "      <td>26.125</td>\n",
              "      <td>493.750000</td>\n",
              "      <td>774.750000</td>\n",
              "      <td>0.004744</td>\n",
              "      <td>1</td>\n",
              "    </tr>\n",
              "    <tr>\n",
              "      <th>144</th>\n",
              "      <td>23.7540</td>\n",
              "      <td>26.200</td>\n",
              "      <td>488.600000</td>\n",
              "      <td>779.000000</td>\n",
              "      <td>0.004767</td>\n",
              "      <td>1</td>\n",
              "    </tr>\n",
              "  </tbody>\n",
              "</table>\n",
              "</div>"
            ],
            "text/plain": [
              "     Temperature  Humidity       Light         CO2  HumidityRatio  Occupancy\n",
              "140      23.7000    26.272  585.200000  749.200000       0.004764          1\n",
              "141      23.7180    26.290  578.400000  760.400000       0.004773          1\n",
              "142      23.7300    26.230  572.666667  769.666667       0.004765          1\n",
              "143      23.7225    26.125  493.750000  774.750000       0.004744          1\n",
              "144      23.7540    26.200  488.600000  779.000000       0.004767          1"
            ]
          },
          "metadata": {
            "tags": []
          },
          "execution_count": 5
        }
      ]
    },
    {
      "cell_type": "code",
      "metadata": {
        "colab": {
          "base_uri": "https://localhost:8080/"
        },
        "id": "_NtYrwBtiIXa",
        "outputId": "91931235-5419-4533-b55d-4f96b91186d7"
      },
      "source": [
        "df1.isna().any().sum()"
      ],
      "execution_count": 6,
      "outputs": [
        {
          "output_type": "execute_result",
          "data": {
            "text/plain": [
              "0"
            ]
          },
          "metadata": {
            "tags": []
          },
          "execution_count": 6
        }
      ]
    },
    {
      "cell_type": "code",
      "metadata": {
        "colab": {
          "base_uri": "https://localhost:8080/"
        },
        "id": "T6ulGJ3eiiz8",
        "outputId": "6c493de9-a915-4846-d787-472174de0bdc"
      },
      "source": [
        "df2.isna().any().sum()"
      ],
      "execution_count": 7,
      "outputs": [
        {
          "output_type": "execute_result",
          "data": {
            "text/plain": [
              "0"
            ]
          },
          "metadata": {
            "tags": []
          },
          "execution_count": 7
        }
      ]
    },
    {
      "cell_type": "code",
      "metadata": {
        "colab": {
          "base_uri": "https://localhost:8080/"
        },
        "id": "d4YBRnfdilFp",
        "outputId": "ea23cdab-0fce-40d3-a41a-cd436d64d4d6"
      },
      "source": [
        "df3.isna().any().sum()"
      ],
      "execution_count": 8,
      "outputs": [
        {
          "output_type": "execute_result",
          "data": {
            "text/plain": [
              "0"
            ]
          },
          "metadata": {
            "tags": []
          },
          "execution_count": 8
        }
      ]
    },
    {
      "cell_type": "code",
      "metadata": {
        "colab": {
          "base_uri": "https://localhost:8080/",
          "height": 402
        },
        "id": "gqwrVEW9k7Gd",
        "outputId": "d45feb5d-411d-4bf8-d544-319ced5804e2"
      },
      "source": [
        "df1"
      ],
      "execution_count": 9,
      "outputs": [
        {
          "output_type": "execute_result",
          "data": {
            "text/html": [
              "<div>\n",
              "<style scoped>\n",
              "    .dataframe tbody tr th:only-of-type {\n",
              "        vertical-align: middle;\n",
              "    }\n",
              "\n",
              "    .dataframe tbody tr th {\n",
              "        vertical-align: top;\n",
              "    }\n",
              "\n",
              "    .dataframe thead th {\n",
              "        text-align: right;\n",
              "    }\n",
              "</style>\n",
              "<table border=\"1\" class=\"dataframe\">\n",
              "  <thead>\n",
              "    <tr style=\"text-align: right;\">\n",
              "      <th></th>\n",
              "      <th>Temperature</th>\n",
              "      <th>Humidity</th>\n",
              "      <th>Light</th>\n",
              "      <th>CO2</th>\n",
              "      <th>HumidityRatio</th>\n",
              "      <th>Occupancy</th>\n",
              "    </tr>\n",
              "  </thead>\n",
              "  <tbody>\n",
              "    <tr>\n",
              "      <th>1</th>\n",
              "      <td>23.18</td>\n",
              "      <td>27.2720</td>\n",
              "      <td>426.0</td>\n",
              "      <td>721.250000</td>\n",
              "      <td>0.004793</td>\n",
              "      <td>1</td>\n",
              "    </tr>\n",
              "    <tr>\n",
              "      <th>2</th>\n",
              "      <td>23.15</td>\n",
              "      <td>27.2675</td>\n",
              "      <td>429.5</td>\n",
              "      <td>714.000000</td>\n",
              "      <td>0.004783</td>\n",
              "      <td>1</td>\n",
              "    </tr>\n",
              "    <tr>\n",
              "      <th>3</th>\n",
              "      <td>23.15</td>\n",
              "      <td>27.2450</td>\n",
              "      <td>426.0</td>\n",
              "      <td>713.500000</td>\n",
              "      <td>0.004779</td>\n",
              "      <td>1</td>\n",
              "    </tr>\n",
              "    <tr>\n",
              "      <th>4</th>\n",
              "      <td>23.15</td>\n",
              "      <td>27.2000</td>\n",
              "      <td>426.0</td>\n",
              "      <td>708.250000</td>\n",
              "      <td>0.004772</td>\n",
              "      <td>1</td>\n",
              "    </tr>\n",
              "    <tr>\n",
              "      <th>5</th>\n",
              "      <td>23.10</td>\n",
              "      <td>27.2000</td>\n",
              "      <td>426.0</td>\n",
              "      <td>704.500000</td>\n",
              "      <td>0.004757</td>\n",
              "      <td>1</td>\n",
              "    </tr>\n",
              "    <tr>\n",
              "      <th>...</th>\n",
              "      <td>...</td>\n",
              "      <td>...</td>\n",
              "      <td>...</td>\n",
              "      <td>...</td>\n",
              "      <td>...</td>\n",
              "      <td>...</td>\n",
              "    </tr>\n",
              "    <tr>\n",
              "      <th>8139</th>\n",
              "      <td>21.05</td>\n",
              "      <td>36.0975</td>\n",
              "      <td>433.0</td>\n",
              "      <td>787.250000</td>\n",
              "      <td>0.005579</td>\n",
              "      <td>1</td>\n",
              "    </tr>\n",
              "    <tr>\n",
              "      <th>8140</th>\n",
              "      <td>21.05</td>\n",
              "      <td>35.9950</td>\n",
              "      <td>433.0</td>\n",
              "      <td>789.500000</td>\n",
              "      <td>0.005563</td>\n",
              "      <td>1</td>\n",
              "    </tr>\n",
              "    <tr>\n",
              "      <th>8141</th>\n",
              "      <td>21.10</td>\n",
              "      <td>36.0950</td>\n",
              "      <td>433.0</td>\n",
              "      <td>798.500000</td>\n",
              "      <td>0.005596</td>\n",
              "      <td>1</td>\n",
              "    </tr>\n",
              "    <tr>\n",
              "      <th>8142</th>\n",
              "      <td>21.10</td>\n",
              "      <td>36.2600</td>\n",
              "      <td>433.0</td>\n",
              "      <td>820.333333</td>\n",
              "      <td>0.005621</td>\n",
              "      <td>1</td>\n",
              "    </tr>\n",
              "    <tr>\n",
              "      <th>8143</th>\n",
              "      <td>21.10</td>\n",
              "      <td>36.2000</td>\n",
              "      <td>447.0</td>\n",
              "      <td>821.000000</td>\n",
              "      <td>0.005612</td>\n",
              "      <td>1</td>\n",
              "    </tr>\n",
              "  </tbody>\n",
              "</table>\n",
              "<p>8143 rows × 6 columns</p>\n",
              "</div>"
            ],
            "text/plain": [
              "      Temperature  Humidity  Light         CO2  HumidityRatio  Occupancy\n",
              "1           23.18   27.2720  426.0  721.250000       0.004793          1\n",
              "2           23.15   27.2675  429.5  714.000000       0.004783          1\n",
              "3           23.15   27.2450  426.0  713.500000       0.004779          1\n",
              "4           23.15   27.2000  426.0  708.250000       0.004772          1\n",
              "5           23.10   27.2000  426.0  704.500000       0.004757          1\n",
              "...           ...       ...    ...         ...            ...        ...\n",
              "8139        21.05   36.0975  433.0  787.250000       0.005579          1\n",
              "8140        21.05   35.9950  433.0  789.500000       0.005563          1\n",
              "8141        21.10   36.0950  433.0  798.500000       0.005596          1\n",
              "8142        21.10   36.2600  433.0  820.333333       0.005621          1\n",
              "8143        21.10   36.2000  447.0  821.000000       0.005612          1\n",
              "\n",
              "[8143 rows x 6 columns]"
            ]
          },
          "metadata": {
            "tags": []
          },
          "execution_count": 9
        }
      ]
    },
    {
      "cell_type": "code",
      "metadata": {
        "id": "8dJCTy0MuUL_",
        "colab": {
          "base_uri": "https://localhost:8080/",
          "height": 195
        },
        "outputId": "cf9b3ad7-c315-458a-cf68-55ed4d702e54"
      },
      "source": [
        "#Changing index of df2 \n",
        "df2.index = np.arange(1,len(df2)+1)\n",
        "df2.head()"
      ],
      "execution_count": 10,
      "outputs": [
        {
          "output_type": "execute_result",
          "data": {
            "text/html": [
              "<div>\n",
              "<style scoped>\n",
              "    .dataframe tbody tr th:only-of-type {\n",
              "        vertical-align: middle;\n",
              "    }\n",
              "\n",
              "    .dataframe tbody tr th {\n",
              "        vertical-align: top;\n",
              "    }\n",
              "\n",
              "    .dataframe thead th {\n",
              "        text-align: right;\n",
              "    }\n",
              "</style>\n",
              "<table border=\"1\" class=\"dataframe\">\n",
              "  <thead>\n",
              "    <tr style=\"text-align: right;\">\n",
              "      <th></th>\n",
              "      <th>Temperature</th>\n",
              "      <th>Humidity</th>\n",
              "      <th>Light</th>\n",
              "      <th>CO2</th>\n",
              "      <th>HumidityRatio</th>\n",
              "      <th>Occupancy</th>\n",
              "    </tr>\n",
              "  </thead>\n",
              "  <tbody>\n",
              "    <tr>\n",
              "      <th>1</th>\n",
              "      <td>23.7000</td>\n",
              "      <td>26.272</td>\n",
              "      <td>585.200000</td>\n",
              "      <td>749.200000</td>\n",
              "      <td>0.004764</td>\n",
              "      <td>1</td>\n",
              "    </tr>\n",
              "    <tr>\n",
              "      <th>2</th>\n",
              "      <td>23.7180</td>\n",
              "      <td>26.290</td>\n",
              "      <td>578.400000</td>\n",
              "      <td>760.400000</td>\n",
              "      <td>0.004773</td>\n",
              "      <td>1</td>\n",
              "    </tr>\n",
              "    <tr>\n",
              "      <th>3</th>\n",
              "      <td>23.7300</td>\n",
              "      <td>26.230</td>\n",
              "      <td>572.666667</td>\n",
              "      <td>769.666667</td>\n",
              "      <td>0.004765</td>\n",
              "      <td>1</td>\n",
              "    </tr>\n",
              "    <tr>\n",
              "      <th>4</th>\n",
              "      <td>23.7225</td>\n",
              "      <td>26.125</td>\n",
              "      <td>493.750000</td>\n",
              "      <td>774.750000</td>\n",
              "      <td>0.004744</td>\n",
              "      <td>1</td>\n",
              "    </tr>\n",
              "    <tr>\n",
              "      <th>5</th>\n",
              "      <td>23.7540</td>\n",
              "      <td>26.200</td>\n",
              "      <td>488.600000</td>\n",
              "      <td>779.000000</td>\n",
              "      <td>0.004767</td>\n",
              "      <td>1</td>\n",
              "    </tr>\n",
              "  </tbody>\n",
              "</table>\n",
              "</div>"
            ],
            "text/plain": [
              "   Temperature  Humidity       Light         CO2  HumidityRatio  Occupancy\n",
              "1      23.7000    26.272  585.200000  749.200000       0.004764          1\n",
              "2      23.7180    26.290  578.400000  760.400000       0.004773          1\n",
              "3      23.7300    26.230  572.666667  769.666667       0.004765          1\n",
              "4      23.7225    26.125  493.750000  774.750000       0.004744          1\n",
              "5      23.7540    26.200  488.600000  779.000000       0.004767          1"
            ]
          },
          "metadata": {
            "tags": []
          },
          "execution_count": 10
        }
      ]
    },
    {
      "cell_type": "code",
      "metadata": {
        "id": "dCw2lNmWNIAG",
        "colab": {
          "base_uri": "https://localhost:8080/",
          "height": 284
        },
        "outputId": "fa94b7c5-4c1a-42b3-d6f1-6f669e13f991"
      },
      "source": [
        "df1.describe()"
      ],
      "execution_count": 11,
      "outputs": [
        {
          "output_type": "execute_result",
          "data": {
            "text/html": [
              "<div>\n",
              "<style scoped>\n",
              "    .dataframe tbody tr th:only-of-type {\n",
              "        vertical-align: middle;\n",
              "    }\n",
              "\n",
              "    .dataframe tbody tr th {\n",
              "        vertical-align: top;\n",
              "    }\n",
              "\n",
              "    .dataframe thead th {\n",
              "        text-align: right;\n",
              "    }\n",
              "</style>\n",
              "<table border=\"1\" class=\"dataframe\">\n",
              "  <thead>\n",
              "    <tr style=\"text-align: right;\">\n",
              "      <th></th>\n",
              "      <th>Temperature</th>\n",
              "      <th>Humidity</th>\n",
              "      <th>Light</th>\n",
              "      <th>CO2</th>\n",
              "      <th>HumidityRatio</th>\n",
              "      <th>Occupancy</th>\n",
              "    </tr>\n",
              "  </thead>\n",
              "  <tbody>\n",
              "    <tr>\n",
              "      <th>count</th>\n",
              "      <td>8143.000000</td>\n",
              "      <td>8143.000000</td>\n",
              "      <td>8143.000000</td>\n",
              "      <td>8143.000000</td>\n",
              "      <td>8143.000000</td>\n",
              "      <td>8143.000000</td>\n",
              "    </tr>\n",
              "    <tr>\n",
              "      <th>mean</th>\n",
              "      <td>20.619084</td>\n",
              "      <td>25.731507</td>\n",
              "      <td>119.519375</td>\n",
              "      <td>606.546243</td>\n",
              "      <td>0.003863</td>\n",
              "      <td>0.212330</td>\n",
              "    </tr>\n",
              "    <tr>\n",
              "      <th>std</th>\n",
              "      <td>1.016916</td>\n",
              "      <td>5.531211</td>\n",
              "      <td>194.755805</td>\n",
              "      <td>314.320877</td>\n",
              "      <td>0.000852</td>\n",
              "      <td>0.408982</td>\n",
              "    </tr>\n",
              "    <tr>\n",
              "      <th>min</th>\n",
              "      <td>19.000000</td>\n",
              "      <td>16.745000</td>\n",
              "      <td>0.000000</td>\n",
              "      <td>412.750000</td>\n",
              "      <td>0.002674</td>\n",
              "      <td>0.000000</td>\n",
              "    </tr>\n",
              "    <tr>\n",
              "      <th>25%</th>\n",
              "      <td>19.700000</td>\n",
              "      <td>20.200000</td>\n",
              "      <td>0.000000</td>\n",
              "      <td>439.000000</td>\n",
              "      <td>0.003078</td>\n",
              "      <td>0.000000</td>\n",
              "    </tr>\n",
              "    <tr>\n",
              "      <th>50%</th>\n",
              "      <td>20.390000</td>\n",
              "      <td>26.222500</td>\n",
              "      <td>0.000000</td>\n",
              "      <td>453.500000</td>\n",
              "      <td>0.003801</td>\n",
              "      <td>0.000000</td>\n",
              "    </tr>\n",
              "    <tr>\n",
              "      <th>75%</th>\n",
              "      <td>21.390000</td>\n",
              "      <td>30.533333</td>\n",
              "      <td>256.375000</td>\n",
              "      <td>638.833333</td>\n",
              "      <td>0.004352</td>\n",
              "      <td>0.000000</td>\n",
              "    </tr>\n",
              "    <tr>\n",
              "      <th>max</th>\n",
              "      <td>23.180000</td>\n",
              "      <td>39.117500</td>\n",
              "      <td>1546.333333</td>\n",
              "      <td>2028.500000</td>\n",
              "      <td>0.006476</td>\n",
              "      <td>1.000000</td>\n",
              "    </tr>\n",
              "  </tbody>\n",
              "</table>\n",
              "</div>"
            ],
            "text/plain": [
              "       Temperature     Humidity  ...  HumidityRatio    Occupancy\n",
              "count  8143.000000  8143.000000  ...    8143.000000  8143.000000\n",
              "mean     20.619084    25.731507  ...       0.003863     0.212330\n",
              "std       1.016916     5.531211  ...       0.000852     0.408982\n",
              "min      19.000000    16.745000  ...       0.002674     0.000000\n",
              "25%      19.700000    20.200000  ...       0.003078     0.000000\n",
              "50%      20.390000    26.222500  ...       0.003801     0.000000\n",
              "75%      21.390000    30.533333  ...       0.004352     0.000000\n",
              "max      23.180000    39.117500  ...       0.006476     1.000000\n",
              "\n",
              "[8 rows x 6 columns]"
            ]
          },
          "metadata": {
            "tags": []
          },
          "execution_count": 11
        }
      ]
    },
    {
      "cell_type": "code",
      "metadata": {
        "id": "7w1kUkFqzbc-",
        "colab": {
          "base_uri": "https://localhost:8080/",
          "height": 284
        },
        "outputId": "042f8305-c49d-44ce-e654-90791d296c05"
      },
      "source": [
        "df2.describe()"
      ],
      "execution_count": 12,
      "outputs": [
        {
          "output_type": "execute_result",
          "data": {
            "text/html": [
              "<div>\n",
              "<style scoped>\n",
              "    .dataframe tbody tr th:only-of-type {\n",
              "        vertical-align: middle;\n",
              "    }\n",
              "\n",
              "    .dataframe tbody tr th {\n",
              "        vertical-align: top;\n",
              "    }\n",
              "\n",
              "    .dataframe thead th {\n",
              "        text-align: right;\n",
              "    }\n",
              "</style>\n",
              "<table border=\"1\" class=\"dataframe\">\n",
              "  <thead>\n",
              "    <tr style=\"text-align: right;\">\n",
              "      <th></th>\n",
              "      <th>Temperature</th>\n",
              "      <th>Humidity</th>\n",
              "      <th>Light</th>\n",
              "      <th>CO2</th>\n",
              "      <th>HumidityRatio</th>\n",
              "      <th>Occupancy</th>\n",
              "    </tr>\n",
              "  </thead>\n",
              "  <tbody>\n",
              "    <tr>\n",
              "      <th>count</th>\n",
              "      <td>2665.000000</td>\n",
              "      <td>2665.000000</td>\n",
              "      <td>2665.000000</td>\n",
              "      <td>2665.000000</td>\n",
              "      <td>2665.000000</td>\n",
              "      <td>2665.000000</td>\n",
              "    </tr>\n",
              "    <tr>\n",
              "      <th>mean</th>\n",
              "      <td>21.433876</td>\n",
              "      <td>25.353937</td>\n",
              "      <td>193.227556</td>\n",
              "      <td>717.906470</td>\n",
              "      <td>0.004027</td>\n",
              "      <td>0.364728</td>\n",
              "    </tr>\n",
              "    <tr>\n",
              "      <th>std</th>\n",
              "      <td>1.028024</td>\n",
              "      <td>2.436842</td>\n",
              "      <td>250.210906</td>\n",
              "      <td>292.681718</td>\n",
              "      <td>0.000611</td>\n",
              "      <td>0.481444</td>\n",
              "    </tr>\n",
              "    <tr>\n",
              "      <th>min</th>\n",
              "      <td>20.200000</td>\n",
              "      <td>22.100000</td>\n",
              "      <td>0.000000</td>\n",
              "      <td>427.500000</td>\n",
              "      <td>0.003303</td>\n",
              "      <td>0.000000</td>\n",
              "    </tr>\n",
              "    <tr>\n",
              "      <th>25%</th>\n",
              "      <td>20.650000</td>\n",
              "      <td>23.260000</td>\n",
              "      <td>0.000000</td>\n",
              "      <td>466.000000</td>\n",
              "      <td>0.003529</td>\n",
              "      <td>0.000000</td>\n",
              "    </tr>\n",
              "    <tr>\n",
              "      <th>50%</th>\n",
              "      <td>20.890000</td>\n",
              "      <td>25.000000</td>\n",
              "      <td>0.000000</td>\n",
              "      <td>580.500000</td>\n",
              "      <td>0.003815</td>\n",
              "      <td>0.000000</td>\n",
              "    </tr>\n",
              "    <tr>\n",
              "      <th>75%</th>\n",
              "      <td>22.356667</td>\n",
              "      <td>26.856667</td>\n",
              "      <td>442.500000</td>\n",
              "      <td>956.333333</td>\n",
              "      <td>0.004532</td>\n",
              "      <td>1.000000</td>\n",
              "    </tr>\n",
              "    <tr>\n",
              "      <th>max</th>\n",
              "      <td>24.408333</td>\n",
              "      <td>31.472500</td>\n",
              "      <td>1697.250000</td>\n",
              "      <td>1402.250000</td>\n",
              "      <td>0.005378</td>\n",
              "      <td>1.000000</td>\n",
              "    </tr>\n",
              "  </tbody>\n",
              "</table>\n",
              "</div>"
            ],
            "text/plain": [
              "       Temperature     Humidity  ...  HumidityRatio    Occupancy\n",
              "count  2665.000000  2665.000000  ...    2665.000000  2665.000000\n",
              "mean     21.433876    25.353937  ...       0.004027     0.364728\n",
              "std       1.028024     2.436842  ...       0.000611     0.481444\n",
              "min      20.200000    22.100000  ...       0.003303     0.000000\n",
              "25%      20.650000    23.260000  ...       0.003529     0.000000\n",
              "50%      20.890000    25.000000  ...       0.003815     0.000000\n",
              "75%      22.356667    26.856667  ...       0.004532     1.000000\n",
              "max      24.408333    31.472500  ...       0.005378     1.000000\n",
              "\n",
              "[8 rows x 6 columns]"
            ]
          },
          "metadata": {
            "tags": []
          },
          "execution_count": 12
        }
      ]
    },
    {
      "cell_type": "code",
      "metadata": {
        "id": "HZgzG4HHzf6k",
        "colab": {
          "base_uri": "https://localhost:8080/",
          "height": 284
        },
        "outputId": "56a30fef-ff93-4e44-98a5-bb036ff77a68"
      },
      "source": [
        "df3.describe()"
      ],
      "execution_count": 13,
      "outputs": [
        {
          "output_type": "execute_result",
          "data": {
            "text/html": [
              "<div>\n",
              "<style scoped>\n",
              "    .dataframe tbody tr th:only-of-type {\n",
              "        vertical-align: middle;\n",
              "    }\n",
              "\n",
              "    .dataframe tbody tr th {\n",
              "        vertical-align: top;\n",
              "    }\n",
              "\n",
              "    .dataframe thead th {\n",
              "        text-align: right;\n",
              "    }\n",
              "</style>\n",
              "<table border=\"1\" class=\"dataframe\">\n",
              "  <thead>\n",
              "    <tr style=\"text-align: right;\">\n",
              "      <th></th>\n",
              "      <th>Temperature</th>\n",
              "      <th>Humidity</th>\n",
              "      <th>Light</th>\n",
              "      <th>CO2</th>\n",
              "      <th>HumidityRatio</th>\n",
              "      <th>Occupancy</th>\n",
              "    </tr>\n",
              "  </thead>\n",
              "  <tbody>\n",
              "    <tr>\n",
              "      <th>count</th>\n",
              "      <td>9752.000000</td>\n",
              "      <td>9752.000000</td>\n",
              "      <td>9752.000000</td>\n",
              "      <td>9752.000000</td>\n",
              "      <td>9752.000000</td>\n",
              "      <td>9752.000000</td>\n",
              "    </tr>\n",
              "    <tr>\n",
              "      <th>mean</th>\n",
              "      <td>21.001768</td>\n",
              "      <td>29.891910</td>\n",
              "      <td>123.067930</td>\n",
              "      <td>753.224832</td>\n",
              "      <td>0.004589</td>\n",
              "      <td>0.210111</td>\n",
              "    </tr>\n",
              "    <tr>\n",
              "      <th>std</th>\n",
              "      <td>1.020693</td>\n",
              "      <td>3.952844</td>\n",
              "      <td>208.221275</td>\n",
              "      <td>297.096114</td>\n",
              "      <td>0.000531</td>\n",
              "      <td>0.407408</td>\n",
              "    </tr>\n",
              "    <tr>\n",
              "      <th>min</th>\n",
              "      <td>19.500000</td>\n",
              "      <td>21.865000</td>\n",
              "      <td>0.000000</td>\n",
              "      <td>484.666667</td>\n",
              "      <td>0.003275</td>\n",
              "      <td>0.000000</td>\n",
              "    </tr>\n",
              "    <tr>\n",
              "      <th>25%</th>\n",
              "      <td>20.290000</td>\n",
              "      <td>26.642083</td>\n",
              "      <td>0.000000</td>\n",
              "      <td>542.312500</td>\n",
              "      <td>0.004196</td>\n",
              "      <td>0.000000</td>\n",
              "    </tr>\n",
              "    <tr>\n",
              "      <th>50%</th>\n",
              "      <td>20.790000</td>\n",
              "      <td>30.200000</td>\n",
              "      <td>0.000000</td>\n",
              "      <td>639.000000</td>\n",
              "      <td>0.004593</td>\n",
              "      <td>0.000000</td>\n",
              "    </tr>\n",
              "    <tr>\n",
              "      <th>75%</th>\n",
              "      <td>21.533333</td>\n",
              "      <td>32.700000</td>\n",
              "      <td>208.250000</td>\n",
              "      <td>831.125000</td>\n",
              "      <td>0.004998</td>\n",
              "      <td>0.000000</td>\n",
              "    </tr>\n",
              "    <tr>\n",
              "      <th>max</th>\n",
              "      <td>24.390000</td>\n",
              "      <td>39.500000</td>\n",
              "      <td>1581.000000</td>\n",
              "      <td>2076.500000</td>\n",
              "      <td>0.005769</td>\n",
              "      <td>1.000000</td>\n",
              "    </tr>\n",
              "  </tbody>\n",
              "</table>\n",
              "</div>"
            ],
            "text/plain": [
              "       Temperature     Humidity  ...  HumidityRatio    Occupancy\n",
              "count  9752.000000  9752.000000  ...    9752.000000  9752.000000\n",
              "mean     21.001768    29.891910  ...       0.004589     0.210111\n",
              "std       1.020693     3.952844  ...       0.000531     0.407408\n",
              "min      19.500000    21.865000  ...       0.003275     0.000000\n",
              "25%      20.290000    26.642083  ...       0.004196     0.000000\n",
              "50%      20.790000    30.200000  ...       0.004593     0.000000\n",
              "75%      21.533333    32.700000  ...       0.004998     0.000000\n",
              "max      24.390000    39.500000  ...       0.005769     1.000000\n",
              "\n",
              "[8 rows x 6 columns]"
            ]
          },
          "metadata": {
            "tags": []
          },
          "execution_count": 13
        }
      ]
    },
    {
      "cell_type": "code",
      "metadata": {
        "id": "LJOrMlMvrT2_",
        "colab": {
          "base_uri": "https://localhost:8080/"
        },
        "outputId": "d185d879-c367-487a-8a78-2c6891d58510"
      },
      "source": [
        "print(df1[df1.Light == 0])"
      ],
      "execution_count": 14,
      "outputs": [
        {
          "output_type": "stream",
          "text": [
            "      Temperature  Humidity  Light         CO2  HumidityRatio  Occupancy\n",
            "17         23.000     27.20    0.0  681.500000       0.004728          0\n",
            "18         22.945     27.29    0.0  685.000000       0.004728          0\n",
            "19         22.945     27.39    0.0  685.000000       0.004745          0\n",
            "20         22.890     27.39    0.0  689.000000       0.004730          0\n",
            "21         22.890     27.39    0.0  689.500000       0.004730          0\n",
            "...           ...       ...    ...         ...            ...        ...\n",
            "8082       20.290     33.20    0.0  454.666667       0.004891          0\n",
            "8083       20.290     33.20    0.0  451.000000       0.004891          0\n",
            "8084       20.290     33.20    0.0  451.000000       0.004891          0\n",
            "8085       20.290     33.20    0.0  455.000000       0.004891          0\n",
            "8086       20.290     33.20    0.0  458.000000       0.004891          0\n",
            "\n",
            "[5160 rows x 6 columns]\n"
          ],
          "name": "stdout"
        }
      ]
    },
    {
      "cell_type": "code",
      "metadata": {
        "id": "vBJNa7-BrKhL",
        "colab": {
          "base_uri": "https://localhost:8080/"
        },
        "outputId": "6921ea26-1d94-4a34-b443-5c2e256ecb35"
      },
      "source": [
        "# There are lots of zero values in column \"Light\" in all 3 datasets\n",
        "print(sum(df1.Light  ==  0))\n",
        "print(sum(df2.Light  ==  0))\n",
        "print(sum(df3.Light  ==  0))"
      ],
      "execution_count": 15,
      "outputs": [
        {
          "output_type": "stream",
          "text": [
            "5160\n",
            "1615\n",
            "5997\n"
          ],
          "name": "stdout"
        }
      ]
    },
    {
      "cell_type": "code",
      "metadata": {
        "id": "TEpKS1_8QuPX",
        "colab": {
          "base_uri": "https://localhost:8080/"
        },
        "outputId": "c0e27fbe-63ba-4e41-df64-9e0efde2aa5d"
      },
      "source": [
        "print(sum(df1[df1.Light  ==  0].Occupancy))\n",
        "print(sum(df2[df2.Light  ==  0].Occupancy))\n",
        "print(sum(df3[df3.Light  ==  0].Occupancy))"
      ],
      "execution_count": 16,
      "outputs": [
        {
          "output_type": "stream",
          "text": [
            "0\n",
            "0\n",
            "1\n"
          ],
          "name": "stdout"
        }
      ]
    },
    {
      "cell_type": "code",
      "metadata": {
        "colab": {
          "base_uri": "https://localhost:8080/"
        },
        "id": "xNUWBwdXn2HK",
        "outputId": "31f4f42d-63eb-4d9e-e0a0-c5a3a6b0477a"
      },
      "source": [
        "x = df1.Light\n",
        "x"
      ],
      "execution_count": 17,
      "outputs": [
        {
          "output_type": "execute_result",
          "data": {
            "text/plain": [
              "1       426.0\n",
              "2       429.5\n",
              "3       426.0\n",
              "4       426.0\n",
              "5       426.0\n",
              "        ...  \n",
              "8139    433.0\n",
              "8140    433.0\n",
              "8141    433.0\n",
              "8142    433.0\n",
              "8143    447.0\n",
              "Name: Light, Length: 8143, dtype: float64"
            ]
          },
          "metadata": {
            "tags": []
          },
          "execution_count": 17
        }
      ]
    },
    {
      "cell_type": "code",
      "metadata": {
        "colab": {
          "base_uri": "https://localhost:8080/",
          "height": 992
        },
        "id": "jdKJrgxvoQCJ",
        "outputId": "807ba3fb-40bd-4944-d028-2925d5524b03"
      },
      "source": [
        "corrMatrix1 = df1.corr()\n",
        "corrMatrix2 = df2.corr()\n",
        "corrMatrix3 = df3.corr()\n",
        "sns.heatmap(corrMatrix1, annot=True)\n",
        "plt.title(\"df 1\")\n",
        "plt.show()\n",
        "sns.heatmap(corrMatrix2, annot=True)\n",
        "plt.title(\"df 2\")\n",
        "plt.show()\n",
        "sns.heatmap(corrMatrix3, annot=True)\n",
        "plt.title(\"df 3\")\n",
        "plt.show()"
      ],
      "execution_count": 18,
      "outputs": [
        {
          "output_type": "display_data",
          "data": {
            "image/png": "[encoded data removed]",
            "text/plain": [
              "<Figure size 432x288 with 2 Axes>"
            ]
          },
          "metadata": {
            "tags": [],
            "needs_background": "light"
          }
        },
        {
          "output_type": "display_data",
          "data": {
            "image/png": "[encoded data removed]",
            "text/plain": [
              "<Figure size 432x288 with 2 Axes>"
            ]
          },
          "metadata": {
            "tags": [],
            "needs_background": "light"
          }
        },
        {
          "output_type": "display_data",
          "data": {
            "image/png": "[encoded data removed]",
            "text/plain": [
              "<Figure size 432x288 with 2 Axes>"
            ]
          },
          "metadata": {
            "tags": [],
            "needs_background": "light"
          }
        }
      ]
    },
    {
      "cell_type": "markdown",
      "metadata": {
        "id": "ZPurH5zJWCwT"
      },
      "source": [
        "#Dividing dataset"
      ]
    },
    {
      "cell_type": "code",
      "metadata": {
        "id": "sfNAFZCNXK3O"
      },
      "source": [
        "#For training dataset \"training.txt\"\n",
        "X_train = df1.iloc[:,0:5]\n",
        "Y_train = df1.iloc[:,5]\n",
        "scalar = StandardScaler()\n",
        "X_scaled_train=scalar.fit(X_train).transform(X_train)"
      ],
      "execution_count": 19,
      "outputs": []
    },
    {
      "cell_type": "code",
      "metadata": {
        "id": "OV5qsPl0tRaZ"
      },
      "source": [
        "#For testing dataset 1 \"datatest.txt\" \n",
        "X_test1 = df2.iloc[:,0:5]\n",
        "Y_test1 = df2.iloc[:,5]\n",
        "scalar = StandardScaler()\n",
        "X_scaled_test1=scalar.fit(X_test1).transform(X_test1)\n",
        "\n",
        "#For testing dataset 2 \"datatest2.txt\" \n",
        "X_test2 = df3.iloc[:,0:5]\n",
        "Y_test2 = df3.iloc[:,5]\n",
        "scalar = StandardScaler()\n",
        "X_scaled_test2=scalar.fit(X_test2).transform(X_test2)"
      ],
      "execution_count": 20,
      "outputs": []
    },
    {
      "cell_type": "code",
      "metadata": {
        "colab": {
          "base_uri": "https://localhost:8080/"
        },
        "id": "0vcZH2fyraZR",
        "outputId": "407396f4-e38e-4fe4-dab1-5770de45cda1"
      },
      "source": [
        "print(X_scaled_train.shape)\n",
        "print(X_scaled_test1.shape)\n",
        "print(X_scaled_test2.shape)"
      ],
      "execution_count": 21,
      "outputs": [
        {
          "output_type": "stream",
          "text": [
            "(8143, 5)\n",
            "(2665, 5)\n",
            "(9752, 5)\n"
          ],
          "name": "stdout"
        }
      ]
    },
    {
      "cell_type": "markdown",
      "metadata": {
        "id": "u3fAXV_Ps3G8"
      },
      "source": [
        "##Logistic Regression"
      ]
    },
    {
      "cell_type": "code",
      "metadata": {
        "colab": {
          "base_uri": "https://localhost:8080/"
        },
        "id": "rGbR5u0SDYYF",
        "outputId": "0faa202d-2509-4b60-ab7b-4dd18f5c3bc1"
      },
      "source": [
        "#importing Logistic regression model\n",
        "from sklearn.linear_model import LogisticRegression\n",
        "from sklearn.metrics import classification_report, confusion_matrix, accuracy_score\n",
        "# we can also add penalty\n",
        "solv = {\"newton-cg\", \"lbfgs\", \"liblinear\", \"sag\", \"saga\"} # It represents which algorithm to use in the optimization problem. \n",
        "\n",
        "for a in solv:\n",
        "    LR = LogisticRegression(random_state=0, solver = a)\n",
        "    print(LR)\n",
        "    LR.fit(X_scaled_train, Y_train)\n",
        "    Y_pred1 = LR.predict(X_scaled_test1)\n",
        "    Y_pred2 = LR.predict(X_scaled_test2)\n",
        "    print('Coefficients: \\n', LR.coef_)\n",
        "\n",
        "    # accuracy \n",
        "    print('Accuracy on Train : ', round(LR.score(X_scaled_train, Y_train)*100, 2))\n",
        "    print('Accuracy on Test1 : ', round(LR.score(X_scaled_test1, Y_test1)*100, 2))\n",
        "    print('Accuracy on Test2 : ', round(LR.score(X_scaled_test2, Y_test2)*100, 2))\n",
        "    print(\"For Test1 dataset\")\n",
        "    # Confusion Matrix \n",
        "    result = confusion_matrix(Y_test1, Y_pred1)\n",
        "    print(\"Confusion Matrix:\")\n",
        "    print(result)\n",
        "    # Classification report\n",
        "    result1 = classification_report(Y_test1, Y_pred1)\n",
        "    print(\"\\nClassification Report:\")\n",
        "    print(result1)\n",
        "    # Accuracy score\n",
        "    result2 = accuracy_score(Y_test1, Y_pred1)\n",
        "    print(\"\\nAccuracy:\",result2)\n",
        "    print(\"For Test2 dataset\")\n",
        "    # Confusion Matrix \n",
        "    result = confusion_matrix(Y_test2, Y_pred2)\n",
        "    print(\"Confusion Matrix:\")\n",
        "    print(result)\n",
        "    # Classification report\n",
        "    result1 = classification_report(Y_test2, Y_pred2)\n",
        "    print(\"\\nClassification Report:\")\n",
        "    print (result1)\n",
        "    # Accuracy score\n",
        "    result2 = accuracy_score(Y_test2, Y_pred2)\n",
        "    print(\"\\nAccuracy:\",result2)\n",
        "    print('')"
      ],
      "execution_count": 22,
      "outputs": [
        {
          "output_type": "stream",
          "text": [
            "LogisticRegression(C=1.0, class_weight=None, dual=False, fit_intercept=True,\n",
            "                   intercept_scaling=1, l1_ratio=None, max_iter=100,\n",
            "                   multi_class='auto', n_jobs=None, penalty='l2',\n",
            "                   random_state=0, solver='sag', tol=0.0001, verbose=0,\n",
            "                   warm_start=False)\n",
            "Coefficients: \n",
            " [[-1.25448032  0.18764232  3.91326452  1.89570778 -0.389882  ]]\n",
            "Accuracy on Train :  98.6\n",
            "Accuracy on Test1 :  89.04\n",
            "Accuracy on Test2 :  95.61\n",
            "For Test1 dataset\n",
            "Confusion Matrix:\n",
            "[[1671   22]\n",
            " [ 270  702]]\n",
            "\n",
            "Classification Report:\n",
            "              precision    recall  f1-score   support\n",
            "\n",
            "           0       0.86      0.99      0.92      1693\n",
            "           1       0.97      0.72      0.83       972\n",
            "\n",
            "    accuracy                           0.89      2665\n",
            "   macro avg       0.92      0.85      0.87      2665\n",
            "weighted avg       0.90      0.89      0.89      2665\n",
            "\n",
            "\n",
            "Accuracy: 0.8904315196998124\n",
            "For Test2 dataset\n",
            "Confusion Matrix:\n",
            "[[7651   52]\n",
            " [ 376 1673]]\n",
            "\n",
            "Classification Report:\n",
            "              precision    recall  f1-score   support\n",
            "\n",
            "           0       0.95      0.99      0.97      7703\n",
            "           1       0.97      0.82      0.89      2049\n",
            "\n",
            "    accuracy                           0.96      9752\n",
            "   macro avg       0.96      0.90      0.93      9752\n",
            "weighted avg       0.96      0.96      0.95      9752\n",
            "\n",
            "\n",
            "Accuracy: 0.9561115668580804\n",
            "\n",
            "LogisticRegression(C=1.0, class_weight=None, dual=False, fit_intercept=True,\n",
            "                   intercept_scaling=1, l1_ratio=None, max_iter=100,\n",
            "                   multi_class='auto', n_jobs=None, penalty='l2',\n",
            "                   random_state=0, solver='saga', tol=0.0001, verbose=0,\n",
            "                   warm_start=False)\n",
            "Coefficients: \n",
            " [[-1.25609781  0.18181663  3.91327515  1.89551697 -0.38408122]]\n",
            "Accuracy on Train :  98.6\n",
            "Accuracy on Test1 :  89.04\n",
            "Accuracy on Test2 :  95.63\n",
            "For Test1 dataset\n",
            "Confusion Matrix:\n",
            "[[1671   22]\n",
            " [ 270  702]]\n",
            "\n",
            "Classification Report:\n",
            "              precision    recall  f1-score   support\n",
            "\n",
            "           0       0.86      0.99      0.92      1693\n",
            "           1       0.97      0.72      0.83       972\n",
            "\n",
            "    accuracy                           0.89      2665\n",
            "   macro avg       0.92      0.85      0.87      2665\n",
            "weighted avg       0.90      0.89      0.89      2665\n",
            "\n",
            "\n",
            "Accuracy: 0.8904315196998124\n",
            "For Test2 dataset\n",
            "Confusion Matrix:\n",
            "[[7651   52]\n",
            " [ 374 1675]]\n",
            "\n",
            "Classification Report:\n",
            "              precision    recall  f1-score   support\n",
            "\n",
            "           0       0.95      0.99      0.97      7703\n",
            "           1       0.97      0.82      0.89      2049\n",
            "\n",
            "    accuracy                           0.96      9752\n",
            "   macro avg       0.96      0.91      0.93      9752\n",
            "weighted avg       0.96      0.96      0.95      9752\n",
            "\n",
            "\n",
            "Accuracy: 0.9563166529942576\n",
            "\n",
            "LogisticRegression(C=1.0, class_weight=None, dual=False, fit_intercept=True,\n",
            "                   intercept_scaling=1, l1_ratio=None, max_iter=100,\n",
            "                   multi_class='auto', n_jobs=None, penalty='l2',\n",
            "                   random_state=0, solver='newton-cg', tol=0.0001, verbose=0,\n",
            "                   warm_start=False)\n",
            "Coefficients: \n",
            " [[-1.25313994  0.19245224  3.91325952  1.8958613  -0.39467167]]\n",
            "Accuracy on Train :  98.6\n",
            "Accuracy on Test1 :  89.04\n",
            "Accuracy on Test2 :  95.61\n",
            "For Test1 dataset\n",
            "Confusion Matrix:\n",
            "[[1671   22]\n",
            " [ 270  702]]\n",
            "\n",
            "Classification Report:\n",
            "              precision    recall  f1-score   support\n",
            "\n",
            "           0       0.86      0.99      0.92      1693\n",
            "           1       0.97      0.72      0.83       972\n",
            "\n",
            "    accuracy                           0.89      2665\n",
            "   macro avg       0.92      0.85      0.87      2665\n",
            "weighted avg       0.90      0.89      0.89      2665\n",
            "\n",
            "\n",
            "Accuracy: 0.8904315196998124\n",
            "For Test2 dataset\n",
            "Confusion Matrix:\n",
            "[[7651   52]\n",
            " [ 376 1673]]\n",
            "\n",
            "Classification Report:\n",
            "              precision    recall  f1-score   support\n",
            "\n",
            "           0       0.95      0.99      0.97      7703\n",
            "           1       0.97      0.82      0.89      2049\n",
            "\n",
            "    accuracy                           0.96      9752\n",
            "   macro avg       0.96      0.90      0.93      9752\n",
            "weighted avg       0.96      0.96      0.95      9752\n",
            "\n",
            "\n",
            "Accuracy: 0.9561115668580804\n",
            "\n",
            "LogisticRegression(C=1.0, class_weight=None, dual=False, fit_intercept=True,\n",
            "                   intercept_scaling=1, l1_ratio=None, max_iter=100,\n",
            "                   multi_class='auto', n_jobs=None, penalty='l2',\n",
            "                   random_state=0, solver='lbfgs', tol=0.0001, verbose=0,\n",
            "                   warm_start=False)\n",
            "Coefficients: \n",
            " [[-1.25311124  0.19245655  3.91322812  1.89585145 -0.39468199]]\n",
            "Accuracy on Train :  98.6\n",
            "Accuracy on Test1 :  89.04\n",
            "Accuracy on Test2 :  95.61\n",
            "For Test1 dataset\n",
            "Confusion Matrix:\n",
            "[[1671   22]\n",
            " [ 270  702]]\n",
            "\n",
            "Classification Report:\n",
            "              precision    recall  f1-score   support\n",
            "\n",
            "           0       0.86      0.99      0.92      1693\n",
            "           1       0.97      0.72      0.83       972\n",
            "\n",
            "    accuracy                           0.89      2665\n",
            "   macro avg       0.92      0.85      0.87      2665\n",
            "weighted avg       0.90      0.89      0.89      2665\n",
            "\n",
            "\n",
            "Accuracy: 0.8904315196998124\n",
            "For Test2 dataset\n",
            "Confusion Matrix:\n",
            "[[7651   52]\n",
            " [ 376 1673]]\n",
            "\n",
            "Classification Report:\n",
            "              precision    recall  f1-score   support\n",
            "\n",
            "           0       0.95      0.99      0.97      7703\n",
            "           1       0.97      0.82      0.89      2049\n",
            "\n",
            "    accuracy                           0.96      9752\n",
            "   macro avg       0.96      0.90      0.93      9752\n",
            "weighted avg       0.96      0.96      0.95      9752\n",
            "\n",
            "\n",
            "Accuracy: 0.9561115668580804\n",
            "\n",
            "LogisticRegression(C=1.0, class_weight=None, dual=False, fit_intercept=True,\n",
            "                   intercept_scaling=1, l1_ratio=None, max_iter=100,\n",
            "                   multi_class='auto', n_jobs=None, penalty='l2',\n",
            "                   random_state=0, solver='liblinear', tol=0.0001, verbose=0,\n",
            "                   warm_start=False)\n",
            "Coefficients: \n",
            " [[-1.24832926  0.17094084  3.83620881  1.88247633 -0.38236267]]\n",
            "Accuracy on Train :  98.6\n",
            "Accuracy on Test1 :  89.23\n",
            "Accuracy on Test2 :  95.65\n",
            "For Test1 dataset\n",
            "Confusion Matrix:\n",
            "[[1671   22]\n",
            " [ 265  707]]\n",
            "\n",
            "Classification Report:\n",
            "              precision    recall  f1-score   support\n",
            "\n",
            "           0       0.86      0.99      0.92      1693\n",
            "           1       0.97      0.73      0.83       972\n",
            "\n",
            "    accuracy                           0.89      2665\n",
            "   macro avg       0.92      0.86      0.88      2665\n",
            "weighted avg       0.90      0.89      0.89      2665\n",
            "\n",
            "\n",
            "Accuracy: 0.8923076923076924\n",
            "For Test2 dataset\n",
            "Confusion Matrix:\n",
            "[[7649   54]\n",
            " [ 370 1679]]\n",
            "\n",
            "Classification Report:\n",
            "              precision    recall  f1-score   support\n",
            "\n",
            "           0       0.95      0.99      0.97      7703\n",
            "           1       0.97      0.82      0.89      2049\n",
            "\n",
            "    accuracy                           0.96      9752\n",
            "   macro avg       0.96      0.91      0.93      9752\n",
            "weighted avg       0.96      0.96      0.96      9752\n",
            "\n",
            "\n",
            "Accuracy: 0.9565217391304348\n",
            "\n"
          ],
          "name": "stdout"
        }
      ]
    },
    {
      "cell_type": "code",
      "metadata": {
        "colab": {
          "base_uri": "https://localhost:8080/"
        },
        "id": "9b_VNXelRkZW",
        "outputId": "8d7393a2-a283-486d-bf13-1e6ff3fb62e5"
      },
      "source": [
        "solv = {\"newton-cg\", \"lbfgs\", \"liblinear\", \"sag\", \"saga\"} # It represents which algorithm to use in the optimization problem. \n",
        "A= []\n",
        "for a in solv:\n",
        "    C = []\n",
        "    LR = LogisticRegression(random_state=0, solver = a)\n",
        "    print(LR)\n",
        "    LR.fit(X_scaled_train, Y_train)\n",
        "    Y_pred1 = LR.predict(X_scaled_test1)\n",
        "    Y_pred2 = LR.predict(X_scaled_test2)\n",
        "    # accuracy \n",
        "    C.append(a)\n",
        "    C.append(round(LR.score(X_scaled_train, Y_train)*100, 2))\n",
        "    C.append(round(LR.score(X_scaled_test1, Y_test1)*100, 2))\n",
        "    C.append(round(LR.score(X_scaled_test2, Y_test2)*100, 2))\n",
        "\n",
        "    A.append(C)"
      ],
      "execution_count": 23,
      "outputs": [
        {
          "output_type": "stream",
          "text": [
            "LogisticRegression(C=1.0, class_weight=None, dual=False, fit_intercept=True,\n",
            "                   intercept_scaling=1, l1_ratio=None, max_iter=100,\n",
            "                   multi_class='auto', n_jobs=None, penalty='l2',\n",
            "                   random_state=0, solver='sag', tol=0.0001, verbose=0,\n",
            "                   warm_start=False)\n",
            "LogisticRegression(C=1.0, class_weight=None, dual=False, fit_intercept=True,\n",
            "                   intercept_scaling=1, l1_ratio=None, max_iter=100,\n",
            "                   multi_class='auto', n_jobs=None, penalty='l2',\n",
            "                   random_state=0, solver='saga', tol=0.0001, verbose=0,\n",
            "                   warm_start=False)\n",
            "LogisticRegression(C=1.0, class_weight=None, dual=False, fit_intercept=True,\n",
            "                   intercept_scaling=1, l1_ratio=None, max_iter=100,\n",
            "                   multi_class='auto', n_jobs=None, penalty='l2',\n",
            "                   random_state=0, solver='newton-cg', tol=0.0001, verbose=0,\n",
            "                   warm_start=False)\n",
            "LogisticRegression(C=1.0, class_weight=None, dual=False, fit_intercept=True,\n",
            "                   intercept_scaling=1, l1_ratio=None, max_iter=100,\n",
            "                   multi_class='auto', n_jobs=None, penalty='l2',\n",
            "                   random_state=0, solver='lbfgs', tol=0.0001, verbose=0,\n",
            "                   warm_start=False)\n",
            "LogisticRegression(C=1.0, class_weight=None, dual=False, fit_intercept=True,\n",
            "                   intercept_scaling=1, l1_ratio=None, max_iter=100,\n",
            "                   multi_class='auto', n_jobs=None, penalty='l2',\n",
            "                   random_state=0, solver='liblinear', tol=0.0001, verbose=0,\n",
            "                   warm_start=False)\n"
          ],
          "name": "stdout"
        }
      ]
    },
    {
      "cell_type": "code",
      "metadata": {
        "colab": {
          "base_uri": "https://localhost:8080/"
        },
        "id": "8gBW59lznZRa",
        "outputId": "3c6c6725-dc85-45c1-b468-0e4341e72f80"
      },
      "source": [
        "A"
      ],
      "execution_count": 24,
      "outputs": [
        {
          "output_type": "execute_result",
          "data": {
            "text/plain": [
              "[['sag', 98.6, 89.04, 95.61],\n",
              " ['saga', 98.6, 89.04, 95.63],\n",
              " ['newton-cg', 98.6, 89.04, 95.61],\n",
              " ['lbfgs', 98.6, 89.04, 95.61],\n",
              " ['liblinear', 98.6, 89.23, 95.65]]"
            ]
          },
          "metadata": {
            "tags": []
          },
          "execution_count": 24
        }
      ]
    },
    {
      "cell_type": "code",
      "metadata": {
        "id": "UURpW_unTdCI"
      },
      "source": [
        "k = A[0]\n",
        "\n",
        "k[0] = \"Logistic Regression\""
      ],
      "execution_count": 25,
      "outputs": []
    },
    {
      "cell_type": "code",
      "metadata": {
        "id": "6TXTpkHpUJ1Q"
      },
      "source": [
        ""
      ],
      "execution_count": 25,
      "outputs": []
    },
    {
      "cell_type": "code",
      "metadata": {
        "id": "N1UU_RFIQrQZ"
      },
      "source": [
        "d = pd.DataFrame(A,columns =['Solver','Train','Test1','Test2'])"
      ],
      "execution_count": 26,
      "outputs": []
    },
    {
      "cell_type": "code",
      "metadata": {
        "colab": {
          "base_uri": "https://localhost:8080/",
          "height": 225
        },
        "id": "kTiVQb-FSK1e",
        "outputId": "150f5d1a-7a31-4062-ce2f-9bf147921ad3"
      },
      "source": [
        "d.set_index('Solver')"
      ],
      "execution_count": 27,
      "outputs": [
        {
          "output_type": "execute_result",
          "data": {
            "text/html": [
              "<div>\n",
              "<style scoped>\n",
              "    .dataframe tbody tr th:only-of-type {\n",
              "        vertical-align: middle;\n",
              "    }\n",
              "\n",
              "    .dataframe tbody tr th {\n",
              "        vertical-align: top;\n",
              "    }\n",
              "\n",
              "    .dataframe thead th {\n",
              "        text-align: right;\n",
              "    }\n",
              "</style>\n",
              "<table border=\"1\" class=\"dataframe\">\n",
              "  <thead>\n",
              "    <tr style=\"text-align: right;\">\n",
              "      <th></th>\n",
              "      <th>Train</th>\n",
              "      <th>Test1</th>\n",
              "      <th>Test2</th>\n",
              "    </tr>\n",
              "    <tr>\n",
              "      <th>Solver</th>\n",
              "      <th></th>\n",
              "      <th></th>\n",
              "      <th></th>\n",
              "    </tr>\n",
              "  </thead>\n",
              "  <tbody>\n",
              "    <tr>\n",
              "      <th>Logistic Regression</th>\n",
              "      <td>98.6</td>\n",
              "      <td>89.04</td>\n",
              "      <td>95.61</td>\n",
              "    </tr>\n",
              "    <tr>\n",
              "      <th>saga</th>\n",
              "      <td>98.6</td>\n",
              "      <td>89.04</td>\n",
              "      <td>95.63</td>\n",
              "    </tr>\n",
              "    <tr>\n",
              "      <th>newton-cg</th>\n",
              "      <td>98.6</td>\n",
              "      <td>89.04</td>\n",
              "      <td>95.61</td>\n",
              "    </tr>\n",
              "    <tr>\n",
              "      <th>lbfgs</th>\n",
              "      <td>98.6</td>\n",
              "      <td>89.04</td>\n",
              "      <td>95.61</td>\n",
              "    </tr>\n",
              "    <tr>\n",
              "      <th>liblinear</th>\n",
              "      <td>98.6</td>\n",
              "      <td>89.23</td>\n",
              "      <td>95.65</td>\n",
              "    </tr>\n",
              "  </tbody>\n",
              "</table>\n",
              "</div>"
            ],
            "text/plain": [
              "                     Train  Test1  Test2\n",
              "Solver                                  \n",
              "Logistic Regression   98.6  89.04  95.61\n",
              "saga                  98.6  89.04  95.63\n",
              "newton-cg             98.6  89.04  95.61\n",
              "lbfgs                 98.6  89.04  95.61\n",
              "liblinear             98.6  89.23  95.65"
            ]
          },
          "metadata": {
            "tags": []
          },
          "execution_count": 27
        }
      ]
    },
    {
      "cell_type": "code",
      "metadata": {
        "id": "XXKlBQU5TbDI"
      },
      "source": [
        "F = []\n",
        "F.append(k)"
      ],
      "execution_count": 28,
      "outputs": []
    },
    {
      "cell_type": "code",
      "metadata": {
        "colab": {
          "base_uri": "https://localhost:8080/"
        },
        "id": "sZ5hpdPQUQ_5",
        "outputId": "4624b950-9c33-45ea-d857-236fdeb422c4"
      },
      "source": [
        "F"
      ],
      "execution_count": 29,
      "outputs": [
        {
          "output_type": "execute_result",
          "data": {
            "text/plain": [
              "[['Logistic Regression', 98.6, 89.04, 95.61]]"
            ]
          },
          "metadata": {
            "tags": []
          },
          "execution_count": 29
        }
      ]
    },
    {
      "cell_type": "markdown",
      "metadata": {
        "id": "UyNwAv60vt10"
      },
      "source": [
        "#Naive Bayes"
      ]
    },
    {
      "cell_type": "code",
      "metadata": {
        "colab": {
          "base_uri": "https://localhost:8080/"
        },
        "id": "YcIAPhCMndvd",
        "outputId": "cf886f00-9446-4d8e-d55b-c5c847130e95"
      },
      "source": [
        "from sklearn.naive_bayes import GaussianNB\n",
        "# GNB Classifier\n",
        "GNB = GaussianNB()\n",
        "g = ['GaussianNB']\n",
        "# training\n",
        "GNB.fit(X_scaled_train, Y_train)\n",
        "\n",
        "# predictions\n",
        "Y_pred1 = GNB.predict(X_scaled_test1)\n",
        "Y_pred2 = GNB.predict(X_scaled_test2)\n",
        "# accuracy\n",
        "a = round(GNB.score(X_scaled_train,Y_train)*100,2)\n",
        "acc1 = round(GNB.score(X_scaled_test1, Y_test1)*100, 2)\n",
        "acc2 = round(GNB.score(X_scaled_test2, Y_test2)*100, 2)\n",
        "g.append(a)\n",
        "g.append(acc1)\n",
        "g.append(acc2)\n",
        "\n",
        "print(a)\n",
        "print(acc1)\n",
        "print(acc2)"
      ],
      "execution_count": 30,
      "outputs": [
        {
          "output_type": "stream",
          "text": [
            "97.89\n",
            "90.39\n",
            "99.15\n"
          ],
          "name": "stdout"
        }
      ]
    },
    {
      "cell_type": "code",
      "metadata": {
        "id": "KlYtQCTmVe3T"
      },
      "source": [
        "F.append(g)"
      ],
      "execution_count": 31,
      "outputs": []
    },
    {
      "cell_type": "code",
      "metadata": {
        "colab": {
          "base_uri": "https://localhost:8080/"
        },
        "id": "mLhfIWD8W12I",
        "outputId": "8afac27f-256c-462e-e642-db9021f7f590"
      },
      "source": [
        "F"
      ],
      "execution_count": 32,
      "outputs": [
        {
          "output_type": "execute_result",
          "data": {
            "text/plain": [
              "[['Logistic Regression', 98.6, 89.04, 95.61],\n",
              " ['GaussianNB', 97.89, 90.39, 99.15]]"
            ]
          },
          "metadata": {
            "tags": []
          },
          "execution_count": 32
        }
      ]
    },
    {
      "cell_type": "code",
      "metadata": {
        "colab": {
          "base_uri": "https://localhost:8080/"
        },
        "id": "fhdcib-PwM7K",
        "outputId": "484dc398-d226-4e47-f0fa-e3b09d3c9376"
      },
      "source": [
        "# Confusion Matrix \n",
        "result = confusion_matrix(Y_test1, Y_pred1)\n",
        "print(\"Confusion Matrix:\")\n",
        "print(result)\n",
        "# Classification report\n",
        "result1 = classification_report(Y_test1, Y_pred1)\n",
        "print(\"\\nClassification Report:\")\n",
        "print (result1)\n",
        "# Accuracy score\n",
        "result2 = accuracy_score(Y_test1, Y_pred1)\n",
        "print(\"\\nAccuracy:\",result2)\n",
        "\n",
        "# Confusion Matrix \n",
        "result = confusion_matrix(Y_test2, Y_pred2)\n",
        "print(\"Confusion Matrix:\")\n",
        "print(result)\n",
        "# Classification report\n",
        "result1 = classification_report(Y_test2, Y_pred2)\n",
        "print(\"\\nClassification Report:\")\n",
        "print (result1)\n",
        " # Accuracy score\n",
        "result2 = accuracy_score(Y_test2, Y_pred2)\n",
        "print(\"\\nAccuracy:\",result2)"
      ],
      "execution_count": 33,
      "outputs": [
        {
          "output_type": "stream",
          "text": [
            "Confusion Matrix:\n",
            "[[1682   11]\n",
            " [ 245  727]]\n",
            "\n",
            "Classification Report:\n",
            "              precision    recall  f1-score   support\n",
            "\n",
            "           0       0.87      0.99      0.93      1693\n",
            "           1       0.99      0.75      0.85       972\n",
            "\n",
            "    accuracy                           0.90      2665\n",
            "   macro avg       0.93      0.87      0.89      2665\n",
            "weighted avg       0.91      0.90      0.90      2665\n",
            "\n",
            "\n",
            "Accuracy: 0.9039399624765478\n",
            "Confusion Matrix:\n",
            "[[7635   68]\n",
            " [  15 2034]]\n",
            "\n",
            "Classification Report:\n",
            "              precision    recall  f1-score   support\n",
            "\n",
            "           0       1.00      0.99      0.99      7703\n",
            "           1       0.97      0.99      0.98      2049\n",
            "\n",
            "    accuracy                           0.99      9752\n",
            "   macro avg       0.98      0.99      0.99      9752\n",
            "weighted avg       0.99      0.99      0.99      9752\n",
            "\n",
            "\n",
            "Accuracy: 0.9914889253486464\n"
          ],
          "name": "stdout"
        }
      ]
    },
    {
      "cell_type": "markdown",
      "metadata": {
        "id": "Teaf-INZOrHl"
      },
      "source": [
        "# K  nearest neighbours"
      ]
    },
    {
      "cell_type": "code",
      "metadata": {
        "colab": {
          "base_uri": "https://localhost:8080/"
        },
        "id": "PCjfkYqrwgj0",
        "outputId": "0358cb19-9a59-473e-ea66-aeea1b635df9"
      },
      "source": [
        "from sklearn.neighbors import KNeighborsClassifier\n",
        "knnr = KNeighborsClassifier(n_neighbors = 5, weights='uniform')                     \n",
        "knnr.fit(X_scaled_train, Y_train)\n",
        "a = ['KNeighborsClassifier']\n",
        "# accuracy \n",
        "a.append(round(knnr.score(X_scaled_train, Y_train)*100, 2))\n",
        "a.append(round(knnr.score(X_scaled_test1, Y_test1)*100, 2))\n",
        "a.append(round(knnr.score(X_scaled_test2, Y_test2)*100, 2))\n",
        "\n",
        "\n",
        "print('Accuracy on Train : ', round(knnr.score(X_scaled_train, Y_train)*100, 2))\n",
        "print('Accuracy on Test1 : ', round(knnr.score(X_scaled_test1, Y_test1)*100, 2))\n",
        "print('Accuracy on Test2 : ', round(knnr.score(X_scaled_test2, Y_test2)*100, 2))"
      ],
      "execution_count": 34,
      "outputs": [
        {
          "output_type": "stream",
          "text": [
            "Accuracy on Train :  99.58\n",
            "Accuracy on Test1 :  96.06\n",
            "Accuracy on Test2 :  96.67\n"
          ],
          "name": "stdout"
        }
      ]
    },
    {
      "cell_type": "code",
      "metadata": {
        "id": "hrOwjlncXbin"
      },
      "source": [
        "F.append(a)"
      ],
      "execution_count": 35,
      "outputs": []
    },
    {
      "cell_type": "code",
      "metadata": {
        "colab": {
          "base_uri": "https://localhost:8080/"
        },
        "id": "4VGkISLAXdO2",
        "outputId": "3c9ccb95-76ba-463f-9b40-5d4a67108bcf"
      },
      "source": [
        "F"
      ],
      "execution_count": 36,
      "outputs": [
        {
          "output_type": "execute_result",
          "data": {
            "text/plain": [
              "[['Logistic Regression', 98.6, 89.04, 95.61],\n",
              " ['GaussianNB', 97.89, 90.39, 99.15],\n",
              " ['KNeighborsClassifier', 99.58, 96.06, 96.67]]"
            ]
          },
          "metadata": {
            "tags": []
          },
          "execution_count": 36
        }
      ]
    },
    {
      "cell_type": "code",
      "metadata": {
        "colab": {
          "base_uri": "https://localhost:8080/"
        },
        "id": "zYdBzdosPgH8",
        "outputId": "b9ac28f1-f63c-42c8-dcd9-e07f6f39d176"
      },
      "source": [
        "# predictions\n",
        "Y_pred1 = knnr.predict(X_scaled_test1)\n",
        "Y_pred2 = knnr.predict(X_scaled_test2)\n",
        "# Confusion Matrix \n",
        "result = confusion_matrix(Y_test1, Y_pred1)\n",
        "\n",
        "print(\"Confusion Matrix:\")\n",
        "print(result)\n",
        "# Classification report\n",
        "result1 = classification_report(Y_test1, Y_pred1)\n",
        "print(\"\\nClassification Report:\")\n",
        "print (result1)\n",
        "# Accuracy score\n",
        "result2 = accuracy_score(Y_test1, Y_pred1)\n",
        "print(\"\\nAccuracy:\",result2)\n",
        "\n",
        "# Confusion Matrix \n",
        "result = confusion_matrix(Y_test2, Y_pred2)\n",
        "print(\"Confusion Matrix:\")\n",
        "print(result)\n",
        "# Classification report\n",
        "result1 = classification_report(Y_test2, Y_pred2)\n",
        "print(\"\\nClassification Report:\")\n",
        "print (result1)\n",
        " # Accuracy score\n",
        "result2 = accuracy_score(Y_test2, Y_pred2)\n",
        "print(\"\\nAccuracy:\",result2)\n"
      ],
      "execution_count": 37,
      "outputs": [
        {
          "output_type": "stream",
          "text": [
            "Confusion Matrix:\n",
            "[[1648   45]\n",
            " [  60  912]]\n",
            "\n",
            "Classification Report:\n",
            "              precision    recall  f1-score   support\n",
            "\n",
            "           0       0.96      0.97      0.97      1693\n",
            "           1       0.95      0.94      0.95       972\n",
            "\n",
            "    accuracy                           0.96      2665\n",
            "   macro avg       0.96      0.96      0.96      2665\n",
            "weighted avg       0.96      0.96      0.96      2665\n",
            "\n",
            "\n",
            "Accuracy: 0.9606003752345216\n",
            "Confusion Matrix:\n",
            "[[7568  135]\n",
            " [ 190 1859]]\n",
            "\n",
            "Classification Report:\n",
            "              precision    recall  f1-score   support\n",
            "\n",
            "           0       0.98      0.98      0.98      7703\n",
            "           1       0.93      0.91      0.92      2049\n",
            "\n",
            "    accuracy                           0.97      9752\n",
            "   macro avg       0.95      0.94      0.95      9752\n",
            "weighted avg       0.97      0.97      0.97      9752\n",
            "\n",
            "\n",
            "Accuracy: 0.9666735028712059\n"
          ],
          "name": "stdout"
        }
      ]
    },
    {
      "cell_type": "code",
      "metadata": {
        "id": "0qj4lCyLSNAN"
      },
      "source": [
        ""
      ],
      "execution_count": 37,
      "outputs": []
    },
    {
      "cell_type": "markdown",
      "metadata": {
        "id": "O0-D6VeIULm6"
      },
      "source": [
        "\n",
        "#Random Forest"
      ]
    },
    {
      "cell_type": "code",
      "metadata": {
        "colab": {
          "base_uri": "https://localhost:8080/"
        },
        "id": "N1W3w2MEUMuW",
        "outputId": "0307c1e3-4fe9-47d8-b73f-21ff985c4be5"
      },
      "source": [
        "from sklearn.ensemble import RandomForestClassifier\n",
        "# classifier\n",
        "RF = RandomForestClassifier(n_estimators = 50)\n",
        "a =['RandomForestClassifier']\n",
        "# training\n",
        "RF.fit(X_scaled_train, Y_train)\n",
        "# accuracy \n",
        "a.append(round(RF.score(X_scaled_train, Y_train)*100, 2))\n",
        "a.append(round(RF.score(X_scaled_test1, Y_test1)*100, 2))\n",
        "a.append(round(RF.score(X_scaled_test2, Y_test2)*100, 2))\n",
        "\n",
        "\n",
        "\n",
        "print('Accuracy on Train : ', round(RF.score(X_scaled_train, Y_train)*100, 2))\n",
        "print('Accuracy on Test1 : ', round(RF.score(X_scaled_test1, Y_test1)*100, 2))\n",
        "print('Accuracy on Test2 : ', round(RF.score(X_scaled_test2, Y_test2)*100, 2))\n",
        "\n",
        "# predictions\n",
        "Y_pred1 = RF.predict(X_scaled_test1)\n",
        "Y_pred2 = RF.predict(X_scaled_test2)\n",
        "\n",
        "# Confusion Matrix \n",
        "result = confusion_matrix(Y_test1, Y_pred1)\n",
        "print(\"Confusion Matrix:\")\n",
        "print(result)\n",
        "# Classification report\n",
        "result1 = classification_report(Y_test1, Y_pred1)\n",
        "print(\"\\nClassification Report:\")\n",
        "print (result1)\n",
        "# Accuracy score\n",
        "result2 = accuracy_score(Y_test1, Y_pred1)\n",
        "print(\"\\nAccuracy:\",result2)\n",
        "\n",
        "# Confusion Matrix \n",
        "result = confusion_matrix(Y_test2, Y_pred2)\n",
        "print(\"Confusion Matrix:\")\n",
        "print(result)\n",
        "# Classification report\n",
        "result1 = classification_report(Y_test2, Y_pred2)\n",
        "print(\"\\nClassification Report:\")\n",
        "print (result1)\n",
        " # Accuracy score\n",
        "result2 = accuracy_score(Y_test2, Y_pred2)\n",
        "print(\"\\nAccuracy:\",result2)\n",
        "\n"
      ],
      "execution_count": 38,
      "outputs": [
        {
          "output_type": "stream",
          "text": [
            "Accuracy on Train :  100.0\n",
            "Accuracy on Test1 :  92.35\n",
            "Accuracy on Test2 :  94.84\n",
            "Confusion Matrix:\n",
            "[[1656   37]\n",
            " [ 167  805]]\n",
            "\n",
            "Classification Report:\n",
            "              precision    recall  f1-score   support\n",
            "\n",
            "           0       0.91      0.98      0.94      1693\n",
            "           1       0.96      0.83      0.89       972\n",
            "\n",
            "    accuracy                           0.92      2665\n",
            "   macro avg       0.93      0.90      0.91      2665\n",
            "weighted avg       0.93      0.92      0.92      2665\n",
            "\n",
            "\n",
            "Accuracy: 0.9234521575984991\n",
            "Confusion Matrix:\n",
            "[[7671   32]\n",
            " [ 471 1578]]\n",
            "\n",
            "Classification Report:\n",
            "              precision    recall  f1-score   support\n",
            "\n",
            "           0       0.94      1.00      0.97      7703\n",
            "           1       0.98      0.77      0.86      2049\n",
            "\n",
            "    accuracy                           0.95      9752\n",
            "   macro avg       0.96      0.88      0.92      9752\n",
            "weighted avg       0.95      0.95      0.95      9752\n",
            "\n",
            "\n",
            "Accuracy: 0.9484208367514356\n"
          ],
          "name": "stdout"
        }
      ]
    },
    {
      "cell_type": "code",
      "metadata": {
        "colab": {
          "base_uri": "https://localhost:8080/"
        },
        "id": "Tc_4pNPfYBhp",
        "outputId": "d6a5f7ca-c27e-46c9-b13a-5d42d6052435"
      },
      "source": [
        "F.append(a)\n",
        "F"
      ],
      "execution_count": 39,
      "outputs": [
        {
          "output_type": "execute_result",
          "data": {
            "text/plain": [
              "[['Logistic Regression', 98.6, 89.04, 95.61],\n",
              " ['GaussianNB', 97.89, 90.39, 99.15],\n",
              " ['KNeighborsClassifier', 99.58, 96.06, 96.67],\n",
              " ['RandomForestClassifier', 100.0, 92.35, 94.84]]"
            ]
          },
          "metadata": {
            "tags": []
          },
          "execution_count": 39
        }
      ]
    },
    {
      "cell_type": "markdown",
      "metadata": {
        "id": "MRR1xiOqXmaK"
      },
      "source": [
        "#Support Vector Machine"
      ]
    },
    {
      "cell_type": "code",
      "metadata": {
        "colab": {
          "base_uri": "https://localhost:8080/"
        },
        "id": "XOCPCtF7Xltm",
        "outputId": "b91658ad-0b4c-4859-d032-7e3515b2b365"
      },
      "source": [
        "from sklearn.svm import SVC\n",
        "l = []\n",
        "kernels ={ \"rbf\",\"linear\"}\n",
        "for k in kernels:\n",
        "    sv=[]\n",
        "    sv.append(k)\n",
        "    print(k)\n",
        "    print()\n",
        "    sv.append\n",
        "    svm = SVC(kernel = k,gamma = 'scale')\n",
        "    svm.fit(X_scaled_train, Y_train)\n",
        "    Y_pred1 = svm.predict(X_scaled_test1)\n",
        "    Y_pred2 = svm.predict(X_scaled_test2)\n",
        "    print('Accuracy on Train : ', round(svm.score(X_scaled_train, Y_train)*100, 2))\n",
        "    print('Accuracy on Test1 : ', round(svm.score(X_scaled_test1, Y_test1)*100, 2))\n",
        "    print('Accuracy on Test2 : ', round(svm.score(X_scaled_test2, Y_test2)*100, 2))\n",
        "    sv.append(round(svm.score(X_scaled_train, Y_train)*100, 2))\n",
        "    sv.append(round(svm.score(X_scaled_test1, Y_test1)*100, 2))\n",
        "    sv.append(round(svm.score(X_scaled_test2, Y_test2)*100, 2))\n",
        "\n",
        "\n",
        "    # accuracy \n",
        "   \n",
        "       # Confusion Matrix \n",
        "    result = confusion_matrix(Y_test1, Y_pred1)\n",
        "    print(\"Confusion Matrix:\")\n",
        "    print(result)\n",
        "    # Classification report\n",
        "    result1 = classification_report(Y_test1, Y_pred1)\n",
        "    print(\"\\nClassification Report:\")\n",
        "    print(result1)\n",
        "    # Accuracy score\n",
        "    result2 = accuracy_score(Y_test1, Y_pred1)\n",
        "    print(\"\\nAccuracy:\",result2)\n",
        "    #   Confusion Matrix \n",
        "    result = confusion_matrix(Y_test2, Y_pred2)\n",
        "    print(\"Confusion Matrix:\")\n",
        "    print(result)\n",
        "    # Classification report\n",
        "    result1 = classification_report(Y_test2, Y_pred2)\n",
        "    print(\"\\nClassification Report:\")\n",
        "    print (result1)\n",
        "     # Accuracy score\n",
        "    result2 = accuracy_score(Y_test2, Y_pred2)\n",
        "    print(\"\\nAccuracy:\",result2)\n",
        "    print()\n",
        "    l.append(sv)"
      ],
      "execution_count": 40,
      "outputs": [
        {
          "output_type": "stream",
          "text": [
            "rbf\n",
            "\n",
            "Accuracy on Train :  98.88\n",
            "Accuracy on Test1 :  97.79\n",
            "Accuracy on Test2 :  97.87\n",
            "Confusion Matrix:\n",
            "[[1638   55]\n",
            " [   4  968]]\n",
            "\n",
            "Classification Report:\n",
            "              precision    recall  f1-score   support\n",
            "\n",
            "           0       1.00      0.97      0.98      1693\n",
            "           1       0.95      1.00      0.97       972\n",
            "\n",
            "    accuracy                           0.98      2665\n",
            "   macro avg       0.97      0.98      0.98      2665\n",
            "weighted avg       0.98      0.98      0.98      2665\n",
            "\n",
            "\n",
            "Accuracy: 0.9778611632270169\n",
            "Confusion Matrix:\n",
            "[[7640   63]\n",
            " [ 145 1904]]\n",
            "\n",
            "Classification Report:\n",
            "              precision    recall  f1-score   support\n",
            "\n",
            "           0       0.98      0.99      0.99      7703\n",
            "           1       0.97      0.93      0.95      2049\n",
            "\n",
            "    accuracy                           0.98      9752\n",
            "   macro avg       0.97      0.96      0.97      9752\n",
            "weighted avg       0.98      0.98      0.98      9752\n",
            "\n",
            "\n",
            "Accuracy: 0.9786710418375718\n",
            "\n",
            "linear\n",
            "\n",
            "Accuracy on Train :  98.62\n",
            "Accuracy on Test1 :  91.74\n",
            "Accuracy on Test2 :  99.24\n",
            "Confusion Matrix:\n",
            "[[1667   26]\n",
            " [ 194  778]]\n",
            "\n",
            "Classification Report:\n",
            "              precision    recall  f1-score   support\n",
            "\n",
            "           0       0.90      0.98      0.94      1693\n",
            "           1       0.97      0.80      0.88       972\n",
            "\n",
            "    accuracy                           0.92      2665\n",
            "   macro avg       0.93      0.89      0.91      2665\n",
            "weighted avg       0.92      0.92      0.92      2665\n",
            "\n",
            "\n",
            "Accuracy: 0.9174484052532833\n",
            "Confusion Matrix:\n",
            "[[7645   58]\n",
            " [  16 2033]]\n",
            "\n",
            "Classification Report:\n",
            "              precision    recall  f1-score   support\n",
            "\n",
            "           0       1.00      0.99      1.00      7703\n",
            "           1       0.97      0.99      0.98      2049\n",
            "\n",
            "    accuracy                           0.99      9752\n",
            "   macro avg       0.99      0.99      0.99      9752\n",
            "weighted avg       0.99      0.99      0.99      9752\n",
            "\n",
            "\n",
            "Accuracy: 0.9924118129614438\n",
            "\n"
          ],
          "name": "stdout"
        }
      ]
    },
    {
      "cell_type": "code",
      "metadata": {
        "id": "LMCoSDI0Y-TJ"
      },
      "source": [
        "c =l[1]\n",
        "c[0] = 'SVM'"
      ],
      "execution_count": 41,
      "outputs": []
    },
    {
      "cell_type": "code",
      "metadata": {
        "id": "vh97cWo9Zb_s"
      },
      "source": [
        " svq= pd.DataFrame(l,columns =['Solver','Train','Test1','Test2'])"
      ],
      "execution_count": 42,
      "outputs": []
    },
    {
      "cell_type": "code",
      "metadata": {
        "colab": {
          "base_uri": "https://localhost:8080/",
          "height": 106
        },
        "id": "7tlkFk4nZy7X",
        "outputId": "55d1e9a9-7d29-4d71-8f20-b7acde80f359"
      },
      "source": [
        "svq"
      ],
      "execution_count": 43,
      "outputs": [
        {
          "output_type": "execute_result",
          "data": {
            "text/html": [
              "<div>\n",
              "<style scoped>\n",
              "    .dataframe tbody tr th:only-of-type {\n",
              "        vertical-align: middle;\n",
              "    }\n",
              "\n",
              "    .dataframe tbody tr th {\n",
              "        vertical-align: top;\n",
              "    }\n",
              "\n",
              "    .dataframe thead th {\n",
              "        text-align: right;\n",
              "    }\n",
              "</style>\n",
              "<table border=\"1\" class=\"dataframe\">\n",
              "  <thead>\n",
              "    <tr style=\"text-align: right;\">\n",
              "      <th></th>\n",
              "      <th>Solver</th>\n",
              "      <th>Train</th>\n",
              "      <th>Test1</th>\n",
              "      <th>Test2</th>\n",
              "    </tr>\n",
              "  </thead>\n",
              "  <tbody>\n",
              "    <tr>\n",
              "      <th>0</th>\n",
              "      <td>rbf</td>\n",
              "      <td>98.88</td>\n",
              "      <td>97.79</td>\n",
              "      <td>97.87</td>\n",
              "    </tr>\n",
              "    <tr>\n",
              "      <th>1</th>\n",
              "      <td>SVM</td>\n",
              "      <td>98.62</td>\n",
              "      <td>91.74</td>\n",
              "      <td>99.24</td>\n",
              "    </tr>\n",
              "  </tbody>\n",
              "</table>\n",
              "</div>"
            ],
            "text/plain": [
              "  Solver  Train  Test1  Test2\n",
              "0    rbf  98.88  97.79  97.87\n",
              "1    SVM  98.62  91.74  99.24"
            ]
          },
          "metadata": {
            "tags": []
          },
          "execution_count": 43
        }
      ]
    },
    {
      "cell_type": "code",
      "metadata": {
        "id": "e0PV9xn-bo-V"
      },
      "source": [
        "F.append(c)"
      ],
      "execution_count": 44,
      "outputs": []
    },
    {
      "cell_type": "code",
      "metadata": {
        "colab": {
          "base_uri": "https://localhost:8080/"
        },
        "id": "03oycjTMcT1F",
        "outputId": "86af64f4-e87d-46a3-b720-714eb383abbb"
      },
      "source": [
        "F"
      ],
      "execution_count": 45,
      "outputs": [
        {
          "output_type": "execute_result",
          "data": {
            "text/plain": [
              "[['Logistic Regression', 98.6, 89.04, 95.61],\n",
              " ['GaussianNB', 97.89, 90.39, 99.15],\n",
              " ['KNeighborsClassifier', 99.58, 96.06, 96.67],\n",
              " ['RandomForestClassifier', 100.0, 92.35, 94.84],\n",
              " ['SVM', 98.62, 91.74, 99.24]]"
            ]
          },
          "metadata": {
            "tags": []
          },
          "execution_count": 45
        }
      ]
    },
    {
      "cell_type": "markdown",
      "metadata": {
        "id": "O_lfhi2fskX9"
      },
      "source": [
        "#ANNs"
      ]
    },
    {
      "cell_type": "code",
      "metadata": {
        "id": "nvEf1_NzsjqQ"
      },
      "source": [
        "import keras\n",
        "import tensorflow as tf\n",
        "from keras.models import Sequential\n",
        "from keras.layers import Dense\n",
        "from keras.layers import Dropout\n",
        "from tensorflow.keras.optimizers import Adam"
      ],
      "execution_count": 46,
      "outputs": []
    },
    {
      "cell_type": "code",
      "metadata": {
        "id": "CD2yhUVWsngj"
      },
      "source": [
        "model = Sequential()\n",
        "model.add(Dense(128, input_dim =5, activation='relu'))\n",
        "model.add(Dropout(rate=0.3))\n",
        "model.add(Dense(32, activation='relu'))\n",
        "model.add(Dense(8, activation='relu'))\n",
        "model.add(Dense(1, activation='sigmoid'))"
      ],
      "execution_count": 47,
      "outputs": []
    },
    {
      "cell_type": "code",
      "metadata": {
        "id": "sGZPH_g7txrc",
        "colab": {
          "base_uri": "https://localhost:8080/"
        },
        "outputId": "07622143-0afc-4058-c6c6-9009ad2a9aca"
      },
      "source": [
        "model.compile(loss='binary_crossentropy', optimizer='adam', metrics=['accuracy']) #binary_crossentropy is used for binary classification\n",
        "history = model.fit(X_scaled_train,Y_train,epochs=20,verbose=True, validation_split=.1)\n",
        "model.summary()"
      ],
      "execution_count": 48,
      "outputs": [
        {
          "output_type": "stream",
          "text": [
            "Epoch 1/20\n",
            "229/229 [==============================] - 2s 4ms/step - loss: 0.2455 - accuracy: 0.9502 - val_loss: 0.0931 - val_accuracy: 0.9387\n",
            "Epoch 2/20\n",
            "229/229 [==============================] - 0s 2ms/step - loss: 0.0495 - accuracy: 0.9865 - val_loss: 0.1616 - val_accuracy: 0.9337\n",
            "Epoch 3/20\n",
            "229/229 [==============================] - 0s 2ms/step - loss: 0.0438 - accuracy: 0.9861 - val_loss: 0.1532 - val_accuracy: 0.9350\n",
            "Epoch 4/20\n",
            "229/229 [==============================] - 0s 2ms/step - loss: 0.0403 - accuracy: 0.9888 - val_loss: 0.2287 - val_accuracy: 0.9337\n",
            "Epoch 5/20\n",
            "229/229 [==============================] - 0s 2ms/step - loss: 0.0453 - accuracy: 0.9841 - val_loss: 0.2494 - val_accuracy: 0.9337\n",
            "Epoch 6/20\n",
            "229/229 [==============================] - 0s 2ms/step - loss: 0.0327 - accuracy: 0.9893 - val_loss: 0.2581 - val_accuracy: 0.9337\n",
            "Epoch 7/20\n",
            "229/229 [==============================] - 0s 2ms/step - loss: 0.0355 - accuracy: 0.9893 - val_loss: 0.2379 - val_accuracy: 0.9337\n",
            "Epoch 8/20\n",
            "229/229 [==============================] - 0s 2ms/step - loss: 0.0325 - accuracy: 0.9889 - val_loss: 0.3161 - val_accuracy: 0.9337\n",
            "Epoch 9/20\n",
            "229/229 [==============================] - 0s 2ms/step - loss: 0.0352 - accuracy: 0.9882 - val_loss: 0.2560 - val_accuracy: 0.9337\n",
            "Epoch 10/20\n",
            "229/229 [==============================] - 0s 2ms/step - loss: 0.0330 - accuracy: 0.9881 - val_loss: 0.2414 - val_accuracy: 0.9337\n",
            "Epoch 11/20\n",
            "229/229 [==============================] - 0s 2ms/step - loss: 0.0300 - accuracy: 0.9897 - val_loss: 0.2430 - val_accuracy: 0.9337\n",
            "Epoch 12/20\n",
            "229/229 [==============================] - 0s 2ms/step - loss: 0.0348 - accuracy: 0.9888 - val_loss: 0.2151 - val_accuracy: 0.9337\n",
            "Epoch 13/20\n",
            "229/229 [==============================] - 0s 2ms/step - loss: 0.0310 - accuracy: 0.9901 - val_loss: 0.1657 - val_accuracy: 0.9350\n",
            "Epoch 14/20\n",
            "229/229 [==============================] - 0s 2ms/step - loss: 0.0304 - accuracy: 0.9907 - val_loss: 0.2138 - val_accuracy: 0.9337\n",
            "Epoch 15/20\n",
            "229/229 [==============================] - 0s 2ms/step - loss: 0.0291 - accuracy: 0.9910 - val_loss: 0.3044 - val_accuracy: 0.9337\n",
            "Epoch 16/20\n",
            "229/229 [==============================] - 0s 2ms/step - loss: 0.0284 - accuracy: 0.9903 - val_loss: 0.2740 - val_accuracy: 0.9337\n",
            "Epoch 17/20\n",
            "229/229 [==============================] - 0s 2ms/step - loss: 0.0300 - accuracy: 0.9913 - val_loss: 0.2806 - val_accuracy: 0.9337\n",
            "Epoch 18/20\n",
            "229/229 [==============================] - 0s 2ms/step - loss: 0.0258 - accuracy: 0.9905 - val_loss: 0.3818 - val_accuracy: 0.9337\n",
            "Epoch 19/20\n",
            "229/229 [==============================] - 0s 2ms/step - loss: 0.0267 - accuracy: 0.9898 - val_loss: 0.2431 - val_accuracy: 0.9337\n",
            "Epoch 20/20\n",
            "229/229 [==============================] - 0s 2ms/step - loss: 0.0285 - accuracy: 0.9897 - val_loss: 0.2597 - val_accuracy: 0.9337\n",
            "Model: \"sequential\"\n",
            "_________________________________________________________________\n",
            "Layer (type)                 Output Shape              Param #   \n",
            "=================================================================\n",
            "dense (Dense)                (None, 128)               768       \n",
            "_________________________________________________________________\n",
            "dropout (Dropout)            (None, 128)               0         \n",
            "_________________________________________________________________\n",
            "dense_1 (Dense)              (None, 32)                4128      \n",
            "_________________________________________________________________\n",
            "dense_2 (Dense)              (None, 8)                 264       \n",
            "_________________________________________________________________\n",
            "dense_3 (Dense)              (None, 1)                 9         \n",
            "=================================================================\n",
            "Total params: 5,169\n",
            "Trainable params: 5,169\n",
            "Non-trainable params: 0\n",
            "_________________________________________________________________\n"
          ],
          "name": "stdout"
        }
      ]
    },
    {
      "cell_type": "code",
      "metadata": {
        "id": "8vU74-pduWDQ"
      },
      "source": [
        "y_pred1 = model.predict(X_scaled_test1)\n",
        "y_pred2 = model.predict(X_scaled_test2)\n",
        "p = []\n",
        "u = ['Loss']\n",
        "w=['Accuracy']"
      ],
      "execution_count": 49,
      "outputs": []
    },
    {
      "cell_type": "code",
      "metadata": {
        "colab": {
          "base_uri": "https://localhost:8080/"
        },
        "id": "j1yOLaaDdDIQ",
        "outputId": "629893a4-7ed3-4a7f-e9d7-907cf26dd05b"
      },
      "source": [
        "loss, accuracy  = model.evaluate(X_scaled_train, \n",
        "                            Y_train, verbose=True)\n",
        "u.append(round(loss,3))"
      ],
      "execution_count": 50,
      "outputs": [
        {
          "output_type": "stream",
          "text": [
            "255/255 [==============================] - 0s 962us/step - loss: 0.0482 - accuracy: 0.9862\n"
          ],
          "name": "stdout"
        }
      ]
    },
    {
      "cell_type": "code",
      "metadata": {
        "id": "D_YJfFd7dLNe"
      },
      "source": [
        "w.append(round(accuracy*100,2))"
      ],
      "execution_count": 51,
      "outputs": []
    },
    {
      "cell_type": "code",
      "metadata": {
        "colab": {
          "base_uri": "https://localhost:8080/"
        },
        "id": "cvI00_bUuOz9",
        "outputId": "73b2eb64-00f0-455b-e214-3cbd0400c72e"
      },
      "source": [
        "loss1, accuracy1  = model.evaluate(X_scaled_test1, \n",
        "                            Y_test1, verbose=True)\n",
        "loss1  , accuracy1"
      ],
      "execution_count": 52,
      "outputs": [
        {
          "output_type": "stream",
          "text": [
            "84/84 [==============================] - 0s 981us/step - loss: 0.2271 - accuracy: 0.8998\n"
          ],
          "name": "stdout"
        },
        {
          "output_type": "execute_result",
          "data": {
            "text/plain": [
              "(0.22708088159561157, 0.8998124003410339)"
            ]
          },
          "metadata": {
            "tags": []
          },
          "execution_count": 52
        }
      ]
    },
    {
      "cell_type": "code",
      "metadata": {
        "colab": {
          "base_uri": "https://localhost:8080/"
        },
        "id": "GeufjfwtvVgg",
        "outputId": "8aa94bc5-af27-42fc-c713-b7a141c2b8e4"
      },
      "source": [
        "loss2, accuracy2  = model.evaluate(X_scaled_test2, \n",
        "                            Y_test2, verbose=True)\n",
        "loss2  , accuracy2"
      ],
      "execution_count": 53,
      "outputs": [
        {
          "output_type": "stream",
          "text": [
            "305/305 [==============================] - 0s 964us/step - loss: 0.1621 - accuracy: 0.9328\n"
          ],
          "name": "stdout"
        },
        {
          "output_type": "execute_result",
          "data": {
            "text/plain": [
              "(0.1620727926492691, 0.932834267616272)"
            ]
          },
          "metadata": {
            "tags": []
          },
          "execution_count": 53
        }
      ]
    },
    {
      "cell_type": "code",
      "metadata": {
        "id": "6j0qDZaQvZFc"
      },
      "source": [
        "w.append(round(accuracy1*100,2))\n",
        "w.append(round(accuracy2*100,2))"
      ],
      "execution_count": 54,
      "outputs": []
    },
    {
      "cell_type": "code",
      "metadata": {
        "id": "eT27BDjZeYaR"
      },
      "source": [
        "u.append(round(loss1,3))\n",
        "u.append(round(loss2,3))"
      ],
      "execution_count": 55,
      "outputs": []
    },
    {
      "cell_type": "code",
      "metadata": {
        "colab": {
          "base_uri": "https://localhost:8080/"
        },
        "id": "j_UnTvnxdof7",
        "outputId": "940bffe8-c3ba-488c-8d90-b6f433b0fe1d"
      },
      "source": [
        "w"
      ],
      "execution_count": 56,
      "outputs": [
        {
          "output_type": "execute_result",
          "data": {
            "text/plain": [
              "['Accuracy', 98.62, 89.98, 93.28]"
            ]
          },
          "metadata": {
            "tags": []
          },
          "execution_count": 56
        }
      ]
    },
    {
      "cell_type": "code",
      "metadata": {
        "colab": {
          "base_uri": "https://localhost:8080/"
        },
        "id": "9UAxyAqsdjWt",
        "outputId": "22a509a9-c26d-4550-b774-196daaeb1827"
      },
      "source": [
        "u"
      ],
      "execution_count": 57,
      "outputs": [
        {
          "output_type": "execute_result",
          "data": {
            "text/plain": [
              "['Loss', 0.048, 0.227, 0.162]"
            ]
          },
          "metadata": {
            "tags": []
          },
          "execution_count": 57
        }
      ]
    },
    {
      "cell_type": "code",
      "metadata": {
        "id": "adUFUg6-eaUf"
      },
      "source": [
        "p.append(w)\n",
        "p.append(u)"
      ],
      "execution_count": 58,
      "outputs": []
    },
    {
      "cell_type": "code",
      "metadata": {
        "colab": {
          "base_uri": "https://localhost:8080/"
        },
        "id": "z2FE4uOfex7r",
        "outputId": "3a44f0af-d1e8-489b-8263-e03f57469901"
      },
      "source": [
        "p"
      ],
      "execution_count": 59,
      "outputs": [
        {
          "output_type": "execute_result",
          "data": {
            "text/plain": [
              "[['Accuracy', 98.62, 89.98, 93.28], ['Loss', 0.048, 0.227, 0.162]]"
            ]
          },
          "metadata": {
            "tags": []
          },
          "execution_count": 59
        }
      ]
    },
    {
      "cell_type": "code",
      "metadata": {
        "colab": {
          "base_uri": "https://localhost:8080/",
          "height": 106
        },
        "id": "_pvB_qGHeyoS",
        "outputId": "9703d2eb-233a-4017-922e-5d16bb4ce50a"
      },
      "source": [
        "P = pd.DataFrame(p , columns =['','Train','Test1','Test2'])\n",
        "P\n"
      ],
      "execution_count": 60,
      "outputs": [
        {
          "output_type": "execute_result",
          "data": {
            "text/html": [
              "<div>\n",
              "<style scoped>\n",
              "    .dataframe tbody tr th:only-of-type {\n",
              "        vertical-align: middle;\n",
              "    }\n",
              "\n",
              "    .dataframe tbody tr th {\n",
              "        vertical-align: top;\n",
              "    }\n",
              "\n",
              "    .dataframe thead th {\n",
              "        text-align: right;\n",
              "    }\n",
              "</style>\n",
              "<table border=\"1\" class=\"dataframe\">\n",
              "  <thead>\n",
              "    <tr style=\"text-align: right;\">\n",
              "      <th></th>\n",
              "      <th></th>\n",
              "      <th>Train</th>\n",
              "      <th>Test1</th>\n",
              "      <th>Test2</th>\n",
              "    </tr>\n",
              "  </thead>\n",
              "  <tbody>\n",
              "    <tr>\n",
              "      <th>0</th>\n",
              "      <td>Accuracy</td>\n",
              "      <td>98.620</td>\n",
              "      <td>89.980</td>\n",
              "      <td>93.280</td>\n",
              "    </tr>\n",
              "    <tr>\n",
              "      <th>1</th>\n",
              "      <td>Loss</td>\n",
              "      <td>0.048</td>\n",
              "      <td>0.227</td>\n",
              "      <td>0.162</td>\n",
              "    </tr>\n",
              "  </tbody>\n",
              "</table>\n",
              "</div>"
            ],
            "text/plain": [
              "              Train   Test1   Test2\n",
              "0  Accuracy  98.620  89.980  93.280\n",
              "1      Loss   0.048   0.227   0.162"
            ]
          },
          "metadata": {
            "tags": []
          },
          "execution_count": 60
        }
      ]
    },
    {
      "cell_type": "code",
      "metadata": {
        "colab": {
          "base_uri": "https://localhost:8080/"
        },
        "id": "0ws8aLb7e_FP",
        "outputId": "d45fa02d-5496-4b22-aa11-598549ad9ba2"
      },
      "source": [
        "F"
      ],
      "execution_count": 61,
      "outputs": [
        {
          "output_type": "execute_result",
          "data": {
            "text/plain": [
              "[['Logistic Regression', 98.6, 89.04, 95.61],\n",
              " ['GaussianNB', 97.89, 90.39, 99.15],\n",
              " ['KNeighborsClassifier', 99.58, 96.06, 96.67],\n",
              " ['RandomForestClassifier', 100.0, 92.35, 94.84],\n",
              " ['SVM', 98.62, 91.74, 99.24]]"
            ]
          },
          "metadata": {
            "tags": []
          },
          "execution_count": 61
        }
      ]
    },
    {
      "cell_type": "code",
      "metadata": {
        "colab": {
          "base_uri": "https://localhost:8080/"
        },
        "id": "2pBk9h4_i8ID",
        "outputId": "32712637-c735-48db-8ccc-fe9b1916b904"
      },
      "source": [
        "w[0] = 'ANN'\n",
        "w"
      ],
      "execution_count": null,
      "outputs": [
        {
          "output_type": "execute_result",
          "data": {
            "text/plain": [
              "['ANN', 98.58, 96.51, 97.26]"
            ]
          },
          "metadata": {
            "tags": []
          },
          "execution_count": 349
        }
      ]
    },
    {
      "cell_type": "code",
      "metadata": {
        "colab": {
          "base_uri": "https://localhost:8080/"
        },
        "id": "ntW1eHofi_2I",
        "outputId": "a0804d0f-e631-485c-fd5f-6af2c7e19271"
      },
      "source": [
        "F.remove(w)\n",
        "F"
      ],
      "execution_count": null,
      "outputs": [
        {
          "output_type": "execute_result",
          "data": {
            "text/plain": [
              "[['Logistic Regression', 98.6, 89.23, 95.65],\n",
              " ['GaussianNB', 97.89, 90.39, 99.15],\n",
              " ['KNeighborsClassifier', 99.58, 96.06, 96.67],\n",
              " ['RandomForestClassifier', 100.0, 92.72, 96.32],\n",
              " ['SVM', 98.88, 97.79, 97.87],\n",
              " ['ANN', 98.58, 96.51, 97.26]]"
            ]
          },
          "metadata": {
            "tags": []
          },
          "execution_count": 355
        }
      ]
    },
    {
      "cell_type": "code",
      "metadata": {
        "id": "k_fynZZajFep"
      },
      "source": [
        "DF = pd.DataFrame(F , columns =['Algorithm','Train','Test1','Test2'])"
      ],
      "execution_count": null,
      "outputs": []
    },
    {
      "cell_type": "code",
      "metadata": {
        "colab": {
          "base_uri": "https://localhost:8080/",
          "height": 225
        },
        "id": "2NvOx5q0kAq0",
        "outputId": "aafeb68c-9507-49d4-d5e8-46bf46e02742"
      },
      "source": [
        "DF"
      ],
      "execution_count": null,
      "outputs": [
        {
          "output_type": "execute_result",
          "data": {
            "text/html": [
              "<div>\n",
              "<style scoped>\n",
              "    .dataframe tbody tr th:only-of-type {\n",
              "        vertical-align: middle;\n",
              "    }\n",
              "\n",
              "    .dataframe tbody tr th {\n",
              "        vertical-align: top;\n",
              "    }\n",
              "\n",
              "    .dataframe thead th {\n",
              "        text-align: right;\n",
              "    }\n",
              "</style>\n",
              "<table border=\"1\" class=\"dataframe\">\n",
              "  <thead>\n",
              "    <tr style=\"text-align: right;\">\n",
              "      <th></th>\n",
              "      <th>Algorithm</th>\n",
              "      <th>Train</th>\n",
              "      <th>Test1</th>\n",
              "      <th>Test2</th>\n",
              "    </tr>\n",
              "  </thead>\n",
              "  <tbody>\n",
              "    <tr>\n",
              "      <th>0</th>\n",
              "      <td>Logistic Regression</td>\n",
              "      <td>98.60</td>\n",
              "      <td>89.23</td>\n",
              "      <td>95.65</td>\n",
              "    </tr>\n",
              "    <tr>\n",
              "      <th>1</th>\n",
              "      <td>GaussianNB</td>\n",
              "      <td>97.89</td>\n",
              "      <td>90.39</td>\n",
              "      <td>99.15</td>\n",
              "    </tr>\n",
              "    <tr>\n",
              "      <th>2</th>\n",
              "      <td>KNeighborsClassifier</td>\n",
              "      <td>99.58</td>\n",
              "      <td>96.06</td>\n",
              "      <td>96.67</td>\n",
              "    </tr>\n",
              "    <tr>\n",
              "      <th>3</th>\n",
              "      <td>RandomForestClassifier</td>\n",
              "      <td>100.00</td>\n",
              "      <td>92.72</td>\n",
              "      <td>96.32</td>\n",
              "    </tr>\n",
              "    <tr>\n",
              "      <th>4</th>\n",
              "      <td>SVM</td>\n",
              "      <td>98.88</td>\n",
              "      <td>97.79</td>\n",
              "      <td>97.87</td>\n",
              "    </tr>\n",
              "    <tr>\n",
              "      <th>5</th>\n",
              "      <td>ANN</td>\n",
              "      <td>98.58</td>\n",
              "      <td>96.51</td>\n",
              "      <td>97.26</td>\n",
              "    </tr>\n",
              "  </tbody>\n",
              "</table>\n",
              "</div>"
            ],
            "text/plain": [
              "                Algorithm   Train  Test1  Test2\n",
              "0     Logistic Regression   98.60  89.23  95.65\n",
              "1              GaussianNB   97.89  90.39  99.15\n",
              "2    KNeighborsClassifier   99.58  96.06  96.67\n",
              "3  RandomForestClassifier  100.00  92.72  96.32\n",
              "4                     SVM   98.88  97.79  97.87\n",
              "5                     ANN   98.58  96.51  97.26"
            ]
          },
          "metadata": {
            "tags": []
          },
          "execution_count": 360
        }
      ]
    },
    {
      "cell_type": "code",
      "metadata": {
        "colab": {
          "base_uri": "https://localhost:8080/",
          "height": 391
        },
        "id": "LqEixYFwkBPm",
        "outputId": "f45215e7-8c7f-42e4-a6e4-9e414f80acae"
      },
      "source": [
        "aplot = sns.barplot(x=\"Algorithm\", y = \"Train\", data = DF )\n",
        "plt.xticks(rotation = 90)\n",
        "aplot.set_ylim(95, 100)\n",
        "plt.show()"
      ],
      "execution_count": null,
      "outputs": [
        {
          "output_type": "display_data",
          "data": {
            "image/png": "[encoded data removed]",
            "text/plain": [
              "<Figure size 432x288 with 1 Axes>"
            ]
          },
          "metadata": {
            "tags": [],
            "needs_background": "light"
          }
        }
      ]
    },
    {
      "cell_type": "code",
      "metadata": {
        "colab": {
          "base_uri": "https://localhost:8080/",
          "height": 391
        },
        "id": "RC6Wb5NMo6V5",
        "outputId": "480961e8-4aed-41a5-d3c5-0dfd924c7db5"
      },
      "source": [
        "aplot = sns.barplot(x=\"Algorithm\", y = \"Test1\", data = DF  )\n",
        "plt.xticks(rotation = 90)\n",
        "aplot.set_ylim(80, 100)\n",
        "plt.show()"
      ],
      "execution_count": null,
      "outputs": [
        {
          "output_type": "display_data",
          "data": {
            "image/png": "[encoded data removed]",
            "text/plain": [
              "<Figure size 432x288 with 1 Axes>"
            ]
          },
          "metadata": {
            "tags": [],
            "needs_background": "light"
          }
        }
      ]
    },
    {
      "cell_type": "code",
      "metadata": {
        "colab": {
          "base_uri": "https://localhost:8080/",
          "height": 391
        },
        "id": "TfM0lhWxsE2v",
        "outputId": "f38967dd-b5f8-4b7a-83ff-805dd5d277a8"
      },
      "source": [
        "aplot = sns.barplot(x=\"Algorithm\", y = \"Test2\", data = DF  )\n",
        "plt.xticks(rotation = 90)\n",
        "aplot.set_ylim(90, 100)\n",
        "plt.show()"
      ],
      "execution_count": null,
      "outputs": [
        {
          "output_type": "display_data",
          "data": {
            "image/png": "[encoded data removed]",
            "text/plain": [
              "<Figure size 432x288 with 1 Axes>"
            ]
          },
          "metadata": {
            "tags": [],
            "needs_background": "light"
          }
        }
      ]
    },
    {
      "cell_type": "code",
      "metadata": {
        "id": "i9X2tmx8tC1A"
      },
      "source": [
        ""
      ],
      "execution_count": null,
      "outputs": []
    }
  ]
}